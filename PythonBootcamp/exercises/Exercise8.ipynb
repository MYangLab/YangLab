{
 "cells": [
  {
   "cell_type": "markdown",
   "metadata": {},
   "source": [
    "## Exercise 8.1: Using R Through Python!\n",
    "\n",
    "A. On Friday, you will be learning some basics of R! Install R, either manually through their site, or using the directions I gave in the lesson:\n",
    "\n",
    "```bash\n",
    "conda install r-essentials\n",
    "```\n",
    "\n",
    "Put the above in your Terminal - after installing (this may take a while, after it finishes, you should restart your Jupyter notebook in your Terminal - Ctrl+C, then exit and open a new Terminal and type in \"jupyter notebook\"), you will be able to open notebooks where you write R instead of python! You can use this to write R commands Albert teaches you in class on Friday. \n",
    "\n",
    "B. After installing R, you should be able to run R scripts through your terminal! Download the following files from the exercise folder (courtesy of Hongru!).  \n",
    "1. plotPcaFromSmartpca.R\n",
    "2. modernEastAsian.pca.evec\n",
    "3. modernEastAsian.pca.megaGroup\n",
    "\n",
    "You do not need to know what the data or script do, but the end result is a pdf titled \"modernEastAsian.pdf\" that gives a PCA for modern East Asian populations. \n",
    "\n",
    "Normally you would run this in the Terminal (feel free to try it out!), but we will run it using **subprocess.Popen**.\n",
    "\n",
    "```bash\n",
    "Rscript plotPcaFromSmartpca.R modernEastAsian.pca.evec modernEastAsian.pca.megaGroup 8 modernEastAsian\n",
    "```\n",
    "\n",
    "Using **subprocess.Popen**, send the output from the R script to a variable, and use it to make a **matplotlib** figure indicating the counts of each population (from greatest to least). \n",
    "\n",
    "C. Use **IPython.display** to open the resulting PCA pdf file \"modernEastAsian.pdf\" in your notebook. \n",
    "\n",
    "\n",
    "## Exercise 8.2: Writing mathematical functions\n",
    "\n",
    "A. Write a function that accepts an array of floats as inputs. Return an array where every value of the input array has been divided by 1.5. \n",
    "\n",
    "B. Use a **random** function (**uniform** or **normal**) to generate an array of floats. Write a function that accepts this array, and returns a list of values that are more than one standard deviation greater or less than the mean of the array.\n",
    "\n",
    "C. Write a function that estimates a p-value from the exponential distribution (another function in numpy - look it up!). The function should take a number as an input (lets call it x), and return an estimate at the probability that a number drawn from the exponential distribution will be equal to or greater than x. \n",
    "\n",
    "```\n",
    "HINT: To do problem 5.1C, generate many samples from the exponential distribution (use the default scale=1.0), count the number of samples greater than x, and divide the result by the number of samples you generated. \n",
    "\n",
    "Don't use a loop to count the number of samples greater than x. Instead look at what happens when you use np.sum() on a boolean array, or read about the method np.count_nonzero().\n",
    "\n",
    "Calling your function should look like this:\n",
    "```\n",
    "```python\n",
    "out = my_function(3)\n",
    "print(out) #prints 0.050316 (or close to this number)\n",
    "```\n",
    "\n",
    "## Exercise 8.3: Strings to arrays\n",
    "\n",
    "Remember when we wrote a script to calculate the amount of bases in a sequence between each A, G, C, and T in Lesson 3? We were looking at the periodicity of each base. Now, we'll write a function to check the periodicity of any string we give as input.\n",
    "\n",
    "A. Make a function that takes a DNA string as input (Only G, C, A, or T's) and an arbitrary substring (e.g. \"CT\"). The function should find all locations of the substring in the string and return it as an array.\n",
    "For Example:\n",
    "```python\n",
    "a = find_substring(\"GCACTTGCACGTACGCCGT\", \"AC\") \n",
    "# output 'a' contains [2, 8, 12] (or a numpy array with these values)\n",
    "```\n",
    "B. Make a function to find the difference between each pair of adjacent substrings. (Check if a numpy method does this?)\n",
    "For Example:\n",
    "```python\n",
    "differences = find_differences(a)\n",
    "# differences contains [6, 4]\n",
    "```\n",
    "C. Use the fasta-parser you've written to read the S.cerevisiae genome fasta file from Lesson 1. Then, using the functions in part (A) and (B), generate a full list of the spacings between 'CT' nucleotide pairs for each chromosome and return an array of the differences between adjacent positions\n",
    "\n",
    "D. Using **matplotlib**, compute the histogram of these spacings."
   ]
  },
  {
   "cell_type": "code",
   "execution_count": null,
   "metadata": {
    "collapsed": true
   },
   "outputs": [],
   "source": []
  }
 ],
 "metadata": {
  "kernelspec": {
   "display_name": "Python 2",
   "language": "python",
   "name": "python2"
  },
  "language_info": {
   "codemirror_mode": {
    "name": "ipython",
    "version": 2
   },
   "file_extension": ".py",
   "mimetype": "text/x-python",
   "name": "python",
   "nbconvert_exporter": "python",
   "pygments_lexer": "ipython2",
   "version": "2.7.13"
  }
 },
 "nbformat": 4,
 "nbformat_minor": 2
}
