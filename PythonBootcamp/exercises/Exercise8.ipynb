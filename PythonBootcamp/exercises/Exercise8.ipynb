{
 "cells": [
  {
   "cell_type": "markdown",
   "metadata": {},
   "source": [
    "## Exercise 8.1: Using subprocess\n",
    "\n",
    "In Exercise 1.2B, you used Unix to analyze the SGDPinfo.txt file, see the question below. Using subprocess, recreate the Unix commands in Python to get the same information. \n",
    "\n",
    "1.2B. From the SGDPinfo.txt file, pick find the Han and French - tell me the number of samples for each, the region they are from, and number of males and females, and who contributed their information."
   ]
  },
  {
   "cell_type": "markdown",
   "metadata": {},
   "source": [
    "## Exercise 8.2: Stacking\n",
    "\n",
    "Consider the following three lists - turn them into arrays and then stack them vertically and horizontally (you haven't learned these functions - do a google search to look them up) to make the following. Then, print the dimensions of each array. \n",
    "\n",
    "A. \n",
    "```python\n",
    "array([[1, 2],\n",
    "       [3, 4],\n",
    "       [5, 6]])\n",
    "```\n",
    "B. \n",
    "```python\n",
    "array([1, 2, 3, 4, 5, 6])\n",
    "```"
   ]
  },
  {
   "cell_type": "code",
   "execution_count": 9,
   "metadata": {},
   "outputs": [],
   "source": [
    "x=[1,2]\n",
    "y=[3,4]\n",
    "z=[5,6]"
   ]
  },
  {
   "cell_type": "markdown",
   "metadata": {
    "collapsed": true
   },
   "source": [
    "## Exercise 8.3: Writing mathematical functions\n",
    "\n",
    "A. Write a function that accepts an array of floats as inputs. Return an array where every value of the input array has been divided by 1.5. \n",
    "\n",
    "B. Use a function from the **random** module (**uniform** or **normal**) to generate an array of floats. Write a function that accepts this array, and returns a list of values that are more than one standard deviation greater or less than the mean of the array.\n",
    "\n",
    "C. Write a function that estimates a p-value from the exponential distribution (another function in numpy - look it up!). The function should take a number as an input (lets call it `x`), and return an estimate at the probability that a number drawn from the exponential distribution will be equal to or greater than x. \n",
    "\n",
    "```\n",
    "HINT: To do problem 5.1C, generate many samples from the exponential distribution (use the default scale=1.0), count the number of samples greater than x, and divide the result by the number of samples you generated. \n",
    "\n",
    "Don't use a loop to count the number of samples greater than x. Instead look at what happens when you use np.sum() on a boolean array, or read about the method np.count_nonzero().\n",
    "\n",
    "Calling your function should look like this:\n",
    "```\n",
    "```python\n",
    "out = my_function(3)\n",
    "print(out) #prints 0.050316 (or close to this number)\n",
    "```"
   ]
  },
  {
   "cell_type": "markdown",
   "metadata": {},
   "source": [
    "## Exercise 8.4: Exploring Numpy\n",
    "\n",
    "There's a lot of useful functions in Numpy. Read this article for some handy ones: [A Numpy cheatsheet](https://www.dataquest.io/blog/numpy-cheat-sheet/)\n",
    "\n",
    "Pick 3-4 functions from the cheatsheet that you haven't seen in the lecture or exercise. Read up on them, and make a random array of datapoints to test out these functions to learn how to use them. "
   ]
  },
  {
   "cell_type": "markdown",
   "metadata": {},
   "source": [
    "## Exercise 8.5: Fst array\n",
    "\n",
    "Below is a file containing Fst values for different pairs of populations. Fst values are a measure of the genetic differentiation between populations. Higher Fst values indicate the pair are genetically distinct from each other, while lower values indicate they are genetically more similar. For instance, Fst(Shamanka_EN, Lokomotiv_EN)=0.01, while Fst(Shamanka_EN, Man_Bac)=0.08, suggesting that Shamanka_EN and Lokomotive_EN are genetically much more similar to each other than Shamanka_EN and Man_Bac.\n",
    "\n",
    "Write a script that pulls the information in this file into a numpy array (`myfstary`). Make rowname and columnname lists so you can grab indices based on population IDs if needed (`rowid` and `colid`). Replace the diagonals with `np.nan`, see [here](https://numpy.org/devdocs/reference/constants.html) because it technically is not zero - you cannot calculate an Fst of a population against itself. "
   ]
  },
  {
   "cell_type": "code",
   "execution_count": 12,
   "metadata": {},
   "outputs": [
    {
     "name": "stdout",
     "output_type": "stream",
     "text": [
      "Writing /Users/myang/YangLab/PythonBootcamp/resources/Fst.HO.txt\n"
     ]
    }
   ],
   "source": [
    "%%writefile /Users/myang/YangLab/PythonBootcamp/resources/Fst.HO.txt\n",
    "X/Y\tDevilsCave_N\tMan_Bac\tNui_Nap\tOakaie1\tBan_Chiang\tVanuatu\tLa_G2\tG1\tG6\tG4\tVt_G2\tG3\tShamanka_EN\tLokomotiv_EN\tLiangDao\tSuogang\tShandong\tXitouchun\tTanshishan\tSamdzong\tSherpa\tTibetan\tTibetan_Chamdo\tTibetan_Lhasa\tTibetan_Nagqu\tTibetan_Shannan\tTibetan_Shigatse\tChakehshanega\tPoumainaga\tMagar\tNaxi\tYi\tTu\tXibo\tDaur\tHezhen\tOroqen\tUlchi\tMongola\tKorean\tJapanese\tTujia\tLahu\tShe\tMiao\tHan_Chongqing\tHan_Henan\tHan_Hubei\tHan_Jiangsu\tHan_Shandong\tHan_Sichuan\tHan_NChina\tHan\tDai\tThai\tAmi\tAtayal\tHtin_Mal\tKinh\tLao\tNicobarese\tSemende\tBunun\tBurmese\tCambodian\n",
    "DevilsCave_N\t0\t0.13\t0.11\t0.1\t0.17\t0.16\t0.12\t0.13\t0.13\t0.14\t0.12\t0.14\t0.1\t0.11\t0.12\t0.13\t0.1\t0.12\t0.12\t0.12\t0.1\t0.1\t0.1\t0.1\t0.1\t0.1\t0.1\t0.1\t0.11\t0.1\t0.11\t0.1\t0.1\t0.1\t0.09\t0.09\t0.09\t0.08\t0.1\t0.1\t0.09\t0.1\t0.12\t0.11\t0.11\t0.09\t0.09\t0.09\t0.09\t0.09\t0.09\t0.09\t0.1\t0.12\t0.11\t0.13\t0.15\t0.15\t0.11\t0.1\t0.14\t0.12\t0.13\t0.1\t0.12\n",
    "Man_Bac\t0.13\t0\t0.01\t-0.08\t-0.04\t0.06\t-0.01\t0.05\t0.04\t0.06\t-0.04\t0.05\t0.08\t0.09\t0.05\t0.05\t0.06\t0.03\t0.05\t0.08\t0.06\t0.06\t0.06\t0.06\t0.06\t0.06\t0.06\t0.07\t0.08\t0.06\t0.06\t0.06\t0.06\t0.07\t0.06\t0.07\t0.07\t0.07\t0.07\t0.07\t0.06\t0.05\t0.06\t0.06\t0.05\t0.04\t0.05\t0.05\t0.05\t0.05\t0.04\t0.05\t0.04\t0.05\t0.04\t0.07\t0.09\t0.06\t0.04\t0.03\t0.05\t0.05\t0.06\t0.04\t0.04\n",
    "Nui_Nap\t0.11\t0.01\t0\t-0.09\t-0.03\t0.05\t0.03\t0.12\t0.06\t0.08\t0.08\t0.07\t0.06\t0.08\t0.03\t-0.01\t0.04\t0\t0.04\t0.06\t0.04\t0.04\t0.04\t0.04\t0.04\t0.04\t0.04\t0.05\t0.05\t0.04\t0.04\t0.03\t0.04\t0.04\t0.04\t0.05\t0.05\t0.06\t0.05\t0.05\t0.03\t0.03\t0.04\t0.04\t0.03\t0.02\t0.03\t0.03\t0.03\t0.03\t0.02\t0.03\t0.02\t0.03\t0.03\t0.05\t0.07\t0.05\t0.02\t0.02\t0.05\t0.03\t0.03\t0.02\t0.03\n",
    "Oakaie1\t0.1\t-0.08\t-0.09\t0\t0.31\t0.09\t-0.03\t0.08\t0\t-0.01\t0.09\t0.01\t0.03\t0.02\t0.04\t0.14\t0\t0\t-0.04\t0.02\t-0.01\t-0.02\t0\t-0.01\t-0.01\t-0.01\t0\t-0.01\t0\t-0.01\t0.01\t0\t0\t-0.01\t0.01\t0.02\t0.01\t0.02\t0.01\t0.02\t0.01\t0\t0.02\t0.01\t0\t0\t0\t-0.01\t0\t-0.01\t0\t-0.01\t0\t0.02\t0\t0.03\t0.07\t0.04\t0.02\t0.01\t0.06\t0.01\t0.04\t0\t0.02\n",
    "Ban_Chiang\t0.17\t-0.04\t-0.03\t0.31\t0\t0.03\t-0.02\t0.09\t0.19\t0.03\t-0.19\t0.06\t0.08\t0.07\t0.04\t0.11\t0.05\t-0.01\t0.02\t0.08\t0.05\t0.04\t0.06\t0.05\t0.05\t0.05\t0.06\t0.08\t0.07\t0.06\t0.05\t0.06\t0.05\t0.07\t0.06\t0.05\t0.08\t0.07\t0.07\t0.06\t0.05\t0.05\t0.05\t0.06\t0.05\t0.03\t0.04\t0.04\t0.05\t0.04\t0.05\t0.05\t0.04\t0.05\t0.02\t0.07\t0.08\t0.06\t0.05\t0.02\t0.03\t0.05\t0.08\t0.04\t0.02\n",
    "Vanuatu\t0.16\t0.06\t0.05\t0.09\t0.03\t0\t0.09\t0.12\t0.09\t0.11\t0.11\t0.08\t0.11\t0.12\t0.07\t0.04\t0.08\t0.03\t0.04\t0.11\t0.09\t0.09\t0.09\t0.09\t0.09\t0.09\t0.09\t0.1\t0.1\t0.09\t0.09\t0.08\t0.08\t0.09\t0.08\t0.1\t0.1\t0.1\t0.09\t0.09\t0.08\t0.08\t0.09\t0.08\t0.08\t0.07\t0.07\t0.06\t0.07\t0.07\t0.07\t0.07\t0.07\t0.08\t0.08\t0.07\t0.1\t0.11\t0.07\t0.07\t0.1\t0.07\t0.07\t0.07\t0.08\n",
    "La_G2\t0.12\t-0.01\t0.03\t-0.03\t-0.02\t0.09\t0\t0.08\t0.05\t0.05\t-0.03\t0.05\t0.07\t0.08\t0.04\t0\t0.06\t0.04\t0.03\t0.06\t0.04\t0.04\t0.04\t0.04\t0.04\t0.04\t0.04\t0.05\t0.06\t0.04\t0.05\t0.04\t0.04\t0.05\t0.05\t0.06\t0.06\t0.06\t0.05\t0.05\t0.04\t0.04\t0.04\t0.04\t0.04\t0.03\t0.03\t0.03\t0.03\t0.04\t0.03\t0.04\t0.03\t0.03\t0.03\t0.05\t0.08\t0.04\t0.03\t0.01\t0.03\t0.04\t0.05\t0.03\t0.02\n",
    "G1\t0.13\t0.05\t0.12\t0.08\t0.09\t0.12\t0.08\t0\t0.11\t0.08\t0.02\t0.07\t0.08\t0.09\t0.07\t0.13\t0.08\t0.08\t0.11\t0.09\t0.06\t0.05\t0.06\t0.06\t0.06\t0.07\t0.06\t0.07\t0.09\t0.06\t0.08\t0.07\t0.07\t0.07\t0.07\t0.08\t0.08\t0.08\t0.08\t0.08\t0.07\t0.07\t0.09\t0.08\t0.07\t0.07\t0.06\t0.07\t0.07\t0.07\t0.07\t0.06\t0.07\t0.07\t0.06\t0.1\t0.12\t0.09\t0.07\t0.06\t0.08\t0.08\t0.09\t0.05\t0.06\n",
    "G6\t0.13\t0.04\t0.06\t0\t0.19\t0.09\t0.05\t0.11\t0\t0.04\t0.1\t0.05\t0.08\t0.09\t0.04\t0.03\t0.06\t0.07\t0.06\t0.07\t0.06\t0.06\t0.05\t0.05\t0.05\t0.05\t0.06\t0.06\t0.07\t0.05\t0.05\t0.05\t0.05\t0.06\t0.05\t0.06\t0.06\t0.07\t0.05\t0.06\t0.04\t0.04\t0.06\t0.04\t0.05\t0.03\t0.04\t0.03\t0.04\t0.04\t0.04\t0.04\t0.03\t0.04\t0.04\t0.04\t0.07\t0.07\t0.04\t0.03\t0.06\t0.03\t0.04\t0.04\t0.04\n",
    "G4\t0.14\t0.06\t0.08\t-0.01\t0.03\t0.11\t0.05\t0.08\t0.04\t0\t0.01\t0.08\t0.08\t0.09\t0.07\t0.1\t0.07\t0.06\t0.06\t0.07\t0.06\t0.05\t0.06\t0.06\t0.06\t0.06\t0.06\t0.06\t0.07\t0.06\t0.06\t0.06\t0.06\t0.07\t0.06\t0.07\t0.07\t0.08\t0.07\t0.07\t0.06\t0.06\t0.07\t0.07\t0.06\t0.05\t0.05\t0.05\t0.05\t0.05\t0.05\t0.05\t0.05\t0.06\t0.06\t0.08\t0.1\t0.08\t0.06\t0.04\t0.07\t0.06\t0.07\t0.04\t0.05\n",
    "Vt_G2\t0.12\t-0.04\t0.08\t0.09\t-0.19\t0.11\t-0.03\t0.02\t0.1\t0.01\t0\t0\t0.05\t0.08\t0.04\t0.01\t0.04\t0.01\t0.03\t0.04\t0.04\t0.04\t0.03\t0.03\t0.02\t0.03\t0.03\t0.03\t0.05\t0.03\t0.02\t0.03\t0.03\t0.04\t0.03\t0.04\t0.04\t0.04\t0.04\t0.04\t0.03\t0.02\t0.04\t0.03\t0.03\t0.02\t0.03\t0.01\t0.02\t0.02\t0.02\t0.02\t0.02\t0.02\t0.01\t0.04\t0.07\t0.03\t0.02\t0\t0.02\t0.02\t0.04\t0.01\t0.01\n",
    "G3\t0.14\t0.05\t0.07\t0.01\t0.06\t0.08\t0.05\t0.07\t0.05\t0.08\t0\t0\t0.09\t0.1\t0.07\t0.06\t0.07\t0.05\t0.06\t0.08\t0.07\t0.07\t0.07\t0.07\t0.06\t0.07\t0.07\t0.07\t0.08\t0.07\t0.07\t0.06\t0.06\t0.07\t0.07\t0.07\t0.08\t0.08\t0.07\t0.07\t0.06\t0.06\t0.07\t0.06\t0.06\t0.05\t0.05\t0.05\t0.05\t0.05\t0.05\t0.05\t0.05\t0.05\t0.05\t0.07\t0.1\t0.08\t0.05\t0.04\t0.07\t0.06\t0.07\t0.05\t0.05\n",
    "Shamanka_EN\t0.1\t0.08\t0.06\t0.03\t0.08\t0.11\t0.07\t0.08\t0.08\t0.08\t0.05\t0.09\t0\t0.01\t0.07\t0.1\t0.05\t0.08\t0.07\t0.06\t0.05\t0.04\t0.04\t0.04\t0.04\t0.04\t0.04\t0.05\t0.06\t0.04\t0.05\t0.05\t0.04\t0.04\t0.04\t0.04\t0.04\t0.04\t0.05\t0.05\t0.04\t0.05\t0.07\t0.06\t0.06\t0.04\t0.04\t0.04\t0.04\t0.04\t0.04\t0.04\t0.05\t0.07\t0.06\t0.08\t0.11\t0.1\t0.06\t0.05\t0.09\t0.07\t0.08\t0.04\t0.07\n",
    "Lokomotiv_EN\t0.11\t0.09\t0.08\t0.02\t0.07\t0.12\t0.08\t0.09\t0.09\t0.09\t0.08\t0.1\t0.01\t0\t0.08\t0.13\t0.06\t0.09\t0.08\t0.07\t0.06\t0.05\t0.05\t0.05\t0.05\t0.05\t0.05\t0.06\t0.07\t0.05\t0.06\t0.06\t0.05\t0.06\t0.05\t0.05\t0.05\t0.04\t0.06\t0.07\t0.05\t0.06\t0.08\t0.07\t0.07\t0.05\t0.05\t0.06\t0.05\t0.05\t0.05\t0.05\t0.06\t0.08\t0.07\t0.09\t0.12\t0.11\t0.07\t0.06\t0.1\t0.08\t0.09\t0.06\t0.08\n",
    "LiangDao\t0.12\t0.05\t0.03\t0.04\t0.04\t0.07\t0.04\t0.07\t0.04\t0.07\t0.04\t0.07\t0.07\t0.08\t0\t0.04\t0.04\t0.04\t0.03\t0.07\t0.05\t0.05\t0.05\t0.05\t0.05\t0.05\t0.05\t0.06\t0.06\t0.05\t0.05\t0.05\t0.05\t0.06\t0.05\t0.06\t0.06\t0.06\t0.06\t0.06\t0.04\t0.04\t0.06\t0.05\t0.04\t0.04\t0.04\t0.04\t0.04\t0.04\t0.03\t0.04\t0.03\t0.04\t0.04\t0.05\t0.07\t0.07\t0.04\t0.03\t0.06\t0.04\t0.04\t0.04\t0.04\n",
    "Suogang\t0.13\t0.05\t-0.01\t0.14\t0.11\t0.04\t0\t0.13\t0.03\t0.1\t0.01\t0.06\t0.1\t0.13\t0.04\t0\t0.06\t0.01\t0.04\t0.09\t0.07\t0.06\t0.07\t0.07\t0.06\t0.07\t0.07\t0.07\t0.09\t0.07\t0.07\t0.06\t0.06\t0.07\t0.07\t0.07\t0.08\t0.08\t0.08\t0.07\t0.06\t0.05\t0.08\t0.06\t0.06\t0.03\t0.05\t0.05\t0.04\t0.05\t0.05\t0.05\t0.04\t0.05\t0.06\t0.05\t0.08\t0.09\t0.06\t0.05\t0.07\t0.05\t0.05\t0.05\t0.06\n",
    "Shandong\t0.1\t0.06\t0.04\t0\t0.05\t0.08\t0.06\t0.08\t0.06\t0.07\t0.04\t0.07\t0.05\t0.06\t0.04\t0.06\t0\t0.04\t0.04\t0.05\t0.04\t0.03\t0.03\t0.03\t0.03\t0.03\t0.03\t0.04\t0.05\t0.03\t0.04\t0.03\t0.03\t0.04\t0.03\t0.04\t0.04\t0.04\t0.04\t0.04\t0.03\t0.03\t0.06\t0.04\t0.04\t0.02\t0.02\t0.02\t0.02\t0.02\t0.03\t0.02\t0.03\t0.05\t0.05\t0.06\t0.09\t0.08\t0.04\t0.04\t0.08\t0.05\t0.06\t0.03\t0.05\n",
    "Xitouchun\t0.12\t0.03\t0\t0\t-0.01\t0.03\t0.04\t0.08\t0.07\t0.06\t0.01\t0.05\t0.08\t0.09\t0.04\t0.01\t0.04\t0\t0.01\t0.07\t0.06\t0.05\t0.05\t0.06\t0.05\t0.06\t0.06\t0.06\t0.07\t0.06\t0.06\t0.05\t0.05\t0.06\t0.05\t0.06\t0.06\t0.07\t0.06\t0.06\t0.04\t0.04\t0.06\t0.05\t0.04\t0.03\t0.04\t0.03\t0.04\t0.04\t0.04\t0.04\t0.04\t0.05\t0.05\t0.05\t0.07\t0.08\t0.04\t0.03\t0.07\t0.04\t0.04\t0.04\t0.05\n",
    "Tanshishan\t0.12\t0.05\t0.04\t-0.04\t0.02\t0.04\t0.03\t0.11\t0.06\t0.06\t0.03\t0.06\t0.07\t0.08\t0.03\t0.04\t0.04\t0.01\t0\t0.07\t0.05\t0.04\t0.05\t0.05\t0.05\t0.05\t0.05\t0.05\t0.06\t0.05\t0.05\t0.04\t0.04\t0.05\t0.05\t0.06\t0.06\t0.06\t0.06\t0.05\t0.04\t0.04\t0.06\t0.04\t0.04\t0.03\t0.04\t0.03\t0.03\t0.04\t0.03\t0.04\t0.03\t0.04\t0.04\t0.04\t0.07\t0.07\t0.04\t0.03\t0.06\t0.04\t0.03\t0.04\t0.04\n",
    "Samdzong\t0.12\t0.08\t0.06\t0.02\t0.08\t0.11\t0.06\t0.09\t0.07\t0.07\t0.04\t0.08\t0.06\t0.07\t0.07\t0.09\t0.05\t0.07\t0.07\t0\t0.02\t0.01\t0.02\t0.02\t0.02\t0.02\t0.02\t0.04\t0.04\t0.03\t0.04\t0.04\t0.03\t0.05\t0.04\t0.05\t0.05\t0.05\t0.05\t0.05\t0.04\t0.04\t0.06\t0.05\t0.05\t0.03\t0.03\t0.03\t0.03\t0.03\t0.03\t0.03\t0.04\t0.06\t0.05\t0.07\t0.1\t0.09\t0.05\t0.04\t0.08\t0.07\t0.07\t0.03\t0.06\n",
    "Sherpa\t0.1\t0.06\t0.04\t-0.01\t0.05\t0.09\t0.04\t0.06\t0.06\t0.06\t0.04\t0.07\t0.05\t0.06\t0.05\t0.07\t0.04\t0.06\t0.05\t0.02\t0\t0.01\t0.01\t0.01\t0.01\t0.01\t0.01\t0.02\t0.03\t0.01\t0.03\t0.02\t0.02\t0.03\t0.03\t0.04\t0.03\t0.04\t0.03\t0.04\t0.02\t0.03\t0.05\t0.04\t0.03\t0.02\t0.01\t0.02\t0.02\t0.02\t0.02\t0.02\t0.02\t0.04\t0.04\t0.06\t0.08\t0.07\t0.04\t0.03\t0.07\t0.05\t0.05\t0.02\t0.04\n",
    "Tibetan\t0.1\t0.06\t0.04\t-0.02\t0.04\t0.09\t0.04\t0.05\t0.06\t0.05\t0.04\t0.07\t0.04\t0.05\t0.05\t0.06\t0.03\t0.05\t0.04\t0.01\t0.01\t0\t0\t0\t0\t0\t0\t0.02\t0.03\t0.01\t0.02\t0.02\t0.01\t0.03\t0.02\t0.03\t0.03\t0.03\t0.03\t0.03\t0.02\t0.02\t0.04\t0.03\t0.03\t0.01\t0.01\t0.01\t0.01\t0.01\t0.01\t0.01\t0.02\t0.04\t0.03\t0.06\t0.08\t0.07\t0.03\t0.03\t0.06\t0.04\t0.05\t0.01\t0.04\n",
    "Tibetan_Chamdo\t0.1\t0.06\t0.04\t0\t0.06\t0.09\t0.04\t0.06\t0.05\t0.06\t0.03\t0.07\t0.04\t0.05\t0.05\t0.07\t0.03\t0.05\t0.05\t0.02\t0.01\t0\t0\t0\t0\t0\t0\t0.02\t0.02\t0.01\t0.02\t0.01\t0.01\t0.03\t0.02\t0.03\t0.03\t0.03\t0.03\t0.03\t0.02\t0.02\t0.04\t0.03\t0.03\t0.01\t0.01\t0.01\t0.01\t0.01\t0.01\t0.01\t0.02\t0.04\t0.04\t0.06\t0.08\t0.07\t0.03\t0.03\t0.06\t0.04\t0.05\t0.01\t0.04\n",
    "Tibetan_Lhasa\t0.1\t0.06\t0.04\t-0.01\t0.05\t0.09\t0.04\t0.06\t0.05\t0.06\t0.03\t0.07\t0.04\t0.05\t0.05\t0.07\t0.03\t0.06\t0.05\t0.02\t0.01\t0\t0\t0\t0\t0\t0\t0.02\t0.03\t0.01\t0.02\t0.02\t0.01\t0.03\t0.02\t0.03\t0.03\t0.03\t0.03\t0.03\t0.02\t0.02\t0.04\t0.03\t0.03\t0.01\t0.01\t0.02\t0.01\t0.01\t0.01\t0.01\t0.02\t0.04\t0.04\t0.06\t0.08\t0.07\t0.04\t0.03\t0.06\t0.05\t0.05\t0.02\t0.04\n",
    "Tibetan_Nagqu\t0.1\t0.06\t0.04\t-0.01\t0.05\t0.09\t0.04\t0.06\t0.05\t0.06\t0.02\t0.06\t0.04\t0.05\t0.05\t0.06\t0.03\t0.05\t0.05\t0.02\t0.01\t0\t0\t0\t0\t0\t0\t0.02\t0.02\t0.01\t0.02\t0.01\t0.01\t0.03\t0.02\t0.03\t0.03\t0.03\t0.03\t0.03\t0.02\t0.02\t0.04\t0.03\t0.03\t0.01\t0.01\t0.01\t0.01\t0.01\t0.01\t0.01\t0.02\t0.04\t0.03\t0.06\t0.08\t0.07\t0.03\t0.03\t0.06\t0.04\t0.05\t0.01\t0.04\n",
    "Tibetan_Shannan\t0.1\t0.06\t0.04\t-0.01\t0.05\t0.09\t0.04\t0.07\t0.05\t0.06\t0.03\t0.07\t0.04\t0.05\t0.05\t0.07\t0.03\t0.06\t0.05\t0.02\t0.01\t0\t0\t0\t0\t0\t0\t0.02\t0.03\t0.01\t0.02\t0.02\t0.01\t0.03\t0.02\t0.03\t0.03\t0.03\t0.03\t0.03\t0.02\t0.02\t0.04\t0.03\t0.03\t0.02\t0.01\t0.02\t0.02\t0.01\t0.02\t0.01\t0.02\t0.04\t0.04\t0.06\t0.08\t0.07\t0.04\t0.03\t0.06\t0.05\t0.05\t0.02\t0.04\n",
    "Tibetan_Shigatse\t0.1\t0.06\t0.04\t0\t0.06\t0.09\t0.04\t0.06\t0.06\t0.06\t0.03\t0.07\t0.04\t0.05\t0.05\t0.07\t0.03\t0.06\t0.05\t0.02\t0.01\t0\t0\t0\t0\t0\t0\t0.02\t0.03\t0.01\t0.02\t0.02\t0.01\t0.03\t0.02\t0.03\t0.03\t0.04\t0.03\t0.03\t0.02\t0.02\t0.04\t0.03\t0.03\t0.02\t0.01\t0.02\t0.01\t0.01\t0.01\t0.01\t0.02\t0.04\t0.04\t0.06\t0.08\t0.07\t0.04\t0.03\t0.06\t0.05\t0.05\t0.02\t0.04\n",
    "Chakehshanega\t0.1\t0.07\t0.05\t-0.01\t0.08\t0.1\t0.05\t0.07\t0.06\t0.06\t0.03\t0.07\t0.05\t0.06\t0.06\t0.07\t0.04\t0.06\t0.05\t0.04\t0.02\t0.02\t0.02\t0.02\t0.02\t0.02\t0.02\t0\t0.01\t0.02\t0.03\t0.02\t0.03\t0.03\t0.03\t0.04\t0.04\t0.04\t0.04\t0.04\t0.03\t0.03\t0.05\t0.04\t0.03\t0.02\t0.02\t0.02\t0.02\t0.02\t0.02\t0.02\t0.02\t0.04\t0.04\t0.06\t0.09\t0.07\t0.04\t0.03\t0.07\t0.05\t0.06\t0.02\t0.04\n",
    "Poumainaga\t0.11\t0.08\t0.05\t0\t0.07\t0.1\t0.06\t0.09\t0.07\t0.07\t0.05\t0.08\t0.06\t0.07\t0.06\t0.09\t0.05\t0.07\t0.06\t0.04\t0.03\t0.03\t0.02\t0.03\t0.02\t0.03\t0.03\t0.01\t0\t0.03\t0.04\t0.03\t0.03\t0.04\t0.04\t0.05\t0.05\t0.05\t0.04\t0.05\t0.04\t0.04\t0.06\t0.04\t0.04\t0.03\t0.03\t0.03\t0.03\t0.03\t0.03\t0.03\t0.03\t0.05\t0.05\t0.07\t0.09\t0.08\t0.05\t0.04\t0.08\t0.06\t0.06\t0.03\t0.05\n",
    "Magar\t0.1\t0.06\t0.04\t-0.01\t0.06\t0.09\t0.04\t0.06\t0.05\t0.06\t0.03\t0.07\t0.04\t0.05\t0.05\t0.07\t0.03\t0.06\t0.05\t0.03\t0.01\t0.01\t0.01\t0.01\t0.01\t0.01\t0.01\t0.02\t0.03\t0\t0.02\t0.02\t0.02\t0.03\t0.02\t0.03\t0.03\t0.04\t0.03\t0.03\t0.02\t0.02\t0.04\t0.03\t0.03\t0.02\t0.01\t0.02\t0.02\t0.01\t0.01\t0.01\t0.02\t0.04\t0.03\t0.06\t0.08\t0.07\t0.03\t0.03\t0.06\t0.04\t0.05\t0.01\t0.04\n",
    "Naxi\t0.11\t0.06\t0.04\t0.01\t0.05\t0.09\t0.05\t0.08\t0.05\t0.06\t0.02\t0.07\t0.05\t0.06\t0.05\t0.07\t0.04\t0.06\t0.05\t0.04\t0.03\t0.02\t0.02\t0.02\t0.02\t0.02\t0.02\t0.03\t0.04\t0.02\t0\t0.02\t0.02\t0.03\t0.03\t0.04\t0.04\t0.04\t0.04\t0.04\t0.03\t0.03\t0.05\t0.04\t0.03\t0.02\t0.02\t0.02\t0.02\t0.02\t0.02\t0.02\t0.02\t0.04\t0.04\t0.06\t0.08\t0.07\t0.04\t0.03\t0.07\t0.05\t0.05\t0.02\t0.04\n",
    "Yi\t0.1\t0.06\t0.03\t0\t0.06\t0.08\t0.04\t0.07\t0.05\t0.06\t0.03\t0.06\t0.05\t0.06\t0.05\t0.06\t0.03\t0.05\t0.04\t0.04\t0.02\t0.02\t0.01\t0.02\t0.01\t0.02\t0.02\t0.02\t0.03\t0.02\t0.02\t0\t0.02\t0.03\t0.02\t0.03\t0.03\t0.04\t0.03\t0.03\t0.02\t0.02\t0.04\t0.03\t0.03\t0.01\t0.01\t0.01\t0.01\t0.01\t0.01\t0.01\t0.02\t0.04\t0.03\t0.05\t0.08\t0.06\t0.03\t0.02\t0.06\t0.04\t0.04\t0.02\t0.04\n",
    "Tu\t0.1\t0.06\t0.04\t0\t0.05\t0.08\t0.04\t0.07\t0.05\t0.06\t0.03\t0.06\t0.04\t0.05\t0.05\t0.06\t0.03\t0.05\t0.04\t0.03\t0.02\t0.01\t0.01\t0.01\t0.01\t0.01\t0.01\t0.03\t0.03\t0.02\t0.02\t0.02\t0\t0.02\t0.02\t0.03\t0.03\t0.03\t0.03\t0.03\t0.02\t0.02\t0.04\t0.03\t0.02\t0.01\t0.01\t0.01\t0.01\t0.01\t0.01\t0.01\t0.01\t0.04\t0.03\t0.05\t0.07\t0.07\t0.03\t0.02\t0.06\t0.04\t0.04\t0.02\t0.04\n",
    "Xibo\t0.1\t0.07\t0.04\t-0.01\t0.07\t0.09\t0.05\t0.07\t0.06\t0.07\t0.04\t0.07\t0.04\t0.06\t0.06\t0.07\t0.04\t0.06\t0.05\t0.05\t0.03\t0.03\t0.03\t0.03\t0.03\t0.03\t0.03\t0.03\t0.04\t0.03\t0.03\t0.03\t0.02\t0\t0.02\t0.03\t0.03\t0.03\t0.03\t0.03\t0.02\t0.03\t0.05\t0.04\t0.03\t0.02\t0.02\t0.02\t0.02\t0.02\t0.02\t0.02\t0.02\t0.04\t0.04\t0.06\t0.08\t0.07\t0.04\t0.03\t0.07\t0.05\t0.05\t0.03\t0.04\n",
    "Daur\t0.09\t0.06\t0.04\t0.01\t0.06\t0.08\t0.05\t0.07\t0.05\t0.06\t0.03\t0.07\t0.04\t0.05\t0.05\t0.07\t0.03\t0.05\t0.05\t0.04\t0.03\t0.02\t0.02\t0.02\t0.02\t0.02\t0.02\t0.03\t0.04\t0.02\t0.03\t0.02\t0.02\t0.02\t0\t0.02\t0.02\t0.02\t0.03\t0.03\t0.02\t0.02\t0.05\t0.03\t0.03\t0.02\t0.01\t0.01\t0.01\t0.01\t0.02\t0.01\t0.02\t0.04\t0.04\t0.06\t0.08\t0.07\t0.04\t0.03\t0.07\t0.04\t0.05\t0.02\t0.04\n",
    "Hezhen\t0.09\t0.07\t0.05\t0.02\t0.05\t0.1\t0.06\t0.08\t0.06\t0.07\t0.04\t0.07\t0.04\t0.05\t0.06\t0.07\t0.04\t0.06\t0.06\t0.05\t0.04\t0.03\t0.03\t0.03\t0.03\t0.03\t0.03\t0.04\t0.05\t0.03\t0.04\t0.03\t0.03\t0.03\t0.02\t0\t0.03\t0.02\t0.04\t0.04\t0.03\t0.03\t0.06\t0.04\t0.04\t0.03\t0.02\t0.03\t0.02\t0.02\t0.02\t0.02\t0.03\t0.05\t0.04\t0.06\t0.09\t0.08\t0.04\t0.04\t0.07\t0.05\t0.06\t0.03\t0.05\n",
    "Oroqen\t0.09\t0.07\t0.05\t0.01\t0.08\t0.1\t0.06\t0.08\t0.06\t0.07\t0.04\t0.08\t0.04\t0.05\t0.06\t0.08\t0.04\t0.06\t0.06\t0.05\t0.03\t0.03\t0.03\t0.03\t0.03\t0.03\t0.03\t0.04\t0.05\t0.03\t0.04\t0.03\t0.03\t0.03\t0.02\t0.03\t0\t0.02\t0.03\t0.04\t0.03\t0.03\t0.06\t0.04\t0.04\t0.03\t0.02\t0.03\t0.02\t0.02\t0.03\t0.02\t0.03\t0.05\t0.05\t0.07\t0.09\t0.08\t0.04\t0.04\t0.08\t0.06\t0.06\t0.03\t0.05\n",
    "Ulchi\t0.08\t0.07\t0.06\t0.02\t0.07\t0.1\t0.06\t0.08\t0.07\t0.08\t0.04\t0.08\t0.04\t0.04\t0.06\t0.08\t0.04\t0.07\t0.06\t0.05\t0.04\t0.03\t0.03\t0.03\t0.03\t0.03\t0.04\t0.04\t0.05\t0.04\t0.04\t0.04\t0.03\t0.03\t0.02\t0.02\t0.02\t0\t0.04\t0.04\t0.03\t0.04\t0.06\t0.05\t0.04\t0.03\t0.03\t0.03\t0.03\t0.03\t0.03\t0.03\t0.03\t0.05\t0.05\t0.07\t0.09\t0.08\t0.05\t0.04\t0.08\t0.06\t0.06\t0.03\t0.05\n",
    "Mongola\t0.1\t0.07\t0.05\t0.01\t0.07\t0.09\t0.05\t0.08\t0.05\t0.07\t0.04\t0.07\t0.05\t0.06\t0.06\t0.08\t0.04\t0.06\t0.06\t0.05\t0.03\t0.03\t0.03\t0.03\t0.03\t0.03\t0.03\t0.04\t0.04\t0.03\t0.04\t0.03\t0.03\t0.03\t0.03\t0.04\t0.03\t0.04\t0\t0.04\t0.03\t0.03\t0.05\t0.04\t0.04\t0.02\t0.02\t0.02\t0.02\t0.02\t0.02\t0.02\t0.02\t0.04\t0.04\t0.06\t0.08\t0.08\t0.04\t0.03\t0.07\t0.05\t0.05\t0.03\t0.05\n",
    "Korean\t0.1\t0.07\t0.05\t0.02\t0.06\t0.09\t0.05\t0.08\t0.06\t0.07\t0.04\t0.07\t0.05\t0.07\t0.06\t0.07\t0.04\t0.06\t0.05\t0.05\t0.04\t0.03\t0.03\t0.03\t0.03\t0.03\t0.03\t0.04\t0.05\t0.03\t0.04\t0.03\t0.03\t0.03\t0.03\t0.04\t0.04\t0.04\t0.04\t0\t0.02\t0.03\t0.05\t0.04\t0.03\t0.02\t0.02\t0.02\t0.02\t0.02\t0.02\t0.02\t0.02\t0.04\t0.04\t0.06\t0.08\t0.08\t0.04\t0.03\t0.07\t0.05\t0.05\t0.03\t0.05\n",
    "Japanese\t0.09\t0.06\t0.03\t0.01\t0.05\t0.08\t0.04\t0.07\t0.04\t0.06\t0.03\t0.06\t0.04\t0.05\t0.04\t0.06\t0.03\t0.04\t0.04\t0.04\t0.02\t0.02\t0.02\t0.02\t0.02\t0.02\t0.02\t0.03\t0.04\t0.02\t0.03\t0.02\t0.02\t0.02\t0.02\t0.03\t0.03\t0.03\t0.03\t0.02\t0\t0.02\t0.04\t0.03\t0.02\t0.01\t0.01\t0.01\t0.01\t0.01\t0.01\t0.01\t0.01\t0.03\t0.03\t0.05\t0.07\t0.06\t0.03\t0.02\t0.06\t0.04\t0.04\t0.02\t0.04\n",
    "Tujia\t0.1\t0.05\t0.03\t0\t0.05\t0.08\t0.04\t0.07\t0.04\t0.06\t0.02\t0.06\t0.05\t0.06\t0.04\t0.05\t0.03\t0.04\t0.04\t0.04\t0.03\t0.02\t0.02\t0.02\t0.02\t0.02\t0.02\t0.03\t0.04\t0.02\t0.03\t0.02\t0.02\t0.03\t0.02\t0.03\t0.03\t0.04\t0.03\t0.03\t0.02\t0\t0.04\t0.02\t0.02\t0.01\t0.01\t0.01\t0.01\t0.01\t0.01\t0.01\t0.01\t0.03\t0.03\t0.04\t0.07\t0.06\t0.02\t0.02\t0.06\t0.03\t0.04\t0.02\t0.03\n",
    "Lahu\t0.12\t0.06\t0.04\t0.02\t0.05\t0.09\t0.04\t0.09\t0.06\t0.07\t0.04\t0.07\t0.07\t0.08\t0.06\t0.08\t0.06\t0.06\t0.06\t0.06\t0.05\t0.04\t0.04\t0.04\t0.04\t0.04\t0.04\t0.05\t0.06\t0.04\t0.05\t0.04\t0.04\t0.05\t0.05\t0.06\t0.06\t0.06\t0.05\t0.05\t0.04\t0.04\t0\t0.05\t0.04\t0.03\t0.03\t0.03\t0.03\t0.04\t0.03\t0.03\t0.03\t0.04\t0.04\t0.06\t0.09\t0.07\t0.04\t0.03\t0.06\t0.05\t0.06\t0.04\t0.04\n",
    "She\t0.11\t0.06\t0.04\t0.01\t0.06\t0.08\t0.04\t0.08\t0.04\t0.07\t0.03\t0.06\t0.06\t0.07\t0.05\t0.06\t0.04\t0.05\t0.04\t0.05\t0.04\t0.03\t0.03\t0.03\t0.03\t0.03\t0.03\t0.04\t0.04\t0.03\t0.04\t0.03\t0.03\t0.04\t0.03\t0.04\t0.04\t0.05\t0.04\t0.04\t0.03\t0.02\t0.05\t0\t0.03\t0.02\t0.02\t0.02\t0.02\t0.02\t0.02\t0.02\t0.02\t0.03\t0.04\t0.05\t0.07\t0.07\t0.03\t0.02\t0.06\t0.04\t0.04\t0.03\t0.04\n",
    "Miao\t0.11\t0.05\t0.03\t0\t0.05\t0.08\t0.04\t0.07\t0.05\t0.06\t0.03\t0.06\t0.06\t0.07\t0.04\t0.06\t0.04\t0.04\t0.04\t0.05\t0.03\t0.03\t0.03\t0.03\t0.03\t0.03\t0.03\t0.03\t0.04\t0.03\t0.03\t0.03\t0.02\t0.03\t0.03\t0.04\t0.04\t0.04\t0.04\t0.03\t0.02\t0.02\t0.04\t0.03\t0\t0.01\t0.01\t0.01\t0.01\t0.01\t0.01\t0.01\t0.01\t0.03\t0.03\t0.05\t0.07\t0.06\t0.03\t0.02\t0.06\t0.04\t0.04\t0.02\t0.03\n",
    "Han_Chongqing\t0.09\t0.04\t0.02\t0\t0.03\t0.07\t0.03\t0.07\t0.03\t0.05\t0.02\t0.05\t0.04\t0.05\t0.04\t0.03\t0.02\t0.03\t0.03\t0.03\t0.02\t0.01\t0.01\t0.01\t0.01\t0.02\t0.02\t0.02\t0.03\t0.02\t0.02\t0.01\t0.01\t0.02\t0.02\t0.03\t0.03\t0.03\t0.02\t0.02\t0.01\t0.01\t0.03\t0.02\t0.01\t0\t0\t0\t0\t0\t0\t0\t0\t0.02\t0.02\t0.04\t0.06\t0.05\t0.02\t0.01\t0.05\t0.03\t0.03\t0.01\t0.02\n",
    "Han_Henan\t0.09\t0.05\t0.03\t0\t0.04\t0.07\t0.03\t0.06\t0.04\t0.05\t0.03\t0.05\t0.04\t0.05\t0.04\t0.05\t0.02\t0.04\t0.04\t0.03\t0.01\t0.01\t0.01\t0.01\t0.01\t0.01\t0.01\t0.02\t0.03\t0.01\t0.02\t0.01\t0.01\t0.02\t0.01\t0.02\t0.02\t0.03\t0.02\t0.02\t0.01\t0.01\t0.03\t0.02\t0.01\t0\t0\t0\t0\t0\t0\t0\t0\t0.03\t0.02\t0.04\t0.06\t0.06\t0.02\t0.01\t0.05\t0.03\t0.03\t0.01\t0.03\n",
    "Han_Hubei\t0.09\t0.05\t0.03\t-0.01\t0.04\t0.06\t0.03\t0.07\t0.03\t0.05\t0.01\t0.05\t0.04\t0.06\t0.04\t0.05\t0.02\t0.03\t0.03\t0.03\t0.02\t0.01\t0.01\t0.02\t0.01\t0.02\t0.02\t0.02\t0.03\t0.02\t0.02\t0.01\t0.01\t0.02\t0.01\t0.03\t0.03\t0.03\t0.02\t0.02\t0.01\t0.01\t0.03\t0.02\t0.01\t0\t0\t0\t0\t0\t0\t0\t0\t0.02\t0.02\t0.04\t0.06\t0.06\t0.02\t0.01\t0.05\t0.03\t0.03\t0.01\t0.03\n",
    "Han_Jiangsu\t0.09\t0.05\t0.03\t0\t0.05\t0.07\t0.03\t0.07\t0.04\t0.05\t0.02\t0.05\t0.04\t0.05\t0.04\t0.04\t0.02\t0.04\t0.03\t0.03\t0.02\t0.01\t0.01\t0.01\t0.01\t0.02\t0.01\t0.02\t0.03\t0.02\t0.02\t0.01\t0.01\t0.02\t0.01\t0.02\t0.02\t0.03\t0.02\t0.02\t0.01\t0.01\t0.03\t0.02\t0.01\t0\t0\t0\t0\t0\t0\t0\t0\t0.02\t0.02\t0.04\t0.06\t0.06\t0.02\t0.01\t0.05\t0.03\t0.03\t0.01\t0.03\n",
    "Han_Shandong\t0.09\t0.05\t0.03\t-0.01\t0.04\t0.07\t0.04\t0.07\t0.04\t0.05\t0.02\t0.05\t0.04\t0.05\t0.04\t0.05\t0.02\t0.04\t0.04\t0.03\t0.02\t0.01\t0.01\t0.01\t0.01\t0.01\t0.01\t0.02\t0.03\t0.01\t0.02\t0.01\t0.01\t0.02\t0.01\t0.02\t0.02\t0.03\t0.02\t0.02\t0.01\t0.01\t0.04\t0.02\t0.01\t0\t0\t0\t0\t0\t0\t0\t0\t0.03\t0.02\t0.04\t0.07\t0.06\t0.02\t0.01\t0.05\t0.03\t0.03\t0.01\t0.03\n",
    "Han_Sichuan\t0.09\t0.04\t0.02\t0\t0.05\t0.07\t0.03\t0.07\t0.04\t0.05\t0.02\t0.05\t0.04\t0.05\t0.03\t0.05\t0.03\t0.04\t0.03\t0.03\t0.02\t0.01\t0.01\t0.01\t0.01\t0.02\t0.01\t0.02\t0.03\t0.01\t0.02\t0.01\t0.01\t0.02\t0.02\t0.02\t0.03\t0.03\t0.02\t0.02\t0.01\t0.01\t0.03\t0.02\t0.01\t0\t0\t0\t0\t0\t0\t0\t0\t0.02\t0.02\t0.04\t0.06\t0.05\t0.01\t0.01\t0.05\t0.03\t0.03\t0.01\t0.02\n",
    "Han_NChina\t0.09\t0.05\t0.03\t-0.01\t0.05\t0.07\t0.04\t0.06\t0.04\t0.05\t0.02\t0.05\t0.04\t0.05\t0.04\t0.05\t0.02\t0.04\t0.04\t0.03\t0.02\t0.01\t0.01\t0.01\t0.01\t0.01\t0.01\t0.02\t0.03\t0.01\t0.02\t0.01\t0.01\t0.02\t0.01\t0.02\t0.02\t0.03\t0.02\t0.02\t0.01\t0.01\t0.03\t0.02\t0.01\t0\t0\t0\t0\t0\t0\t0\t0\t0.03\t0.02\t0.04\t0.07\t0.06\t0.02\t0.01\t0.05\t0.03\t0.03\t0.01\t0.03\n",
    "Han\t0.1\t0.04\t0.02\t0\t0.04\t0.07\t0.03\t0.07\t0.03\t0.05\t0.02\t0.05\t0.05\t0.06\t0.03\t0.04\t0.03\t0.04\t0.03\t0.04\t0.02\t0.02\t0.02\t0.02\t0.02\t0.02\t0.02\t0.02\t0.03\t0.02\t0.02\t0.02\t0.01\t0.02\t0.02\t0.03\t0.03\t0.03\t0.02\t0.02\t0.01\t0.01\t0.03\t0.02\t0.01\t0\t0\t0\t0\t0\t0\t0\t0\t0.02\t0.02\t0.04\t0.06\t0.05\t0.02\t0.01\t0.05\t0.03\t0.03\t0.01\t0.03\n",
    "Dai\t0.12\t0.05\t0.03\t0.02\t0.05\t0.08\t0.03\t0.07\t0.04\t0.06\t0.02\t0.05\t0.07\t0.08\t0.04\t0.05\t0.05\t0.05\t0.04\t0.06\t0.04\t0.04\t0.04\t0.04\t0.04\t0.04\t0.04\t0.04\t0.05\t0.04\t0.04\t0.04\t0.04\t0.04\t0.04\t0.05\t0.05\t0.05\t0.04\t0.04\t0.03\t0.03\t0.04\t0.03\t0.03\t0.02\t0.03\t0.02\t0.02\t0.03\t0.02\t0.03\t0.02\t0\t0.03\t0.05\t0.07\t0.06\t0.03\t0.01\t0.05\t0.04\t0.04\t0.03\t0.03\n",
    "Thai\t0.11\t0.04\t0.03\t0\t0.02\t0.08\t0.03\t0.06\t0.04\t0.06\t0.01\t0.05\t0.06\t0.07\t0.04\t0.06\t0.05\t0.05\t0.04\t0.05\t0.04\t0.03\t0.04\t0.04\t0.03\t0.04\t0.04\t0.04\t0.05\t0.03\t0.04\t0.03\t0.03\t0.04\t0.04\t0.04\t0.05\t0.05\t0.04\t0.04\t0.03\t0.03\t0.04\t0.04\t0.03\t0.02\t0.02\t0.02\t0.02\t0.02\t0.02\t0.02\t0.02\t0.03\t0\t0.05\t0.07\t0.05\t0.03\t0.01\t0.04\t0.03\t0.04\t0.02\t0.03\n",
    "Ami\t0.13\t0.07\t0.05\t0.03\t0.07\t0.07\t0.05\t0.1\t0.04\t0.08\t0.04\t0.07\t0.08\t0.09\t0.05\t0.05\t0.06\t0.05\t0.04\t0.07\t0.06\t0.06\t0.06\t0.06\t0.06\t0.06\t0.06\t0.06\t0.07\t0.06\t0.06\t0.05\t0.05\t0.06\t0.06\t0.06\t0.07\t0.07\t0.06\t0.06\t0.05\t0.04\t0.06\t0.05\t0.05\t0.04\t0.04\t0.04\t0.04\t0.04\t0.04\t0.04\t0.04\t0.05\t0.05\t0\t0.06\t0.08\t0.04\t0.03\t0.07\t0.04\t0.03\t0.04\t0.05\n",
    "Atayal\t0.15\t0.09\t0.07\t0.07\t0.08\t0.1\t0.08\t0.12\t0.07\t0.1\t0.07\t0.1\t0.11\t0.12\t0.07\t0.08\t0.09\t0.07\t0.07\t0.1\t0.08\t0.08\t0.08\t0.08\t0.08\t0.08\t0.08\t0.09\t0.09\t0.08\t0.08\t0.08\t0.07\t0.08\t0.08\t0.09\t0.09\t0.09\t0.08\t0.08\t0.07\t0.07\t0.09\t0.07\t0.07\t0.06\t0.06\t0.06\t0.06\t0.07\t0.06\t0.07\t0.06\t0.07\t0.07\t0.06\t0\t0.1\t0.07\t0.06\t0.1\t0.06\t0.05\t0.07\t0.07\n",
    "Htin_Mal\t0.15\t0.06\t0.05\t0.04\t0.06\t0.11\t0.04\t0.09\t0.07\t0.08\t0.03\t0.08\t0.1\t0.11\t0.07\t0.09\t0.08\t0.08\t0.07\t0.09\t0.07\t0.07\t0.07\t0.07\t0.07\t0.07\t0.07\t0.07\t0.08\t0.07\t0.07\t0.06\t0.07\t0.07\t0.07\t0.08\t0.08\t0.08\t0.08\t0.08\t0.06\t0.06\t0.07\t0.07\t0.06\t0.05\t0.06\t0.06\t0.06\t0.06\t0.05\t0.06\t0.05\t0.06\t0.05\t0.08\t0.1\t0\t0.06\t0.04\t0.06\t0.06\t0.07\t0.05\t0.05\n",
    "Kinh\t0.11\t0.04\t0.02\t0.02\t0.05\t0.07\t0.03\t0.07\t0.04\t0.06\t0.02\t0.05\t0.06\t0.07\t0.04\t0.06\t0.04\t0.04\t0.04\t0.05\t0.04\t0.03\t0.03\t0.04\t0.03\t0.04\t0.04\t0.04\t0.05\t0.03\t0.04\t0.03\t0.03\t0.04\t0.04\t0.04\t0.04\t0.05\t0.04\t0.04\t0.03\t0.02\t0.04\t0.03\t0.03\t0.02\t0.02\t0.02\t0.02\t0.02\t0.01\t0.02\t0.02\t0.03\t0.03\t0.04\t0.07\t0.06\t0\t0.01\t0.05\t0.03\t0.04\t0.02\t0.03\n",
    "Lao\t0.1\t0.03\t0.02\t0.01\t0.02\t0.07\t0.01\t0.06\t0.03\t0.04\t0\t0.04\t0.05\t0.06\t0.03\t0.05\t0.04\t0.03\t0.03\t0.04\t0.03\t0.03\t0.03\t0.03\t0.03\t0.03\t0.03\t0.03\t0.04\t0.03\t0.03\t0.02\t0.02\t0.03\t0.03\t0.04\t0.04\t0.04\t0.03\t0.03\t0.02\t0.02\t0.03\t0.02\t0.02\t0.01\t0.01\t0.01\t0.01\t0.01\t0.01\t0.01\t0.01\t0.01\t0.01\t0.03\t0.06\t0.04\t0.01\t0\t0.03\t0.02\t0.03\t0.01\t0.01\n",
    "Nicobarese\t0.14\t0.05\t0.05\t0.06\t0.03\t0.1\t0.03\t0.08\t0.06\t0.07\t0.02\t0.07\t0.09\t0.1\t0.06\t0.07\t0.08\t0.07\t0.06\t0.08\t0.07\t0.06\t0.06\t0.06\t0.06\t0.06\t0.06\t0.07\t0.08\t0.06\t0.07\t0.06\t0.06\t0.07\t0.07\t0.07\t0.08\t0.08\t0.07\t0.07\t0.06\t0.06\t0.06\t0.06\t0.06\t0.05\t0.05\t0.05\t0.05\t0.05\t0.05\t0.05\t0.05\t0.05\t0.04\t0.07\t0.1\t0.06\t0.05\t0.03\t0\t0.05\t0.07\t0.04\t0.04\n",
    "Semende\t0.12\t0.05\t0.03\t0.01\t0.05\t0.07\t0.04\t0.08\t0.03\t0.06\t0.02\t0.06\t0.07\t0.08\t0.04\t0.05\t0.05\t0.04\t0.04\t0.07\t0.05\t0.04\t0.04\t0.05\t0.04\t0.05\t0.05\t0.05\t0.06\t0.04\t0.05\t0.04\t0.04\t0.05\t0.04\t0.05\t0.06\t0.06\t0.05\t0.05\t0.04\t0.03\t0.05\t0.04\t0.04\t0.03\t0.03\t0.03\t0.03\t0.03\t0.03\t0.03\t0.03\t0.04\t0.03\t0.04\t0.06\t0.06\t0.03\t0.02\t0.05\t0\t0.03\t0.03\t0.03\n",
    "Bunun\t0.13\t0.06\t0.03\t0.04\t0.08\t0.07\t0.05\t0.09\t0.04\t0.07\t0.04\t0.07\t0.08\t0.09\t0.04\t0.05\t0.06\t0.04\t0.03\t0.07\t0.05\t0.05\t0.05\t0.05\t0.05\t0.05\t0.05\t0.06\t0.06\t0.05\t0.05\t0.04\t0.04\t0.05\t0.05\t0.06\t0.06\t0.06\t0.05\t0.05\t0.04\t0.04\t0.06\t0.04\t0.04\t0.03\t0.03\t0.03\t0.03\t0.03\t0.03\t0.03\t0.03\t0.04\t0.04\t0.03\t0.05\t0.07\t0.04\t0.03\t0.07\t0.03\t0\t0.04\t0.04\n",
    "Burmese\t0.1\t0.04\t0.02\t0\t0.04\t0.07\t0.03\t0.05\t0.04\t0.04\t0.01\t0.05\t0.04\t0.06\t0.04\t0.05\t0.03\t0.04\t0.04\t0.03\t0.02\t0.01\t0.01\t0.02\t0.01\t0.02\t0.02\t0.02\t0.03\t0.01\t0.02\t0.02\t0.02\t0.03\t0.02\t0.03\t0.03\t0.03\t0.03\t0.03\t0.02\t0.02\t0.04\t0.03\t0.02\t0.01\t0.01\t0.01\t0.01\t0.01\t0.01\t0.01\t0.01\t0.03\t0.02\t0.04\t0.07\t0.05\t0.02\t0.01\t0.04\t0.03\t0.04\t0\t0.02\n",
    "Cambodian\t0.12\t0.04\t0.03\t0.02\t0.02\t0.08\t0.02\t0.06\t0.04\t0.05\t0.01\t0.05\t0.07\t0.08\t0.04\t0.06\t0.05\t0.05\t0.04\t0.06\t0.04\t0.04\t0.04\t0.04\t0.04\t0.04\t0.04\t0.04\t0.05\t0.04\t0.04\t0.04\t0.04\t0.04\t0.04\t0.05\t0.05\t0.05\t0.05\t0.05\t0.04\t0.03\t0.04\t0.04\t0.03\t0.02\t0.03\t0.03\t0.03\t0.03\t0.02\t0.03\t0.03\t0.03\t0.03\t0.05\t0.07\t0.05\t0.03\t0.01\t0.04\t0.03\t0.04\t0.02\t0"
   ]
  },
  {
   "cell_type": "markdown",
   "metadata": {},
   "source": [
    "## Exercise 8.6: Tibetans\n",
    "\n",
    "1. Using the `myfstary` in Exercise 8.4 and the `rowid` and `colid` lists, make two smaller arrays containing:\n",
    "A. only comparisons of Tibetans (those with \"Tibetan\" in their population ID) to non-Tibetans. \n",
    "B. only comparisons within Tibetans\n",
    "\n",
    "2. Then, plot a histogram containing the distribution of Fst values for B and calculate the average and standard deviation for both. What conclusion can you come to about Tibetans?"
   ]
  },
  {
   "cell_type": "markdown",
   "metadata": {},
   "source": [
    "## Exercise 8.7: Who shares the closest relationship to Tibetans?\n",
    "A. Make an array of the average Fst for all Tibetans compared to each individual non-Tibetan population (i.e., for each non-Tibetan population ID, take the average of all values compared to the different Tibetan populations). Do the same for the standard deviation.\n",
    "\n",
    "B. Make a bar plot showing the average and one standard deviation (add error bars) for each bar. Make sure the x-axis shows the corresponding population IDs. \n",
    "\n",
    "C. The bar plot may be more useful if we could reorder from smallest Fst to largest Fst. Look up the **np.argsort()** [function](https://numpy.org/devdocs/reference/generated/numpy.argsort.html). Why would this function be useful? Use it to reorder the array (and subsequently the barplot) from smallest to largest Fst. \n",
    "\n",
    "D. Based on Exercise 8.6C, which populations are most closely related to Tibetans?"
   ]
  },
  {
   "cell_type": "markdown",
   "metadata": {},
   "source": [
    "## Exercise 8.8: Strings to arrays\n",
    "\n",
    "Remember when we wrote a script to calculate the amount of bases in a sequence between each A, G, C, and T in Lesson 3? We were looking at the periodicity of each base. Now, we'll write a function to check the periodicity of any string we give as input.\n",
    "\n",
    "A. Make a function that takes a DNA string as input (Only G, C, A, or T's) and an arbitrary substring (e.g. \"CT\"). The function should find all locations of the substring in the string and return it as an array.\n",
    "For Example:\n",
    "```python\n",
    "a = find_substring(\"GCACTTGCACGTACGCCGT\", \"AC\") \n",
    "# output 'a' contains [2, 8, 12] (or a numpy array with these values)\n",
    "```\n",
    "B. Make a function to find the difference between each pair of adjacent substrings. (Check if a numpy method does this?)\n",
    "For Example:\n",
    "```python\n",
    "differences = find_differences(a)\n",
    "# differences contains [6, 4]\n",
    "```\n",
    "C. Use the fasta-parser you've written to read the S.cerevisiae genome fasta file from Lesson 1. Then, using the functions in part (A) and (B), generate a full list of the spacings between 'CT' nucleotide pairs for each chromosome and return an array of the differences between adjacent positions\n",
    "\n",
    "D. Using **matplotlib**, compute a histogram of these spacings."
   ]
  },
  {
   "cell_type": "markdown",
   "metadata": {},
   "source": [
    "## Exercise 8.9: Calculating a regression\n",
    "\n",
    "In BIOL200, a lab that typically occurs is one where enzyme dynamics are measured. Below us a file containing the processed data - that is, the original absorbance measurements have been transformed through a series of mathematical expressions into data that should be linear. \n",
    "\n",
    "For each set of data (Trials 1-3), use scipy to help you calculate a linear regression. Then, using these data do the following:\n",
    "\n",
    "A. Plot the data points and the fitted lines on three separate plots. \n",
    "B. Look up adding text to a figure - add some information to each plot like the equation of the lines, the slope, and the R^2 value.\n",
    "C. Based on the R^2 values, do you have confidence your data are linear? "
   ]
  },
  {
   "cell_type": "code",
   "execution_count": 10,
   "metadata": {},
   "outputs": [
    {
     "name": "stdout",
     "output_type": "stream",
     "text": [
      "Writing /Users/myang/YangLab/PythonBootcamp/resources/LBplots.txt\n"
     ]
    }
   ],
   "source": [
    "%%writefile /Users/myang/YangLab/PythonBootcamp/resources/LBplots_N-propanol.txt\n",
    "Time(sec)\t Trial1\tTrial2\tTrial3\n",
    "5\t0.160771704\t-0.643086817\t0.482315113\n",
    "10\t1.768488746\t0.482315113\t0.964630225\n",
    "20\t2.411575563\t1.446945338\t2.893890675\n",
    "30\t4.340836013\t2.572347267\t4.501607717\n",
    "40\t5.305466238\t4.180064309\t5.948553055\n",
    "50\t6.752411576\t5.466237942\t7.073954984\n",
    "60\t8.360128617\t6.430868167\t8.360128617"
   ]
  },
  {
   "cell_type": "markdown",
   "metadata": {},
   "source": [
    "## Exercise 8.10: Lineweaver-Burk Plots\n",
    "\n",
    "The above plot you created in Exercise 8.5 for enzyme kinetics is known as a [Lineweaver-Burk plot](https://en.wikipedia.org/wiki/Lineweaver%E2%80%93Burk_plot). The reason they are created is because they are easy to use to estimate enzyme properties, particularly Vmax (the higher it is, the better an enzyme is at catalyzing a reaction) and Km (the higher it is, the worst an enzyme is at binding the reactants that go through the reaction). \n",
    "\n",
    "It turns out that the y-intercept = 1/Vmax, and the x-intercept = -1/Km.\n",
    "\n",
    "Above you calculated results for N-propanol as the reactant for the enzyme. Do the same for the Ethanol data below, checking the fit of the line. \n",
    "\n",
    "After obtaining the equation of the line for both N-propanol and Ethanol, calculate Vmax and Km for each trial. You should have two arrays - one with the Vmax and Km data for N-propanol, and one with the Vmax and Km data for Ethanol. Calculate the average and standard deviation for each set of experiments and then compare the final values - does the enzyme work better with N-propanol or Ethanol? \n"
   ]
  },
  {
   "cell_type": "code",
   "execution_count": 11,
   "metadata": {},
   "outputs": [
    {
     "name": "stdout",
     "output_type": "stream",
     "text": [
      "Writing /Users/myang/YangLab/PythonBootcamp/resources/LBplots_Ethanol.txt\n"
     ]
    }
   ],
   "source": [
    "%%writefile /Users/myang/YangLab/PythonBootcamp/resources/LBplots_Ethanol.txt\n",
    "Time(sec)\t Trial1\tTrial2\tTrial3\n",
    "5\t0.001\t-0.004\t0.003\n",
    "10\t0.011\t0.003\t0.006\n",
    "20\t0.015\t0.009\t0.018\n",
    "30\t0.027\t0.016\t0.028\n",
    "40\t0.033\t0.026\t0.037\n",
    "50\t0.042\t0.034\t0.044\n",
    "60\t0.052\t0.04\t0.052"
   ]
  }
 ],
 "metadata": {
  "kernelspec": {
   "display_name": "Python 3",
   "language": "python",
   "name": "python3"
  },
  "language_info": {
   "codemirror_mode": {
    "name": "ipython",
    "version": 3
   },
   "file_extension": ".py",
   "mimetype": "text/x-python",
   "name": "python",
   "nbconvert_exporter": "python",
   "pygments_lexer": "ipython3",
   "version": "3.7.6"
  }
 },
 "nbformat": 4,
 "nbformat_minor": 2
}
