{
 "cells": [
  {
   "cell_type": "markdown",
   "metadata": {},
   "source": [
    "## Exercise 7.1\n",
    "\n",
    "Remember Exercise 4.8? Where we looked at the \"51.2.2M.geno\" file?\n",
    "\n",
    "A. Go through and find the number of SNPs that have data per individual. Then plot this in a bar plot, sorted from least missing data to most missing data. Which individual has the most missing data?\n",
    "\n",
    "B. Then plot a histogram of the distribution of missing data. What does the distribution look like (unimodal vs. bimodal, normal? uniform?)? Are there any outliers?\n",
    "\n",
    "## Exercise 7.2\n",
    "\n",
    "Can you recreate the following figure?\n",
    "![Figure](https://raw.githubusercontent.com/melyang4/PythonMiniCourse2017/master/exercises/Exercise7.2_image.png)\n",
    "\n",
    "## Exercise 7.3\n",
    "\n",
    "We want to know how many of each base pair is found in each chromosome of the cerevisiae genome (1-16, you can skip the mtDNA - see the \"cerevisiae_genome.fasta\" file you created in Lesson 1!). Use your fasta parser to look through each sequence and determine the %A, %G, %C and %T. \n",
    "\n",
    "Plot the data in a scatter plot, with the x-axis representing the chromosome number and the y-axis representing the percent of the base pair. Overlay the four sets of percentages in the same figure, and use a legend to distinguish between the four lines (representing each base pair). \n"
   ]
  },
  {
   "cell_type": "code",
   "execution_count": null,
   "metadata": {
    "collapsed": true
   },
   "outputs": [],
   "source": []
  }
 ],
 "metadata": {
  "kernelspec": {
   "display_name": "Python 2",
   "language": "python",
   "name": "python2"
  },
  "language_info": {
   "codemirror_mode": {
    "name": "ipython",
    "version": 2
   },
   "file_extension": ".py",
   "mimetype": "text/x-python",
   "name": "python",
   "nbconvert_exporter": "python",
   "pygments_lexer": "ipython2",
   "version": "2.7.13"
  }
 },
 "nbformat": 4,
 "nbformat_minor": 2
}
