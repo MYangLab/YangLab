{
 "cells": [
  {
   "cell_type": "markdown",
   "metadata": {},
   "source": [
    "## Exercise 7.1\n",
    "\n",
    "Remember Exercise 4.9? Where we looked at the \"51.2.2M.geno\" file?\n",
    "\n",
    "A. Go through and find the number of SNPs that have data per individual (you may have a useful function from Exercise 6.9B which can do this). Then plot this in a bar plot, sorted from least missing data to most missing data. Which individual has the most missing data?\n",
    "\n",
    "B. Then plot a histogram of the distribution of missing data. What does the distribution look like (unimodal vs. bimodal, normal? uniform?)? Are there any outliers?\n"
   ]
  },
  {
   "cell_type": "markdown",
   "metadata": {
    "collapsed": true
   },
   "source": [
    "## Exercise 7.2\n",
    "\n",
    "Can you recreate the following figure?\n",
    "![Figure](https://raw.githubusercontent.com/melyang4/PythonMiniCourse2017/master/exercises/Exercise7.2_image.png)\n"
   ]
  },
  {
   "cell_type": "markdown",
   "metadata": {},
   "source": [
    "## Exercise 7.3\n",
    "\n",
    "We want to know how many of each base pair is found in each chromosome of the cerevisiae genome (1-16, you can skip the mtDNA - see the \"cerevisiae_genome.fasta\" file you created in Lesson 1!). Use your fasta parser to look through each sequence and determine the %A, %G, %C and %T. \n",
    "\n",
    "Plot the data in a scatter plot, with the x-axis representing the chromosome number and the y-axis representing the percent of the base pair. Overlay the four sets of percentages in the same figure, and use a legend to distinguish between the four lines (representing each base pair). \n"
   ]
  },
  {
   "cell_type": "markdown",
   "metadata": {},
   "source": [
    "## Exercise 7.4\n",
    "\n",
    "Let's sign onto the genome server, if you haven't already. Look in the `/home/classes/myanglab/data/1KG/` folder. There's a file called `integrated_call_samples_v3.20130502.ALL.panel` that contains every sample name, the country code associated (pop), the regional code associated (super_pop), and the sex of the individual. Create a bar graph for each region, where the x-axis is each country and the y-axis is the count of individuals sampled from each country. "
   ]
  },
  {
   "cell_type": "markdown",
   "metadata": {},
   "source": [
    "## Exercise 7.5 - CHALLENGE\n",
    "\n",
    "There's a zipped fasta file in `/home/classes/myanglab/data/mtdna/` called `chrMT_sequences_2534.20160505.fasta.gz`. This the the FASTA format data for all individuals sequenced in the 1000 Genomes Project. We want to assess how genetically different people from different populations are.\n",
    "\n",
    "a. Pick five individuals each from Great Britain (GBR), China (CHB), and Nigeria (YRI), using the `integrated_call_samples_v3.20130502.ALL.panel` from Exercise 7.4 to help. Make a new FASTA file in your own folders with just this set of nine individuals. \n",
    "\n",
    "\n",
    "b. Then, calculate the pairwise difference - meaning, for each unique pair, calculate the number of nucleotide differences in their mtDNA (similar to Exercise 4.7D). For fifteen individuals, this should be 105 numbers total. Send these numbers to a file, with a column noting who the comparison was between (e.g. YRI-GBR or YRI-YRI). \n",
    "\n",
    "c. We want to make a histogram showing the different distributions for different comparisons. I suggest making six plots, one for each distribution (YRI-YRI, YRI-GBR, YRI-CHB, etc), with the x- and y-axes scaled such that they are the same in each subplot. Can you tell from this figure which individuals show the most genetic differentiation from each other? What about the least?"
   ]
  },
  {
   "cell_type": "markdown",
   "metadata": {},
   "source": [
    "## Exercise 7.6\n",
    "\n",
    "Histograms can sometimes look a little messy - too many tiny bars, so density plots are sometimes used as another way of visualizing these count data. Take a look at the following [link](https://towardsdatascience.com/histograms-and-density-plots-in-python-f6bda88f5ac0), particularly the later section on density plots. Can you make a version of your plots in Exercise 7.5 using the shaded density plot? Which figure do you like better, in terms of visualization?\n",
    "\n",
    "Note that the link shares a way of doing the density plots with a new module, called seaborn - type \n",
    "```python\n",
    "import seaborn as sns\n",
    "```\n",
    "to use that module the way the link does. \n",
    "\n",
    "Here's another [link on seaborn](https://python-graph-gallery.com/70-basic-density-plot-with-seaborn/). "
   ]
  },
  {
   "cell_type": "markdown",
   "metadata": {},
   "source": [
    "## Exercise 7.7-7.10\n",
    "\n",
    "Just as important to learning how to code a figure is to learn what will make a figure more understandable to a reader - getting a sense of figure aesthetics is incredibly important! \n",
    "\n",
    "a. Read the following article on [Ten Simple Rules for Better Figures](https://journals.plos.org/ploscompbiol/article?id=10.1371/journal.pcbi.1003833) and jot down some notes for yourself after on what you think is important to consider when looking at a figure. \n",
    "\n",
    "b. Return to each of your figures in Exercise 7.3-7.6 - make some notes to yourself for each on whether everything is understandable and easy to look at. Can you read the text? Are the colors easy to distinguish and adding information? Are their labels as needed? Are points or lines big enough to see? Would some data be better put on the same graph, or better to separate onto different graphs? Does the scale of the figure make sense? Make an assessment for each figure, and then look up how you can make the edits you want and try to implement them. Create a set of 'before' and 'after' figures, so it's easy to compare your original figure to your revised one. "
   ]
  }
 ],
 "metadata": {
  "kernelspec": {
   "display_name": "Python 3",
   "language": "python",
   "name": "python3"
  },
  "language_info": {
   "codemirror_mode": {
    "name": "ipython",
    "version": 3
   },
   "file_extension": ".py",
   "mimetype": "text/x-python",
   "name": "python",
   "nbconvert_exporter": "python",
   "pygments_lexer": "ipython3",
   "version": "3.7.6"
  }
 },
 "nbformat": 4,
 "nbformat_minor": 2
}
