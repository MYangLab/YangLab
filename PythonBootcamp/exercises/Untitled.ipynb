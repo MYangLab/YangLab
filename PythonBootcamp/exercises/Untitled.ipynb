{
 "cells": [
  {
   "cell_type": "code",
   "execution_count": 1,
   "metadata": {},
   "outputs": [
    {
     "data": {
      "text/plain": [
       "1.6666666666666667"
      ]
     },
     "execution_count": 1,
     "metadata": {},
     "output_type": "execute_result"
    }
   ],
   "source": [
    "5/3"
   ]
  },
  {
   "cell_type": "code",
   "execution_count": 3,
   "metadata": {},
   "outputs": [
    {
     "data": {
      "text/plain": [
       "0"
      ]
     },
     "execution_count": 3,
     "metadata": {},
     "output_type": "execute_result"
    }
   ],
   "source": [
    "9%3"
   ]
  },
  {
   "cell_type": "code",
   "execution_count": 5,
   "metadata": {},
   "outputs": [
    {
     "name": "stdout",
     "output_type": "stream",
     "text": [
      "ATG\n",
      "CCC\n",
      "TAC\n"
     ]
    }
   ],
   "source": [
    "x=\"ATGCCCTAC\"\n",
    "\n",
    "for i in range(3):\n",
    "    base=i*3\n",
    "    print (x[base:base+3])"
   ]
  },
  {
   "cell_type": "code",
   "execution_count": 8,
   "metadata": {},
   "outputs": [
    {
     "name": "stdout",
     "output_type": "stream",
     "text": [
      "ATG\n",
      "CCC\n",
      "TAC\n",
      "CAG\n",
      "TTT\n",
      "AT\n"
     ]
    }
   ],
   "source": [
    "x=\"ATGCCCTACCAGTTTAT\"\n",
    "num=0\n",
    "while True:\n",
    "    base=num*3\n",
    "    mycodon = (x[base:base+3])\n",
    "    print (mycodon)\n",
    "    if len(mycodon)<3: break\n",
    "    num+=1"
   ]
  },
  {
   "cell_type": "markdown",
   "metadata": {},
   "source": [
    "## Exercise 8.1: Using R Through Python!\n",
    "\n",
    "A. On Friday, you will be learning some basics of R! Install R, either manually through their site, or using the directions I gave in the lesson:\n",
    "\n",
    "```bash\n",
    "conda create -n r-environment r-essentials r-base\n",
    "conda activate r-environment\n",
    "\n",
    "```\n",
    "\n",
    "Put the above in your Terminal. This may take a while.\n",
    "\n",
    "B. After installing R, you should be able to run R scripts through your terminal! Download the following files from the exercise folder (courtesy of Hongru Wang).  \n",
    "1. plotPcaFromSmartpca.R\n",
    "2. modernEastAsian.pca.evec\n",
    "3. modernEastAsian.pca.megaGroup\n",
    "\n",
    "You do not need to know what the data or script do, but the end result of the following command is a pdf titled \"modernEastAsian.pdf\" that gives a PCA for modern East Asian populations. \n",
    "\n",
    "Normally you would run this in the Terminal, but we will run it using **subprocess.Popen**. Feel free to try it out, but make sure to delete it afterwards so you can see if it works with **subprocess.Popen**!\n",
    "\n",
    "```bash\n",
    "Rscript plotPcaFromSmartpca.R modernEastAsian.pca.evec modernEastAsian.pca.megaGroup 8 modernEastAsian\n",
    "```\n",
    "\n",
    "Using **subprocess.Popen**, send the output from the R script to a variable, and use it to make a **matplotlib** figure indicating the counts of each population (from greatest to least). \n",
    "\n",
    "C. Use **IPython.display** to open the resulting PCA pdf file \"modernEastAsian.pdf\" in your notebook. \n"
   ]
  }
 ],
 "metadata": {
  "kernelspec": {
   "display_name": "Python 3",
   "language": "python",
   "name": "python3"
  },
  "language_info": {
   "codemirror_mode": {
    "name": "ipython",
    "version": 3
   },
   "file_extension": ".py",
   "mimetype": "text/x-python",
   "name": "python",
   "nbconvert_exporter": "python",
   "pygments_lexer": "ipython3",
   "version": "3.7.6"
  }
 },
 "nbformat": 4,
 "nbformat_minor": 4
}
