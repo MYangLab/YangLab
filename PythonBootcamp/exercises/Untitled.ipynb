{
 "cells": [
  {
   "cell_type": "code",
   "execution_count": 1,
   "metadata": {},
   "outputs": [
    {
     "data": {
      "text/plain": [
       "1.6666666666666667"
      ]
     },
     "execution_count": 1,
     "metadata": {},
     "output_type": "execute_result"
    }
   ],
   "source": [
    "5/3"
   ]
  },
  {
   "cell_type": "code",
   "execution_count": 3,
   "metadata": {},
   "outputs": [
    {
     "data": {
      "text/plain": [
       "0"
      ]
     },
     "execution_count": 3,
     "metadata": {},
     "output_type": "execute_result"
    }
   ],
   "source": [
    "9%3"
   ]
  },
  {
   "cell_type": "code",
   "execution_count": 5,
   "metadata": {},
   "outputs": [
    {
     "name": "stdout",
     "output_type": "stream",
     "text": [
      "ATG\n",
      "CCC\n",
      "TAC\n"
     ]
    }
   ],
   "source": [
    "x=\"ATGCCCTAC\"\n",
    "\n",
    "for i in range(3):\n",
    "    base=i*3\n",
    "    print (x[base:base+3])"
   ]
  },
  {
   "cell_type": "code",
   "execution_count": 8,
   "metadata": {},
   "outputs": [
    {
     "name": "stdout",
     "output_type": "stream",
     "text": [
      "ATG\n",
      "CCC\n",
      "TAC\n",
      "CAG\n",
      "TTT\n",
      "AT\n"
     ]
    }
   ],
   "source": [
    "x=\"ATGCCCTACCAGTTTAT\"\n",
    "num=0\n",
    "while True:\n",
    "    base=num*3\n",
    "    mycodon = (x[base:base+3])\n",
    "    print (mycodon)\n",
    "    if len(mycodon)<3: break\n",
    "    num+=1"
   ]
  },
  {
   "cell_type": "markdown",
   "metadata": {},
   "source": [
    "## Exercise 8.1: Using R Through Python!\n",
    "\n",
    "A. On Friday, you will be learning some basics of R! Install R, either manually through their site, or using the directions I gave in the lesson:\n",
    "\n",
    "```bash\n",
    "conda create -n r-environment r-essentials r-base\n",
    "conda activate r-environment\n",
    "\n",
    "```\n",
    "\n",
    "Put the above in your Terminal. This may take a while.\n",
    "\n",
    "B. After installing R, you should be able to run R scripts through your terminal! Download the following files from the exercise folder (courtesy of Hongru Wang).  \n",
    "1. plotPcaFromSmartpca.R\n",
    "2. modernEastAsian.pca.evec\n",
    "3. modernEastAsian.pca.megaGroup\n",
    "\n",
    "You do not need to know what the data or script do, but the end result of the following command is a pdf titled \"modernEastAsian.pdf\" that gives a PCA for modern East Asian populations. \n",
    "\n",
    "Normally you would run this in the Terminal, but we will run it using **subprocess.Popen**. Feel free to try it out, but make sure to delete it afterwards so you can see if it works with **subprocess.Popen**!\n",
    "\n",
    "```bash\n",
    "Rscript plotPcaFromSmartpca.R modernEastAsian.pca.evec modernEastAsian.pca.megaGroup 8 modernEastAsian\n",
    "```\n",
    "\n",
    "Using **subprocess.Popen**, send the output from the R script to a variable, and use it to make a **matplotlib** figure indicating the counts of each population (from greatest to least). \n",
    "\n",
    "C. Use **IPython.display** to open the resulting PCA pdf file \"modernEastAsian.pdf\" in your notebook. \n"
   ]
  },
  {
   "cell_type": "code",
   "execution_count": 3,
   "metadata": {},
   "outputs": [
    {
     "name": "stdout",
     "output_type": "stream",
     "text": [
      "There are ['SER', 'VAL', 'ASP', 'ASN', 'HIS', 'GLY', 'LEU', 'ARG', 'ARG', 'CYS', 'LEU', 'ILE', 'SER', 'THR', 'ASP', 'MET', 'HIS', 'HIS', 'ILE', 'GLU', 'GLU', 'SER', 'PHE', 'GLN', 'GLU', 'ILE', 'LYS', 'ARG', 'ALA', 'ILE', 'GLN', 'ALA', 'LYS', 'ASP', 'THR', 'PHE', 'PRO', 'ASN', 'VAL', 'THR', 'ILE', 'LEU', 'SER', 'THR', 'LEU', 'GLU', 'THR', 'LEU', 'GLN', 'ILE', 'ILE', 'LYS', 'PRO', 'LEU', 'ASP', 'VAL', 'CYS', 'CYS', 'VAL', 'THR', 'LYS', 'ASN', 'LEU', 'LEU', 'ALA', 'PHE', 'TYR', 'VAL', 'ASP', 'ARG', 'VAL', 'PHE', 'LYS', 'ASP', 'HIS', 'GLN', 'GLU', 'PRO', 'ASN', 'PRO', 'LYS', 'ILE', 'LEU', 'ARG', 'LYS', 'ILE', 'SER', 'SER', 'ILE', 'ALA', 'ASN', 'SER', 'PHE', 'LEU', 'TYR', 'MET', 'GLN', 'LYS', 'THR', 'LEU', 'ARG', 'GLN', 'CYS', 'GLN', 'GLU', 'GLN', 'ARG', 'GLN', 'CYS', 'HIS', 'CYS', 'ARG', 'GLN', 'GLU', 'ALA', 'THR', 'ASN', 'ALA', 'THR', 'ARG', 'VAL', 'ILE', 'HIS', 'ASP', 'ASN', 'TYR', 'ASP', 'GLN', 'LEU', 'GLU', 'VAL', 'HIS', 'ALA', 'ALA', 'ALA', 'ILE', 'LYS', 'SER', 'LEU', 'GLY', 'GLU', 'LEU', 'ASP', 'VAL', 'PHE', 'LEU', 'ALA', 'TRP', 'ILE', 'ASN', 'LYS', 'ASN', 'HIS', 'GLU', 'VAL', 'MET', 'SER', 'SER', 'ALA'] residues in the sequence\n",
      "20\n"
     ]
    },
    {
     "ename": "KeyError",
     "evalue": "'A'",
     "output_type": "error",
     "traceback": [
      "\u001b[0;31m---------------------------------------------------------------------------\u001b[0m",
      "\u001b[0;31mKeyError\u001b[0m                                  Traceback (most recent call last)",
      "\u001b[0;32m<ipython-input-3-a828db4a1503>\u001b[0m in \u001b[0;36m<module>\u001b[0;34m\u001b[0m\n\u001b[1;32m     83\u001b[0m     \u001b[0;31m# I could have used any of the different bfactor listings\u001b[0m\u001b[0;34m\u001b[0m\u001b[0;34m\u001b[0m\u001b[0;34m\u001b[0m\u001b[0m\n\u001b[1;32m     84\u001b[0m     \u001b[0mavg_helix\u001b[0m \u001b[0;34m=\u001b[0m \u001b[0msum\u001b[0m\u001b[0;34m(\u001b[0m\u001b[0mhelix_bfactors\u001b[0m\u001b[0;34m[\u001b[0m\u001b[0mchain\u001b[0m\u001b[0;34m]\u001b[0m\u001b[0;34m)\u001b[0m\u001b[0;34m/\u001b[0m\u001b[0mlen\u001b[0m\u001b[0;34m(\u001b[0m\u001b[0mhelix_bfactors\u001b[0m\u001b[0;34m[\u001b[0m\u001b[0mchain\u001b[0m\u001b[0;34m]\u001b[0m\u001b[0;34m)\u001b[0m\u001b[0;34m\u001b[0m\u001b[0;34m\u001b[0m\u001b[0m\n\u001b[0;32m---> 85\u001b[0;31m     \u001b[0mavg_sheet\u001b[0m \u001b[0;34m=\u001b[0m \u001b[0msum\u001b[0m\u001b[0;34m(\u001b[0m\u001b[0msheet_bfactors\u001b[0m\u001b[0;34m[\u001b[0m\u001b[0mchain\u001b[0m\u001b[0;34m]\u001b[0m\u001b[0;34m)\u001b[0m\u001b[0;34m/\u001b[0m\u001b[0mlen\u001b[0m\u001b[0;34m(\u001b[0m\u001b[0msheet_bfactors\u001b[0m\u001b[0;34m[\u001b[0m\u001b[0mchain\u001b[0m\u001b[0;34m]\u001b[0m\u001b[0;34m)\u001b[0m\u001b[0;34m\u001b[0m\u001b[0;34m\u001b[0m\u001b[0m\n\u001b[0m\u001b[1;32m     86\u001b[0m     \u001b[0mavg_other\u001b[0m \u001b[0;34m=\u001b[0m \u001b[0msum\u001b[0m\u001b[0;34m(\u001b[0m\u001b[0mother_bfactors\u001b[0m\u001b[0;34m[\u001b[0m\u001b[0mchain\u001b[0m\u001b[0;34m]\u001b[0m\u001b[0;34m)\u001b[0m\u001b[0;34m/\u001b[0m\u001b[0mlen\u001b[0m\u001b[0;34m(\u001b[0m\u001b[0mother_bfactors\u001b[0m\u001b[0;34m[\u001b[0m\u001b[0mchain\u001b[0m\u001b[0;34m]\u001b[0m\u001b[0;34m)\u001b[0m\u001b[0;34m\u001b[0m\u001b[0;34m\u001b[0m\u001b[0m\n\u001b[1;32m     87\u001b[0m     \u001b[0mprint\u001b[0m \u001b[0;34m(\u001b[0m\u001b[0;34mf'{chain}\\t{avg_helix:.5f}\\t{avg_sheet:.5f}\\t{avg_other:.5f}'\u001b[0m\u001b[0;34m)\u001b[0m\u001b[0;34m\u001b[0m\u001b[0;34m\u001b[0m\u001b[0m\n",
      "\u001b[0;31mKeyError\u001b[0m: 'A'"
     ]
    }
   ],
   "source": [
    "import sys, os\n",
    " \n",
    "full_seq = []\n",
    "helix_aa = []\n",
    "sheet_aa = []\n",
    "atoms = []\n",
    "pd=\"/Users/myang/YangLab/PythonBootcamp/resources/\"\n",
    "f1 = open(pd+'1N1F.pdb' ,'r')\n",
    "for next in f1:\n",
    "    tmp = next.strip().split()\n",
    "    if tmp[0] == 'SEQRES':\n",
    "        if tmp[2] == 'A':\n",
    "            full_seq.extend(tmp[4:])\n",
    "    elif tmp[0] == 'HELIX':\n",
    "        try:\n",
    "            int(tmp[5])\n",
    "        except:\n",
    "            tmp[5] = tmp[5][:-1]\n",
    "        helix_aa.append(tmp[:9])\n",
    "    elif tmp[0] == 'SHEET':\n",
    "        sheet_aa.append(tmp[:10])\n",
    "    elif tmp[0] == 'ATOM':\n",
    "        if len(tmp) < 12:\n",
    "            begin = tmp[0:2]\n",
    "            end = tmp[3:]\n",
    "            middle = [tmp[2][:3], tmp[2][4:]]\n",
    "            tmp = begin + middle + end\n",
    "        try:\n",
    "            int(tmp[5])\n",
    "        except:\n",
    "            continue\n",
    "        atoms.append(tmp)\n",
    " \n",
    "######################\n",
    " \n",
    "num_helix_res = 0.0\n",
    "print (f\"There are {full_seq} residues in the sequence\")\n",
    " \n",
    "# Set up a listing of features by residue, then fill it in as we go along\n",
    "feature = ['Other']*(10000)\n",
    " \n",
    "for aa in helix_aa:\n",
    "    # We add 1 because there are b-a+1 residues between a and b, inclusive\n",
    "    num_helix_res += float(aa[8]) - float(aa[5]) + 1\n",
    "    for i in range(int(aa[5]), int(aa[8])+1):\n",
    "        feature[i] = 'Helix'\n",
    " \n",
    "num_sheet_res = 0.0\n",
    "for sheet in sheet_aa:\n",
    "    num_sheet_res += float(sheet[9]) - float(sheet[6]) + 1\n",
    "    for i in range(int(sheet[6]), int(sheet[9])+1):\n",
    "        feature[i] = 'Sheet'\n",
    " \n",
    " \n",
    " # atom[4] == chain id\n",
    " # atom[5] == residue #\n",
    " # atom[10] == b-factor\n",
    " \n",
    " \n",
    "helix_bfactors = {}\n",
    "sheet_bfactors = {}\n",
    "other_bfactors = {}\n",
    " \n",
    "for atom in atoms:\n",
    "    Chain = atom[4]\n",
    "    BFactor = float(atom[10])\n",
    "    ResidueNum = int(atom[5])\n",
    " \n",
    "    if feature[ResidueNum] == 'Helix':\n",
    "        if Chain not in helix_bfactors:\n",
    "            helix_bfactors[Chain] = []\n",
    "        helix_bfactors[Chain].append(BFactor)\n",
    "    elif feature[ResidueNum] == 'Sheet':\n",
    "        if Chain not in sheet_bfactors:\n",
    "            sheet_bfactors[Chain] = []\n",
    "        sheet_bfactors[Chain].append(BFactor)\n",
    "    else:\n",
    "        if Chain not in sheet_bfactors:\n",
    "            other_bfactors[Chain] = []\n",
    "        other_bfactors[Chain].append(BFactor)\n",
    "print (len(list(set(full_seq))))\n",
    "for chain in helix_bfactors:\n",
    "    # I could have used any of the different bfactor listings\n",
    "    avg_helix = sum(helix_bfactors[chain])/len(helix_bfactors[chain])\n",
    "    avg_sheet = sum(sheet_bfactors[chain])/len(sheet_bfactors[chain])\n",
    "    avg_other = sum(other_bfactors[chain])/len(other_bfactors[chain])\n",
    "    print (f'{chain}\\t{avg_helix:.5f}\\t{avg_sheet:.5f}\\t{avg_other:.5f}')"
   ]
  },
  {
   "cell_type": "code",
   "execution_count": 4,
   "metadata": {},
   "outputs": [
    {
     "ename": "SyntaxError",
     "evalue": "invalid syntax (<ipython-input-4-6ba722528f86>, line 1)",
     "output_type": "error",
     "traceback": [
      "\u001b[0;36m  File \u001b[0;32m\"<ipython-input-4-6ba722528f86>\"\u001b[0;36m, line \u001b[0;32m1\u001b[0m\n\u001b[0;31m    1. Open a Terminal window.\u001b[0m\n\u001b[0m          ^\u001b[0m\n\u001b[0;31mSyntaxError\u001b[0m\u001b[0;31m:\u001b[0m invalid syntax\n"
     ]
    }
   ],
   "source": [
    "1. Open a Terminal window.\n",
    "2. At the prompt, change to the folder where the PHYLIP executables are kept. \n",
    "3. Copy the file linkmac from the src folder to this exe folder.\n",
    "4. Change the permissions of the script linkmac to allow it to execute: `chmod +x linkmac`\n",
    "5. Then execute the script by typing:   `./linkmac`\n",
    "6. Then, into your bash_profile, add a link to the executables in the `exe/` directory using the following (I recommend copying your bash_profile to a backup in case something gets messed up, e.g. I did `cp ~/.bash_profile ~/.bash_profile_copy`):\n",
    "\n",
    "```\n",
    "echo 'export PATH=/Users/myang/software/phylip-3.695/exe/:$PATH' >> ~/.bash_profile\n",
    "```\n"
   ]
  },
  {
   "cell_type": "code",
   "execution_count": null,
   "metadata": {},
   "outputs": [],
   "source": [
    "## Exercise 9.4: Making trees!\n",
    "\n",
    "With the ClustalX format, we can now use some built-in functions to create a tree!\n",
    "\n"
   ]
  },
  {
   "cell_type": "code",
   "execution_count": null,
   "metadata": {},
   "outputs": [],
   "source": [
    "from Bio import SeqIO\n",
    "\n",
    "import gzip\n",
    "\n",
    "pd=\"/Users/myang/YangLab/PythonBootcamp/resources/\"\n",
    "with gzip.open(pd+\"chrMT_sequences_2534.20160505.fasta.gz\",\"rt\") as handle:\n",
    "    \n",
    "    for seq_record in SeqIO.parse(handle, \"fasta\"):\n",
    "        print (seq_record)\n",
    "        break\n",
    "    "
   ]
  },
  {
   "cell_type": "code",
   "execution_count": null,
   "metadata": {},
   "outputs": [],
   "source": [
    "from Bio import SeqIO\n",
    "\n",
    "import gzip\n",
    "\n",
    "pd=\"/Users/myang/YangLab/PythonBootcamp/resources/\"\n",
    "with gzip.open(pd+\"chrMT_sequences_2534.20160505.fasta.gz\",\"rt\") as handle:\n",
    "    fastadat=SeqIO.to_dict(SeqIO.parse(handle, \"fasta\"))\n",
    "    \n",
    "myinds=[\"HG00096\",\"HG00097\",\"HG00099\",\"HG00100\",\"HG00101\", ##GBR\n",
    "        \"NA18525\",\"NA18526\",\"NA18528\",\"NA18530\",\"NA18531\", ##CHB\n",
    "        \"NA18486\",\"NA18488\",\"NA18489\",\"NA18498\",\"NA18499\"] ##YRI\n",
    "\n",
    "newfile=open(\"/Users/myang/YangLab/PythonBootcamp/resources/chrMT_subset.fasta\",\"w\")\n",
    "for i in fastadat:\n",
    "    #print (i)\n",
    "    if i in myinds: \n",
    "        newfile.write(f\">{i}\\n\")\n",
    "        newfile.write(f\"{fastadat[i].seq}\\n\")\n",
    "newfile.close()"
   ]
  },
  {
   "cell_type": "code",
   "execution_count": null,
   "metadata": {},
   "outputs": [],
   "source": [
    "\n",
    "from Bio import AlignIO\n",
    "\n",
    "pd=\"/Users/myang/YangLab/PythonBootcamp/resources/\"\n",
    "count = AlignIO.convert(pd+\"chrMT_subset.fasta\", \"fasta\", pd+\"1KG_mtdna.phy\", \"phylip\")\n",
    "print(\"Converted %i alignments\" % count)"
   ]
  },
  {
   "cell_type": "code",
   "execution_count": null,
   "metadata": {},
   "outputs": [],
   "source": [
    "from Bio import Phylo\n",
    "from Bio.Phylo.Applications import PhymlCommandline\n",
    "\n",
    "pd=\"/Users/myang/YangLab/PythonBootcamp/resources/\"\n",
    "cmd=PhymlCommandline(input=pd+\"1KG_mtdna.phy\")\n",
    "\n",
    "out_log, err_log = cmd()\n"
   ]
  },
  {
   "cell_type": "code",
   "execution_count": null,
   "metadata": {},
   "outputs": [],
   "source": [
    "from Bio import SeqIO\n",
    "from Bio import AlignIO\n",
    "import gzip\n",
    "\n",
    "pd=\"/Users/myang/YangLab/PythonBootcamp/resources/\"\n",
    "\n",
    "from Bio import Phylo\n",
    "from Bio.Phylo.Applications import PhymlCommandline\n",
    "cmd = PhymlCommandline(input=pd+\"1KG_mtdna.ph\")\n",
    "out_log, err_log = cmd()"
   ]
  },
  {
   "cell_type": "markdown",
   "metadata": {},
   "source": [
    "There's many different file types that can hold sequence information, and several are standardized. Let's convert our subsetted fasta data to a format that is readable by a software called ClustalX, which can help us determine a phylogeny for these data. \n",
    "\n",
    "To do this, use the **AlignIO.convert()** function. Look this up either in the tutorial or elsewhere. The Clustal format ends with \".aln\". Look [here](http://scikit-bio.org/docs/0.2.1/generated/skbio.io.clustal.html) for an example of the file format. Have you successfully created an ALN file?"
   ]
  },
  {
   "cell_type": "code",
   "execution_count": null,
   "metadata": {},
   "outputs": [],
   "source": []
  }
 ],
 "metadata": {
  "kernelspec": {
   "display_name": "Python 3",
   "language": "python",
   "name": "python3"
  },
  "language_info": {
   "codemirror_mode": {
    "name": "ipython",
    "version": 3
   },
   "file_extension": ".py",
   "mimetype": "text/x-python",
   "name": "python",
   "nbconvert_exporter": "python",
   "pygments_lexer": "ipython3",
   "version": "3.7.6"
  }
 },
 "nbformat": 4,
 "nbformat_minor": 4
}
