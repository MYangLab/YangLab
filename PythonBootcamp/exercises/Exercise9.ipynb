{
 "cells": [
  {
   "cell_type": "markdown",
   "metadata": {},
   "source": [
    "## Exercise 9.1: Fun with SeqIO!\n",
    "\n",
    "A. Get the help information on SeqIO.write and the .reverse_complement method, and figure out how to write out the reverse-complement of all of the yeast genome to a new file.\n",
    "\n",
    "B. Write a function that will convert a one-letter amino acid sequence (e.g. A = alanine, K = lysine, etc) into a three-letter amino acid sequence (alanine is Ala, lysine is Lys). You may find the following dictionary helpful:\n",
    "\n",
    "```python\n",
    "threecode = {'A':'Ala', 'B':'Asx', 'C':'Cys', 'D':'Asp',\n",
    "                 'E':'Glu', 'F':'Phe', 'G':'Gly', 'H':'His',\n",
    "                 'I':'Ile', 'K':'Lys', 'L':'Leu', 'M':'Met',\n",
    "                 'N':'Asn', 'P':'Pro', 'Q':'Gln', 'R':'Arg',\n",
    "                 'S':'Ser', 'T':'Thr', 'V':'Val', 'W':'Trp',\n",
    "                 'Y':'Tyr', 'Z':'Glx', 'X':'Xaa', '*':'Ter',\n",
    "                 'U':'Sel', 'O':'Pyl', 'J':'Xle',\n",
    "                 }\n",
    "```\n",
    "\n",
    "C. Now, import Bio.SeqUtils, and look at SeqUtils.seq3. How similar is this to what you wrote in part b?\n"
   ]
  },
  {
   "cell_type": "markdown",
   "metadata": {
    "collapsed": true
   },
   "source": [
    "## Exercise 9.2: Inputting zipped fasta files\n",
    "\n",
    "A. Take the set of modern human mtDNA from Exercise 7.5 in `chrMT_sequences_2534.20160505.fasta.gz`. This is a zipped file - use the [link here](http://biopython.org/DIST/docs/tutorial/Tutorial.html#sec59) in the Biopython tutorial to figure out how to open this file and print the fasta information. \n",
    "\n",
    "B. Seq objects have their own special dictionaries. Look up **SeqIO.to_dict()** (or the section in the [Tutorial](http://biopython.org/DIST/docs/tutorial/Tutorial.html#sec63) on sequence files as dictionaries) and see if you can add all of the information in the zipped fasta file into a single dictionary. \n",
    "\n",
    "C. Use Python to save only the following individuals into a new fasta file. To do this, look up **SeqIO.write()**"
   ]
  },
  {
   "cell_type": "code",
   "execution_count": null,
   "metadata": {},
   "outputs": [],
   "source": [
    "myinds=[\"HG00096\",\"HG00097\",\"HG00099\",\"HG00100\",\"HG00101\", ##GBR\n",
    "        \"NA18525\",\"NA18526\",\"NA18528\",\"NA18530\",\"NA18531\", ##CHB\n",
    "        \"NA18486\",\"NA18488\",\"NA18489\",\"NA18498\",\"NA18499\"] ##YRI"
   ]
  },
  {
   "cell_type": "markdown",
   "metadata": {},
   "source": [
    "## Exercise 9.3: Pairwise difference revisited\n",
    "\n",
    "In Exercise 7.5, you calculated pairwise differences between a set like that above. Can you take the code you wrote and modify it in the following ways:\n",
    "1. Use Biopython to read in the sequences.\n",
    "2. Use a numpy array to store number of differences between each pair. \n",
    "3. Replot the histogram directly from the numpy array."
   ]
  },
  {
   "cell_type": "markdown",
   "metadata": {},
   "source": [
    "## Exercise 9.4: Simulations!\n",
    "\n",
    "In the second to last example in Lesson 9, you simulated an array of genotype information for 5 individuals from one population and another five from a second population. \n",
    "\n",
    "1. Adjust the code so you have ten individuals from each populations.\n",
    "2. Determine all the pairwise differences WITHIN a population. Then, determine all pairwise differences BETWEEN individuals from two different populations. Calculate the average and standard deviation. \n",
    "3. Plot a histogram of the three distributions (two within, one between). What do you observe? Does this make sense?\n",
    "\n"
   ]
  },
  {
   "cell_type": "markdown",
   "metadata": {},
   "source": [
    "## Exercise 9.5: Out of Africa - CHALLENGE\n",
    "\n",
    "Take the last example from Lesson 9, the Out of Africa simulation. It turns out that Neanderthal admixture can be found in non-African populations. Can you create a fourth population that separated from all humans around 400,000 years ago that admixed into the ancestors of non-Africans around 50,000 years ago at a rate of 3%? Assume the effective population size was 1000, there was no population growth or continuous migration with other populations, and the ancestral population size of all populations in the simulation was 1000 as well. \n",
    "\n",
    "HINT: The following function represents admixture 200,000 years ago (assuming a generation time of 25 years), from the destination population (popn B) to the source population (popn C) of about 30%. \n",
    "```python\n",
    "msprime.MassMigration(\n",
    "            time=200000/25, source=2, destination=1, proportion=0.3)\n",
    "```"
   ]
  },
  {
   "cell_type": "markdown",
   "metadata": {},
   "source": [
    "## Exercise 9.6: Moving on\n",
    "\n",
    "I decided to end without a full 10 exercises, because you'll be practicing all summer. Now's the time to chat with me about a starting small project to synthesize what you've learned. Presumably it'll be a first step for your summer project. Let me know when you've arrived here, and we can set up a meeting to plan!"
   ]
  }
 ],
 "metadata": {
  "kernelspec": {
   "display_name": "Python 3",
   "language": "python",
   "name": "python3"
  },
  "language_info": {
   "codemirror_mode": {
    "name": "ipython",
    "version": 3
   },
   "file_extension": ".py",
   "mimetype": "text/x-python",
   "name": "python",
   "nbconvert_exporter": "python",
   "pygments_lexer": "ipython3",
   "version": "3.7.6"
  }
 },
 "nbformat": 4,
 "nbformat_minor": 2
}
