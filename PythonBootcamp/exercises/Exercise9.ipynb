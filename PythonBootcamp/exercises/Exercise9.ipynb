{
 "cells": [
  {
   "cell_type": "markdown",
   "metadata": {},
   "source": [
    "## Exercise 9.1: Fun with SeqIO!\n",
    "\n",
    "A. Get the help information on SeqIO.write and the .reverse_complement method, and figure out how to write out the reverse-complement of all of the yeast genome to a new file.\n",
    "\n",
    "B. Write a function that will convert a one-letter amino acid sequence (e.g. A = alanine, K = lysine, etc) into a three-letter amino acid sequence (alanine is Ala, lysine is Lys). You may find the following dictionary helpful:\n",
    "\n",
    "```python\n",
    "threecode = {'A':'Ala', 'B':'Asx', 'C':'Cys', 'D':'Asp',\n",
    "                 'E':'Glu', 'F':'Phe', 'G':'Gly', 'H':'His',\n",
    "                 'I':'Ile', 'K':'Lys', 'L':'Leu', 'M':'Met',\n",
    "                 'N':'Asn', 'P':'Pro', 'Q':'Gln', 'R':'Arg',\n",
    "                 'S':'Ser', 'T':'Thr', 'V':'Val', 'W':'Trp',\n",
    "                 'Y':'Tyr', 'Z':'Glx', 'X':'Xaa', '*':'Ter',\n",
    "                 'U':'Sel', 'O':'Pyl', 'J':'Xle',\n",
    "                 }\n",
    "```\n",
    "\n",
    "C. Now, import Bio.SeqUtils, and look at SeqUtils.seq3. How similar is this to what you wrote in part b?\n"
   ]
  },
  {
   "cell_type": "markdown",
   "metadata": {
    "collapsed": true
   },
   "source": [
    "## Exercise 9.2: Inputting zipped fasta files\n",
    "\n",
    "A. Take the set of modern human mtDNA from Exercise 7.5 in `chrMT_sequences_2534.20160505.fasta.gz`. This is a zipped file - use the [link here](http://biopython.org/DIST/docs/tutorial/Tutorial.html#sec59) in the Biopython tutorial to figure out how to open this file and print the fasta information. \n",
    "\n",
    "B. Seq objects have their own special dictionaries. Look up **SeqIO.to_dict()** (or the section in the [Tutorial](http://biopython.org/DIST/docs/tutorial/Tutorial.html#sec63) on sequence files as dictionaries) and see if you can add all of the information in the zipped fasta file into a single dictionary. \n"
   ]
  },
  {
   "cell_type": "markdown",
   "metadata": {},
   "source": [
    "## Exercise 9.3: \n",
    "\n",
    "Use Python to save only the following individuals into a new fasta file. To do this, look up **SeqIO.write()**\n",
    "\n"
   ]
  },
  {
   "cell_type": "code",
   "execution_count": null,
   "metadata": {},
   "outputs": [],
   "source": [
    "myinds=[\"HG00096\",\"HG00097\",\"HG00099\",\n",
    "        \"NA18525\",\"NA18526\",\"NA18528\",\n",
    "        \"NA18486\",\"NA18488\",\"NA18489\"]"
   ]
  },
  {
   "cell_type": "code",
   "execution_count": null,
   "metadata": {},
   "outputs": [],
   "source": []
  },
  {
   "cell_type": "code",
   "execution_count": 36,
   "metadata": {},
   "outputs": [
    {
     "name": "stdout",
     "output_type": "stream",
     "text": [
      "ID: HG00096\n",
      "Name: HG00096\n",
      "Description: HG00096\n",
      "Number of features: 0\n",
      "Seq('GATCACAGGTCTATCACCCTATTAACCACTCACGGGAGCTCTCCATGCATTTGG...ATG', SingleLetterAlphabet())\n"
     ]
    }
   ],
   "source": [
    "from Bio import SeqIO\n",
    "\n",
    "import gzip\n",
    "\n",
    "pd=\"/Users/myang/YangLab/PythonBootcamp/resources/\"\n",
    "with gzip.open(pd+\"chrMT_sequences_2534.20160505.fasta.gz\",\"rt\") as handle:\n",
    "    \n",
    "    for seq_record in SeqIO.parse(handle, \"fasta\"):\n",
    "        print (seq_record)\n",
    "        break\n",
    "    "
   ]
  },
  {
   "cell_type": "code",
   "execution_count": 37,
   "metadata": {},
   "outputs": [
    {
     "name": "stdout",
     "output_type": "stream",
     "text": [
      "16569\n",
      "16569\n",
      "16569\n",
      "16569\n",
      "16569\n",
      "16569\n",
      "16569\n",
      "16569\n",
      "16569\n"
     ]
    }
   ],
   "source": [
    "from Bio import SeqIO\n",
    "\n",
    "import gzip\n",
    "\n",
    "pd=\"/Users/myang/YangLab/PythonBootcamp/resources/\"\n",
    "with gzip.open(pd+\"chrMT_sequences_2534.20160505.fasta.gz\",\"rt\") as handle:\n",
    "    fastadat=SeqIO.to_dict(SeqIO.parse(handle, \"fasta\"))\n",
    "    \n",
    "myinds=[\"HG00096\",\"HG00097\",\"HG00099\",\n",
    "        \"NA18525\",\"NA18526\",\"NA18528\",\n",
    "        \"NA18486\",\"NA18488\",\"NA18489\"]\n",
    "\n",
    "newfile=open(\"/Users/myang/YangLab/PythonBootcamp/Lesson9/\")\n",
    "for i in fastadat:\n",
    "    #print (i)\n",
    "    if i in myinds: \n",
    "        newfile.write(f\">{i}\\n\")\n",
    "        print (f\"{fastadat[i].seq}\\n\"len())\n",
    "    "
   ]
  },
  {
   "cell_type": "code",
   "execution_count": 45,
   "metadata": {},
   "outputs": [
    {
     "name": "stdout",
     "output_type": "stream",
     "text": [
      "Converted 1 alignments\n"
     ]
    }
   ],
   "source": [
    "from Bio import SeqIO\n",
    "from Bio import AlignIO\n",
    "import gzip\n",
    "\n",
    "pd=\"/Users/myang/YangLab/PythonBootcamp/resources/\"\n",
    "with gzip.open(pd+\"chrMT_sequences_2534.20160505.fasta.gz\",\"rt\") as handle:\n",
    "    count = AlignIO.convert(handle, \"fasta\", pd+\"1KG_mtdna.aln\", \"clustal\")\n",
    "    print(\"Converted %i alignments\" % count)"
   ]
  },
  {
   "cell_type": "code",
   "execution_count": null,
   "metadata": {},
   "outputs": [],
   "source": []
  },
  {
   "cell_type": "code",
   "execution_count": 44,
   "metadata": {},
   "outputs": [
    {
     "ename": "ApplicationError",
     "evalue": "Non-zero return code 127 from 'phyml -i /Users/myang/YangLab/PythonBootcamp/resources/1KG_mtdna.ph', message '/bin/sh: phyml: command not found'",
     "output_type": "error",
     "traceback": [
      "\u001b[0;31m---------------------------------------------------------------------------\u001b[0m",
      "\u001b[0;31mApplicationError\u001b[0m                          Traceback (most recent call last)",
      "\u001b[0;32m<ipython-input-44-4b9202b59ec0>\u001b[0m in \u001b[0;36m<module>\u001b[0;34m\u001b[0m\n\u001b[1;32m      8\u001b[0m \u001b[0;32mfrom\u001b[0m \u001b[0mBio\u001b[0m\u001b[0;34m.\u001b[0m\u001b[0mPhylo\u001b[0m\u001b[0;34m.\u001b[0m\u001b[0mApplications\u001b[0m \u001b[0;32mimport\u001b[0m \u001b[0mPhymlCommandline\u001b[0m\u001b[0;34m\u001b[0m\u001b[0;34m\u001b[0m\u001b[0m\n\u001b[1;32m      9\u001b[0m \u001b[0mcmd\u001b[0m \u001b[0;34m=\u001b[0m \u001b[0mPhymlCommandline\u001b[0m\u001b[0;34m(\u001b[0m\u001b[0minput\u001b[0m\u001b[0;34m=\u001b[0m\u001b[0mpd\u001b[0m\u001b[0;34m+\u001b[0m\u001b[0;34m\"1KG_mtdna.ph\"\u001b[0m\u001b[0;34m)\u001b[0m\u001b[0;34m\u001b[0m\u001b[0;34m\u001b[0m\u001b[0m\n\u001b[0;32m---> 10\u001b[0;31m \u001b[0mout_log\u001b[0m\u001b[0;34m,\u001b[0m \u001b[0merr_log\u001b[0m \u001b[0;34m=\u001b[0m \u001b[0mcmd\u001b[0m\u001b[0;34m(\u001b[0m\u001b[0;34m)\u001b[0m\u001b[0;34m\u001b[0m\u001b[0;34m\u001b[0m\u001b[0m\n\u001b[0m",
      "\u001b[0;32m~/opt/anaconda3/lib/python3.7/site-packages/Bio/Application/__init__.py\u001b[0m in \u001b[0;36m__call__\u001b[0;34m(self, stdin, stdout, stderr, cwd, env)\u001b[0m\n\u001b[1;32m    567\u001b[0m \u001b[0;34m\u001b[0m\u001b[0m\n\u001b[1;32m    568\u001b[0m         \u001b[0;32mif\u001b[0m \u001b[0mreturn_code\u001b[0m\u001b[0;34m:\u001b[0m\u001b[0;34m\u001b[0m\u001b[0;34m\u001b[0m\u001b[0m\n\u001b[0;32m--> 569\u001b[0;31m             \u001b[0;32mraise\u001b[0m \u001b[0mApplicationError\u001b[0m\u001b[0;34m(\u001b[0m\u001b[0mreturn_code\u001b[0m\u001b[0;34m,\u001b[0m \u001b[0mstr\u001b[0m\u001b[0;34m(\u001b[0m\u001b[0mself\u001b[0m\u001b[0;34m)\u001b[0m\u001b[0;34m,\u001b[0m \u001b[0mstdout_str\u001b[0m\u001b[0;34m,\u001b[0m \u001b[0mstderr_str\u001b[0m\u001b[0;34m)\u001b[0m\u001b[0;34m\u001b[0m\u001b[0;34m\u001b[0m\u001b[0m\n\u001b[0m\u001b[1;32m    570\u001b[0m         \u001b[0;32mreturn\u001b[0m \u001b[0mstdout_str\u001b[0m\u001b[0;34m,\u001b[0m \u001b[0mstderr_str\u001b[0m\u001b[0;34m\u001b[0m\u001b[0;34m\u001b[0m\u001b[0m\n\u001b[1;32m    571\u001b[0m \u001b[0;34m\u001b[0m\u001b[0m\n",
      "\u001b[0;31mApplicationError\u001b[0m: Non-zero return code 127 from 'phyml -i /Users/myang/YangLab/PythonBootcamp/resources/1KG_mtdna.ph', message '/bin/sh: phyml: command not found'"
     ]
    }
   ],
   "source": [
    "from Bio import SeqIO\n",
    "from Bio import AlignIO\n",
    "import gzip\n",
    "\n",
    "pd=\"/Users/myang/YangLab/PythonBootcamp/resources/\"\n",
    "\n",
    "from Bio import Phylo\n",
    "from Bio.Phylo.Applications import PhymlCommandline\n",
    "cmd = PhymlCommandline(input=pd+\"1KG_mtdna.ph\")\n",
    "out_log, err_log = cmd()"
   ]
  },
  {
   "cell_type": "raw",
   "metadata": {},
   "source": []
  }
 ],
 "metadata": {
  "kernelspec": {
   "display_name": "Python 3",
   "language": "python",
   "name": "python3"
  },
  "language_info": {
   "codemirror_mode": {
    "name": "ipython",
    "version": 3
   },
   "file_extension": ".py",
   "mimetype": "text/x-python",
   "name": "python",
   "nbconvert_exporter": "python",
   "pygments_lexer": "ipython3",
   "version": "3.7.6"
  }
 },
 "nbformat": 4,
 "nbformat_minor": 2
}
