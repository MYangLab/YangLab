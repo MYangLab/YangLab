{
 "cells": [
  {
   "cell_type": "markdown",
   "metadata": {},
   "source": [
    "## Exercise 9.1: Fun with SeqIO!\n",
    "\n",
    "A. Get the help information on SeqIO.write and the .reverse_complement method, and figure out how to write out the reverse-complement of all of the yeast genome to a new file.\n",
    "\n",
    "B. Write a function that will convert a one-letter amino acid sequence (e.g. A = alanine, K = lysine, etc) into a three-letter amino acid sequence (alanine is Ala, lysine is Lys). You may find the following dictionary helpful:\n",
    "\n",
    "```python\n",
    "threecode = {'A':'Ala', 'B':'Asx', 'C':'Cys', 'D':'Asp',\n",
    "                 'E':'Glu', 'F':'Phe', 'G':'Gly', 'H':'His',\n",
    "                 'I':'Ile', 'K':'Lys', 'L':'Leu', 'M':'Met',\n",
    "                 'N':'Asn', 'P':'Pro', 'Q':'Gln', 'R':'Arg',\n",
    "                 'S':'Ser', 'T':'Thr', 'V':'Val', 'W':'Trp',\n",
    "                 'Y':'Tyr', 'Z':'Glx', 'X':'Xaa', '*':'Ter',\n",
    "                 'U':'Sel', 'O':'Pyl', 'J':'Xle',\n",
    "                 }\n",
    "```\n",
    "\n",
    "C. Now, import Bio.SeqUtils, and look at SeqUtils.seq3. How similar is this to what you wrote in part b?\n",
    "\n",
    "## Exercise 9.2: Work on mini-projects!\n",
    "Short presentations will be Monday August 14, starting from 9:30 am. I look forward to hearing about what you learned as tackled some small projects!"
   ]
  },
  {
   "cell_type": "code",
   "execution_count": null,
   "metadata": {
    "collapsed": true
   },
   "outputs": [],
   "source": []
  }
 ],
 "metadata": {
  "kernelspec": {
   "display_name": "Python 2",
   "language": "python",
   "name": "python2"
  },
  "language_info": {
   "codemirror_mode": {
    "name": "ipython",
    "version": 2
   },
   "file_extension": ".py",
   "mimetype": "text/x-python",
   "name": "python",
   "nbconvert_exporter": "python",
   "pygments_lexer": "ipython2",
   "version": "2.7.13"
  }
 },
 "nbformat": 4,
 "nbformat_minor": 2
}
