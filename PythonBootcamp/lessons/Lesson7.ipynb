{
 "cells": [
  {
   "cell_type": "markdown",
   "metadata": {},
   "source": [
    "## Lesson 7: Plotting using Matplotlib\n",
    "\n",
    "Okay, there's a lot more to this than we can realistically cover in one lecture, but there are lots of things you can do to make really cool figures in Python. We're going to be using Matplotlib, which is a plotting library that took a lot of the plotting functionality from the popular MATLAB software, re-wrote it in Python, and made it a lot easier to use.\n",
    "\n",
    "Matplotlib has a ton of features and can be incredibly powerful, thus, we only have time to cover the basics. Our goal is to give you a good enough understanding of how everything is set up so that you can start on your own and teach yourself the rest of what you'll need. Fortunately, the inline documentation for Matplotlib is pretty good, and you can look at the [extensive gallery](http://matplotlib.org/gallery.html#api) of examples and figure out how to make similar plots with your own data.\n",
    "\n",
    "We will be using the pyplot style. For more information on the different levels and sytles of Matplotlib see the [usage FAQ](http://matplotlib.org/faq/usage_faq.html).\n",
    "\n",
    "Let's make our first plot! Let's say we have some data that's approximately a line, but there's some noise in it. Let's plot it:"
   ]
  },
  {
   "cell_type": "code",
   "execution_count": null,
   "metadata": {
    "collapsed": true
   },
   "outputs": [],
   "source": [
    "%matplotlib inline"
   ]
  },
  {
   "cell_type": "markdown",
   "metadata": {},
   "source": [
    "The above line tells iPython notebook to display created figures in the notebook, which is handy for these demonstrations"
   ]
  },
  {
   "cell_type": "code",
   "execution_count": null,
   "metadata": {},
   "outputs": [],
   "source": [
    "import matplotlib.pyplot as plt\n",
    "import random\n",
    "\n",
    "x = range(0,100)\n",
    "y = [0.5 * i + 5 + 10*random.uniform(0,3) for i in x]\n",
    "\n",
    "fig = plt.figure()\n",
    "ax = fig.add_subplot(1,1,1)\n",
    "ax.plot(x, y)\n",
    "\n",
    "plt.show()"
   ]
  },
  {
   "cell_type": "markdown",
   "metadata": {},
   "source": [
    "Not too hard, but what did we just do?\n",
    "\n",
    "### *matplotlib.pyplot.**figure()***  \n",
    "This instantiates a figure object, which you can fill with one or more subplot objects (e.g. Fig. 1A, Fig. 1B, Fig. 1C, etc). **figure()** has many optional arguments which set global properties of your figure, like the size and resolution. One of the most usefull is the **figsize** kwarg."
   ]
  },
  {
   "cell_type": "code",
   "execution_count": null,
   "metadata": {},
   "outputs": [],
   "source": [
    "%matplotlib inline\n",
    "import matplotlib.pyplot as plt\n",
    "import random\n",
    "\n",
    "x = range(0,100)\n",
    "y = [0.5 * i + 5 + 10*random.uniform(0,3) for i in x]\n",
    "\n",
    "fig = plt.figure()\n",
    "##plt.figure??\n",
    "##fig = plt.figure(figsize=(6,12))\n",
    "ax = fig.add_subplot(1,1,1)\n",
    "ax.plot(x, y)\n",
    "\n",
    "plt.show()\n"
   ]
  },
  {
   "cell_type": "markdown",
   "metadata": {},
   "source": [
    "### *figure.**add_subplot()***  \n",
    "This method of figure objects instantiates an Axes object within the figure. In Matplotlib what we would think of as a graph, plot, or figure, is called an Axes, after the X and Y axes. Axes have many properties like x and y limits, a set of major (and sometimes minor) ticks for the x and y axes, an optional legend, and lots more data. Most of the time when you are making a figure you'll be working with the Axes. \n",
    "\n",
    "![Parts of a Figure](http://matplotlib.org/_images/fig_map.png \"Parts of a Figure\")\n",
    "\n",
    "The [manual](http://matplotlib.org/api/figure_api.html#matplotlib.pyplot.figure) tells us to look at [matplotlib.pyplot.subplot()](http://matplotlib.org/api/pyplot_api.html#matplotlib.pyplot.subplot) for an explanation of the three mandatory arguments to **add_subplot()**. We see they are **(nrows, ncols, plot_number)**. Note that plot_number starts at 1, not 0 like you would expect from Python. So to create a 4 x 1 array of plots we could do:"
   ]
  },
  {
   "cell_type": "code",
   "execution_count": null,
   "metadata": {},
   "outputs": [],
   "source": [
    "%matplotlib inline\n",
    "import matplotlib.pyplot as plt\n",
    "import random\n",
    "\n",
    "x = range(0,100)\n",
    "y = [0.5 * i + 5 + 10*random.uniform(0,3) for i in x]\n",
    "\n",
    "fig = plt.figure(figsize=(9,3))\n",
    "\n",
    "ax1 = fig.add_subplot(1,4,1)\n",
    "ax2 = fig.add_subplot(1,4,2)\n",
    "ax3 = fig.add_subplot(1,4,3)\n",
    "ax4 = fig.add_subplot(1,4,4)\n",
    "\n",
    "# God, that was tedious, lets just keep all these in a list.\n",
    "#axs = [fig.add_subplot(4,1,i+1) for i in range(4)]\n",
    "\n",
    "ax1.plot(x, y)\n",
    "#ax2.plot(x, y)\n",
    "#ax3.plot(x)\n",
    "#ax4.plot(y)\n",
    "#print x,y\n",
    "plt.show()"
   ]
  },
  {
   "cell_type": "markdown",
   "metadata": {},
   "source": [
    "### *Axes.**plot()***  \n",
    "Lastly, we plot our data series using this aptly named method. We can consult the documentation to find out what other kinds of arguments we can give it."
   ]
  },
  {
   "cell_type": "code",
   "execution_count": null,
   "metadata": {
    "collapsed": true
   },
   "outputs": [],
   "source": [
    "ax1.plot??"
   ]
  },
  {
   "cell_type": "markdown",
   "metadata": {},
   "source": [
    "You can see that there's a lot of different things you can do for something as simple as plotting... Markers, colors, lines. If you keep reading, you can even incorporate labels for the lines. Let's try this code, now, and see what it looks like:"
   ]
  },
  {
   "cell_type": "code",
   "execution_count": null,
   "metadata": {},
   "outputs": [],
   "source": [
    "%matplotlib inline\n",
    "import matplotlib.pyplot as plt\n",
    "import random\n",
    "\n",
    "x = range(0,100)\n",
    "y = [0.5 * i + 5 + 10*random.uniform(0,3) for i in x]\n",
    "\n",
    "fig = plt.figure(figsize=(6,12))\n",
    "axs = [fig.add_subplot(4,1,i+1) for i in range(4)]\n",
    "\n",
    "axs[0].plot(x, y, label=\"Original\")\n",
    "axs[1].plot(x, y, 'bo', label=\"Blue Points\")\n",
    "axs[2].plot(x, 'r+', label=\"Red + signs, x only\")\n",
    "axs[3].plot(y, '--', label=\"Dashed line, y only\")\n",
    "\n",
    "for i in range(4): axs[i].set_xlabel(\"x\")\n",
    "\n",
    "#legends = [ax.legend(loc='upper left') for ax in axs]\n",
    "#plt.tight_layout() ##This might make your plot look nicer!\n",
    "\n",
    "plt.show()"
   ]
  },
  {
   "cell_type": "markdown",
   "metadata": {},
   "source": [
    "Above, we did a lot of things:\n",
    "1. Introduced ways of making different colors and styles of plotting data. \n",
    "2. We also introduced adding labels and how to insert legends.\n",
    "3. We also introduced a **tight_layout** to make your figure look nicer!\n",
    "\n",
    "However, we could have plotted everything on a single figure instead!"
   ]
  },
  {
   "cell_type": "code",
   "execution_count": null,
   "metadata": {},
   "outputs": [],
   "source": [
    "x = range(0,100)\n",
    "y = [0.5 * i + 5 + 10*random.uniform(0,3) for i in x]\n",
    "\n",
    "fig = plt.figure(figsize=(6,12))\n",
    "ax=fig.add_subplot(111)\n",
    "\n",
    "ax.plot(x, y, label=\"Original\")\n",
    "ax.plot(x, y, 'bo', label=\"Blue Open Points\")\n",
    "ax.plot(x, 'r+', label=\"Red + signs, x only\")\n",
    "ax.plot(y, '--', label=\"Dashed line, y only\")\n",
    "\n",
    "ax.legend(loc='upper left')\n",
    "\n",
    "plt.show()\n",
    "\n",
    "##Let's also resize to make the figure more viewable - where do we do that?\n",
    "##Notice any differences from the above sub-figures?\n"
   ]
  },
  {
   "cell_type": "markdown",
   "metadata": {},
   "source": [
    "If we decide that we don't like the labels that we gave it before, we can pass a list of labels to **legend()**. Below, we change the legend, such that it no longer shows the given labels:"
   ]
  },
  {
   "cell_type": "code",
   "execution_count": null,
   "metadata": {},
   "outputs": [],
   "source": [
    "x = range(0,100)\n",
    "y = [0.5 * i + 5 + 10*random.uniform(0,3) for i in x]\n",
    "\n",
    "fig = plt.figure(figsize=(12,6))\n",
    "ax=fig.add_subplot(111)\n",
    "\n",
    "ax.plot(x, y, label=\"Original\")\n",
    "ax.plot(x, y, 'bo', label=\"Blue Open Points\")\n",
    "ax.plot(x, 'r+', label=\"Red + signs, x only\")\n",
    "ax.plot(y, '--', label=\"Dashed line, y only\")\n",
    "\n",
    "ax.legend(['First Entry', '2nd Entry'], loc='upper left')\n",
    "\n",
    "plt.show()\n",
    "\n",
    "##Notice any differences from the above sub-figures?"
   ]
  },
  {
   "cell_type": "markdown",
   "metadata": {},
   "source": [
    "To see what other arguments we can give the **legend()** method, lets consult Python's help system:"
   ]
  },
  {
   "cell_type": "code",
   "execution_count": null,
   "metadata": {
    "collapsed": true
   },
   "outputs": [],
   "source": [
    "ax.legend?"
   ]
  },
  {
   "cell_type": "code",
   "execution_count": null,
   "metadata": {},
   "outputs": [],
   "source": [
    "x = range(0,100)\n",
    "y = [0.5 * i + 5 + 10*random.uniform(0,3) for i in x]\n",
    "\n",
    "fig = plt.figure(figsize=(12,6))\n",
    "ax=fig.add_subplot(111)\n",
    "\n",
    "ax.plot(x, y, label=\"Original\")\n",
    "ax.plot(x, y, 'bo', label=\"Blue Open Points\")\n",
    "ax.plot(x, 'r+', label=\"Red + signs, x only\")\n",
    "ax.plot(y, '--', label=\"Dashed line, y only\")\n",
    "\n",
    "ax.legend(['First Entry', '2nd Entry'], loc='lower right', numpoints=1, fancybox=True, shadow=True)\n",
    "\n",
    "plt.show()"
   ]
  },
  {
   "cell_type": "markdown",
   "metadata": {},
   "source": [
    "### matplotlib.pyplot.savefig()\n",
    "Ok, so let's say you've spent all this time and you're reasonably satisfied with the figure you've created. To save the figure into a file, use the **savefig** function:"
   ]
  },
  {
   "cell_type": "code",
   "execution_count": null,
   "metadata": {},
   "outputs": [],
   "source": [
    "x = range(0,100)\n",
    "y = [0.5 * i + 5 + 10*random.uniform(0,3) for i in x]\n",
    "\n",
    "fig = plt.figure(figsize=(12,6))\n",
    "ax=fig.add_subplot(111)\n",
    "\n",
    "ax.plot(x, y, label=\"Original\")\n",
    "ax.plot(x, y, 'bo', label=\"Blue Open Points\")\n",
    "ax.plot(x, 'r+', label=\"Red + signs, x only\")\n",
    "ax.plot(y, '--', label=\"Dashed line, y only\")\n",
    "\n",
    "ax.legend(['First Entry', '2nd Entry'], loc='lower right', numpoints=1, fancybox=True, shadow=True)\n",
    "\n",
    "plt.savefig('Lesson7_Fig1.png',format='png')\n",
    "#OR\n",
    "plt.savefig('Lesson7_Fig1.pdf',format='pdf')"
   ]
  },
  {
   "cell_type": "code",
   "execution_count": null,
   "metadata": {},
   "outputs": [],
   "source": [
    "%%bash\n",
    "ls"
   ]
  },
  {
   "cell_type": "markdown",
   "metadata": {},
   "source": [
    "One useful trick in jupyter notebook is that you can also display images! Below are ways to directly look at the image in the notebook, if you don't want to go find the folder to open the file!"
   ]
  },
  {
   "cell_type": "code",
   "execution_count": null,
   "metadata": {},
   "outputs": [],
   "source": [
    "from IPython.display import Image\n",
    "Image(\"Lesson7_Fig1.png\") #,width=300,height=100)"
   ]
  },
  {
   "cell_type": "code",
   "execution_count": null,
   "metadata": {},
   "outputs": [],
   "source": [
    "from IPython.display import IFrame\n",
    "IFrame(\"Lesson7_Fig1.pdf\", width=600, height=300)"
   ]
  },
  {
   "cell_type": "markdown",
   "metadata": {},
   "source": [
    "Pretty cool! You can load your data, graph it in the way that you want, and then save that figure, ready to go, or import into Illustrator or any other image editor of your choice for further editing.\n",
    "\n",
    "Below we show some more complex examples, with many different types of plots:\n",
    "1. Scatter Plots\n",
    "2. Histogram\n",
    "3. Bar Plots"
   ]
  },
  {
   "cell_type": "markdown",
   "metadata": {},
   "source": [
    "## Scatter Plots\n",
    "\n",
    "Scatter plots are useful to look at correlation. Usually, you have two sets of data, and you plot one on the x-axis and the other on the y-axis. Thus, any one data point in **x** matches up to a point in the other dataset **y**. This plots exactly as the tutorials we have been trying above. \n",
    "\n",
    "Let's take the data file \"Lesson7_dataset1.txt\" shown below (press Shift+Enter to save it to a text file). We will make a scatter plot comparing the UstIshim individual to the Han individual.\n"
   ]
  },
  {
   "cell_type": "code",
   "execution_count": null,
   "metadata": {},
   "outputs": [],
   "source": [
    "%%writefile Lesson7_dataset1.txt\n",
    "P1/P2\tOroqen\tDaur\tHezhen\tUygur\tXibo\tJapanese\tKorean\tTu\tTujia\tMiao\tYi\tShe\tNaxi\tAtayal\tAmi\tLahu\tDai\tKinh\tBurmese\tThai\tCambodian\n",
    "UstIshim\t-9.9\t-8.3\t-10.1\t-3.6\t-9.4\t-10.5\t-9.7\t-8.3\t-9.9\t-10.2\t-10.7\t-10.1\t-10.4\t-8.8\t-10.2\t-10\t-10.7\t-9.5\t-9.2\t-8.9\t-8.9\n",
    "Kostenki14\t-10.8\t-9\t-11.2\t-4.6\t-10.6\t-11.2\t-10.6\t-9.5\t-10.9\t-11.7\t-11.9\t-11.2\t-11.4\t-9.1\t-11.1\t-10.5\t-11.5\t-10.4\t-10\t-9.8\t-9.4\n",
    "Loschbour\t-10.1\t-8.5\t-10.7\t-3.3\t-9.9\t-10.9\t-10.2\t-8.5\t-10.7\t-10.8\t-11.5\t-10.5\t-11\t-8.8\t-10.6\t-10.7\t-11.2\t-9.8\t-9.6\t-9\t-8.8\n",
    "Han\t0.8\t2.5\t0.6\t12.3\t2.3\t0.6\t1.2\t4.1\t0.5\t-0.2\t-0.8\t0.7\t0.7\t1.1\t-0.1\t0.4\t0.4\t2.2\t3\t3.2\t3.5"
   ]
  },
  {
   "cell_type": "code",
   "execution_count": null,
   "metadata": {},
   "outputs": [],
   "source": [
    "#%matplotlib inline\n",
    "import matplotlib.pyplot as plt\n",
    "\n",
    "pd=\"/Users/melyang/Desktop/PythonBootcamp2017/lessons/\"\n",
    "filename=pd+\"Lesson7_dataset1.txt\"\n",
    "datfile=open(filename,'r')\n",
    "\n",
    "datdict={}\n",
    "for line in datfile:\n",
    "    x=line.strip().split()\n",
    "    if x[0]==\"P1/P2\": continue\n",
    "    else:\n",
    "        datdict[x[0]] = [float(i) for i in x[1:]]\n",
    "        \n",
    "datfile.close()\n",
    "\n",
    "myx=datdict['Han']\n",
    "myy=datdict['UstIshim']\n",
    "     \n",
    "fig = plt.figure(figsize=(3,3))\n",
    "ax=fig.add_subplot(111)\n",
    "\n",
    "ax.plot(myx, myy, 'o', label=\"Han vs UstIshim\")\n",
    "plt.tight_layout()\n",
    "plt.show()"
   ]
  },
  {
   "cell_type": "markdown",
   "metadata": {},
   "source": [
    "Now let's expand and try all pairs!"
   ]
  },
  {
   "cell_type": "code",
   "execution_count": null,
   "metadata": {},
   "outputs": [],
   "source": [
    "#%matplotlib inline\n",
    "import matplotlib.pyplot as plt\n",
    "\n",
    "pd=\"/Users/melyang/Desktop/PythonBootcamp2017/lessons/\"\n",
    "filename=pd+\"Lesson7_dataset1.txt\"\n",
    "datfile=open(filename,'r')\n",
    "\n",
    "datdict={}\n",
    "for line in datfile:\n",
    "    x=line.strip().split()\n",
    "    if x[0]==\"P1/P2\": continue\n",
    "    else:\n",
    "        datdict[x[0]] = [float(i) for i in x[1:]]\n",
    "        \n",
    "datfile.close()\n",
    "\n",
    "fig = plt.figure(figsize=(5,5))\n",
    "ax=fig.add_subplot(1,1,1)\n",
    "for indx,xkey in enumerate(datdict.keys()):\n",
    "    for ykey in datdict.keys()[indx+1:]:\n",
    "        myx=datdict[xkey]\n",
    "        myy=datdict[ykey]\n",
    "        ax.plot(myx, myy,'o',markersize=5,label=\"%s vs %s\" % (xkey,ykey))\n",
    "\n",
    "\n",
    "ax.legend(loc='upper right',fontsize=8)\n",
    "plt.tight_layout()\n",
    "plt.show()\n"
   ]
  },
  {
   "cell_type": "markdown",
   "metadata": {},
   "source": [
    "Okay, we start to see patterns, but this figure is still very confusing. \n",
    "\n",
    "Let's do a few things: \n",
    "1. Put labels on the x- and y- axes.\n",
    "2. Add two lines over x=0 and y=0 to orient ourselves."
   ]
  },
  {
   "cell_type": "code",
   "execution_count": null,
   "metadata": {},
   "outputs": [],
   "source": [
    "#%matplotlib inline\n",
    "import matplotlib.pyplot as plt\n",
    "\n",
    "pd=\"/Users/melyang/Desktop/PythonBootcamp2017/lessons/\"\n",
    "filename=pd+\"Lesson7_dataset1.txt\"\n",
    "datfile=open(filename,'r')\n",
    "\n",
    "datdict={}\n",
    "for line in datfile:\n",
    "    x=line.strip().split()\n",
    "    if x[0]==\"P1/P2\": continue\n",
    "    else:\n",
    "        datdict[x[0]] = [float(i) for i in x[1:]]\n",
    "        \n",
    "datfile.close()\n",
    "     \n",
    "fig = plt.figure(figsize=(5,5))\n",
    "ax=fig.add_subplot(1,1,1)\n",
    "for indx,xkey in enumerate(datdict.keys()):\n",
    "    for ykey in datdict.keys()[indx+1:]:\n",
    "        myx=datdict[xkey]\n",
    "        myy=datdict[ykey]\n",
    "        ax.plot(myx, myy,'o',markersize=5,label=\"%s vs %s\" % (xkey,ykey))\n",
    "\n",
    "##1##\n",
    "ax.set_ylabel(\"Z for D(Ind2,Asn;Tianyuan,Mbuti)\")\n",
    "ax.set_xlabel(\"Z for D(Ind1,Asn;Tianyuan,Mbuti)\")\n",
    "##\n",
    "\n",
    "##2##\n",
    "ax.axhline(y=0,color='black')\n",
    "ax.axvline(x=0,color='black')\n",
    "## How can we make these lines appear behind the dots instead of in front?\n",
    "\n",
    "ax.legend(loc='upper right',fontsize=8)\n",
    "plt.tight_layout()\n",
    "plt.show()\n"
   ]
  },
  {
   "cell_type": "markdown",
   "metadata": {},
   "source": [
    "In the figure above, what we were plotting is a statistic called the D-statistic, which looks for relative amounts of shared alleles (actually we plotted the Z-score corresponding to each D-statistic, but our results should be qualitatively similar). \n",
    "\n",
    "We plotted D(X, Asian Popn; Tianyuan, Mbuti). The Tianyuan individual is a 40,000-year-old individual from outside of Beijing (see [this paper](http://www.pnas.org/content/110/6/2223.short) - these data are actually unpublished but hopefully will be published soon!)\n",
    "\n",
    "Basically, D > 0 indicates the individual X shares ***more*** alleles with the Tianyuan individual than other Asian populations share, while D < 0 indicates the individual X shares ***less*** alleles with the Tianyuan individual than other Asian populations share. \n",
    "\n",
    "We see that the UstIshim, Kostenki14, and Loschbour individuals show very negative results when compared to each other, indicating they all do not share nearly as many alleles with the Tianyuan individual than other Asian populations. \n",
    "\n",
    "Is there anything misleading about the figure? \n",
    "How many interesting things are going on? \n",
    "Are there two different things happening in the Han comparisons?"
   ]
  },
  {
   "cell_type": "code",
   "execution_count": null,
   "metadata": {},
   "outputs": [],
   "source": [
    "#%matplotlib inline\n",
    "import matplotlib.pyplot as plt\n",
    "\n",
    "pd=\"/Users/melyang/Desktop/PythonBootcamp2017/lessons/\"\n",
    "filename=pd+\"Lesson7_dataset1.txt\"\n",
    "datfile=open(filename,'r')\n",
    "\n",
    "datdict={}\n",
    "for line in datfile:\n",
    "    x=line.strip().split()\n",
    "    if x[0]==\"P1/P2\": continue\n",
    "    else:\n",
    "        datdict[x[0]] = [float(i) for i in x[1:]]\n",
    "        \n",
    "datfile.close()\n",
    "\n",
    "fig = plt.figure(figsize=(5,5))\n",
    "ax=fig.add_subplot(1,1,1)\n",
    "\n",
    "ax.axhline(y=0,color='black')\n",
    "ax.axvline(x=0,color='black')\n",
    "\n",
    "for indx,xkey in enumerate(datdict.keys()):\n",
    "    for ykey in datdict.keys()[indx+1:]:\n",
    "        if xkey==\"Han\":\n",
    "            myx=datdict[ykey]\n",
    "            myy=datdict[xkey]\n",
    "            mylabeltuple=(ykey,xkey)\n",
    "        else:\n",
    "            myx=datdict[xkey]\n",
    "            myy=datdict[ykey]\n",
    "            mylabeltuple=(xkey,ykey)\n",
    "        ax.plot(myx, myy,'o',markersize=5,label=\"%s vs %s\" % mylabeltuple)\n",
    "\n",
    "ax.set_ylabel(\"Z for D(Ind2,Asn;Tianyuan,Mbuti)\")\n",
    "ax.set_xlabel(\"Z for D(Ind1,Asn;Tianyuan,Mbuti)\")\n",
    "\n",
    "\n",
    "ax.legend(loc='lower right',fontsize=8)\n",
    "plt.tight_layout()\n",
    "plt.show()\n"
   ]
  },
  {
   "cell_type": "markdown",
   "metadata": {},
   "source": [
    "## Histograms\n",
    "Histograms give a distribution of your statistics. \n",
    "\n",
    "This might showcase our results even better than the scatter plot above."
   ]
  },
  {
   "cell_type": "code",
   "execution_count": null,
   "metadata": {},
   "outputs": [],
   "source": [
    "%matplotlib inline\n",
    "import matplotlib.pyplot as plt\n",
    "\n",
    "pd=\"/Users/melyang/Desktop/PythonBootcamp2017/lessons/\"\n",
    "filename=pd+\"Lesson7_dataset1.txt\"\n",
    "datfile=open(filename,'r')\n",
    "\n",
    "datdict={}\n",
    "for line in datfile:\n",
    "    x=line.strip().split()\n",
    "    if x[0]==\"P1/P2\": continue\n",
    "    else:\n",
    "        datdict[x[0]] = [float(i) for i in x[1:]]\n",
    "        \n",
    "datfile.close()\n",
    "     \n",
    "fig = plt.figure(figsize=(5,5))\n",
    "ax=fig.add_subplot(1,1,1)\n",
    "\n",
    "for xkey in datdict.keys():\n",
    "    ax.hist(datdict[xkey],label=\"X = %s\" % xkey)\n",
    "    \n",
    "ax.axvline(x=0, color='r', linestyle='dashed', linewidth=2)\n",
    "ax.set_xlabel(\"X\")\n",
    "ax.set_ylabel(\"Z for D(X,Asn;Tianyuan,Mbuti)\") #alpha=0.5\n",
    "\n",
    "ax.legend(loc='upper right',fontsize=8)\n",
    "plt.tight_layout()\n",
    "plt.show()\n"
   ]
  },
  {
   "cell_type": "markdown",
   "metadata": {},
   "source": [
    "## Bar Plots\n",
    "\n",
    "Here's a bar plot example!\n",
    "\n",
    "Let's take the protein script from Exercise 2 and the modified form we used in Lesson 5, where we used the **collections** module. Perhaps we want to get a count of each amino acid we used? "
   ]
  },
  {
   "cell_type": "code",
   "execution_count": null,
   "metadata": {},
   "outputs": [],
   "source": [
    "#%matplotlib inline\n",
    "import matplotlib.pyplot as plt\n",
    "\n",
    "pd=\"/Users/melyang/Desktop/PythonBootcamp2017/resources/\"\n",
    "protSeq = []\n",
    "f1 = open(pd+'2q6h.pdb', 'r')\n",
    "for next in f1:\n",
    "    if next[:6] == 'SEQRES':\n",
    "        line = next.strip().split()\n",
    "        del line[:4]\n",
    "        for aa in line:\n",
    "            protSeq.append(aa)\n",
    "f1.close()\n",
    "\n",
    "import collections\n",
    "mycounts=collections.Counter(protSeq).most_common()\n",
    "mylabels=[i[0] for i in mycounts]\n",
    "mycountvals=[i[1] for i in mycounts]\n",
    "\n",
    "fig = plt.figure(figsize=(10,3))\n",
    "ax = fig.add_subplot(1, 1, 1)\n",
    "\n",
    "x = range(len(mylabels))\n",
    "ax.bar(x,mycountvals,align='center')\n",
    "ax.set_xlim(-1,len(mylabels))\n",
    "ax.set_xticks(x)\n",
    "ax.set_xticklabels(mylabels)\n",
    "plt.tight_layout()\n",
    "plt.show()"
   ]
  },
  {
   "cell_type": "markdown",
   "metadata": {},
   "source": [
    "One final note: the [matplotlib documentation](http://matplotlib.org/contents.html) can be immensely helpful in aiding you to make a plot that fits your science needs. Not only is there a gallery of example plots, but there are also demo scripts that give you the code for how to make these plots. These demo scripts can easily be adapted for your own plotting purposes. No need to try and remember all of these functions and methods! Plus, unless you make the same kind of plot many many times, it would be virtually impossible to remember all of the different methods and functions that this plotting library contains."
   ]
  },
  {
   "cell_type": "code",
   "execution_count": null,
   "metadata": {
    "collapsed": true
   },
   "outputs": [],
   "source": []
  }
 ],
 "metadata": {
  "kernelspec": {
   "display_name": "Python 2",
   "language": "python",
   "name": "python2"
  },
  "language_info": {
   "codemirror_mode": {
    "name": "ipython",
    "version": 2
   },
   "file_extension": ".py",
   "mimetype": "text/x-python",
   "name": "python",
   "nbconvert_exporter": "python",
   "pygments_lexer": "ipython2",
   "version": "2.7.13"
  }
 },
 "nbformat": 4,
 "nbformat_minor": 2
}
