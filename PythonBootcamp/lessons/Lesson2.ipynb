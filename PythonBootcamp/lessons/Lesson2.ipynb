{
 "cells": [
  {
   "cell_type": "markdown",
   "metadata": {},
   "source": [
    "# Lesson 2: Keeping track of your data in Python\n",
    "\n",
    "1. Strings\n",
    "2. Lists\n",
    "3. Tuples\n",
    "4. Dictionaries\n",
    "\n",
    "Last time we started using Python and began to learn about different object types. Today, we will explore what you can do with strings, before moving on to different ways of grouping data (i.e., lists, tuples, dictionaries). You will learn how to retrieve a single element in your set of data, how to grab a subset, how to modify your set of data by adding or deleting values, etc. "
   ]
  },
  {
   "cell_type": "markdown",
   "metadata": {},
   "source": [
    "## Strings\n",
    "\n",
    "Before we begin with sets of data, let's explore a bit more what we can do with a data type - particularly strings. Last time, you learned how to concatenate a string - that is, how to put two strings together. For example, "
   ]
  },
  {
   "cell_type": "code",
   "execution_count": null,
   "metadata": {},
   "outputs": [],
   "source": [
    "var1=\"Chinese Academy of Sciences\"\n",
    "var2=\"Institute of Vertebrate Paleontology and Paleoanthropology\"\n",
    "var3 = var1+var2\n",
    "#var3 = var1+' '+var2 \n",
    "print var1\n",
    "print var2\n",
    "print var3"
   ]
  },
  {
   "cell_type": "markdown",
   "metadata": {},
   "source": [
    "Here, we will learn what else can be done with strings. As mentioned, strings are specified by wrapping a series of characters in quotes. These can be quotes of three different flavors. The first two, single (a.k.a. the apostrophe) and double, are familiar (although don't confuse the single quote (') with the backtick (`) -- the one that's probably above the tilde (~) on your keyboard).\n",
    "Single and double quotes can more or less be used interchangeably, the only exception being which type of quote is allowed to appear inside the string. If the string itself is double-quoted, single quotes may appear inside the string, and visa-versa:\n",
    "```python\n",
    "s1 = 'hello \"world\", if that is your real name.'\n",
    "s2 =\"That's World, to you, buddy.\"\n",
    "```\n",
    "Double quotes are present in s1, and a single quote appears in s2, but the two cannot be combined. In order to use both single and double quotes in the same print statement, employ the triple quote, which is actually just three single quotes, as shown in s3.\n",
    "```python\n",
    "s3 = '''hello \"world\", if that is your real name.\n",
    "That's World, to you, buddy.'''\n",
    "```\n",
    "Note two aspects of the triple quotes: 1) Both single and double quotes can be used inside triple quotes. 2) Triple quoted strings can span multiple lines, and line breaks inside the quoted string are stored and faithfully displayed in the print operation."
   ]
  },
  {
   "cell_type": "markdown",
   "metadata": {},
   "source": [
    "### Escape characters"
   ]
  },
  {
   "cell_type": "code",
   "execution_count": null,
   "metadata": {},
   "outputs": [],
   "source": [
    "s1 = 'some\\thing is missing'\n",
    "print s1\n",
    "s2 = \"somethi\\ng is broken\"\n",
    "print s2\n",
    "s3 = '''something th\\at will drive you b\\an\\an\\as'''\n",
    "print s3\n",
    " \n",
    "s4 = r'\\a solu\\tio\\n'\n",
    "print s4\n",
    " \n",
    "s5 = '\\\\another solu\\\\tio\\\\n'\n",
    "print s5"
   ]
  },
  {
   "cell_type": "markdown",
   "metadata": {},
   "source": [
    "This ugly (and possibly loud, if your sound is working properly) mess is caused by escape characters. In python strings, several special characters (full list here: http://docs.python.org/ref/strings.html) can be preceded by a backslash \"\\\" to produce special output, such as: ***a tab (\\t), newline (\\n) or even a bell noise (\\a)***.\n",
    "\n",
    "This is handy, since it means you can liberally pepper your strings with tabs and line breaks. In fact, lots of the data that we use are conveniently stored in files that are delimited by such tabs and line breaks. This might be a problem, however, say if you wanted to use a backslash in your string. Python offers two ways around this: the safest is to escape your escape, using a second backslash (see s5 above, '\\\\'). A fancier way involves a special kind of string, the raw string.\n",
    "\n",
    "Raw strings start with r' and end with ' will treat every character between as exactly what it looks like, with the exception of the single quote (which ends the string). If you do use raw strings, watch out for two catches:\n",
    "1) You must still escape single quotes you want to appear inside the string.\n",
    "2) The last character of the string cannot be a backslash, since this will escape the closing quote.\n",
    "\n",
    "There are proper times and places for the use of the raw string method, but in general we recommend just escaping your backslashes.\n",
    "\n",
    "As a final point on escapes, \\' and \\\" provide a means to employ single quotes inside a single quoted string, and likewise double quotes in a double quoted string."
   ]
  },
  {
   "cell_type": "code",
   "execution_count": null,
   "metadata": {},
   "outputs": [],
   "source": [
    "s6 = r'don't do this'\n",
    "#s6 = r'but there ain\\'t a problem with this'\n",
    "print s6\n",
    "\n",
    "s7 = r'this is bad\\'\n",
    "#s7 = r'but this is okay\\ '\n",
    "print s7"
   ]
  },
  {
   "cell_type": "markdown",
   "metadata": {},
   "source": [
    "### Strings: as sequence type, index and slice (substring)\n",
    "\n",
    "Strings are merely successions of characters, and python stores and operates on them as such. The official python lingo for something that can be operated on as an ordered series of sub-elements is a 'sequence'. While several python data types are sequences, strings are the only one we'll deal with today. In the next couple of days, however, some of the notation you learn today will come back in other contexts.\n",
    "\n",
    "The first property of sequences we'll look at is indexing.\n",
    "\n",
    "```python\n",
    "name = 'Melinda A. Yang'\n",
    "middle_initial = name[8]\n",
    "```\n",
    "\n",
    "***NUMBERING STARTS AT ZERO***\n",
    "\n",
    "Using indexing, it's possible to pick out any number of individual characters in this manner and stitch them back together as substrings, but sequences can also be operated on in contiguous subsets of indices, called slices. Slices look like indices, except with two numbers separated by a colon. The slice starts at the index of the first number, and ends at the index before the second number, so in the example above name[7:11] would be ' A. ' (middle initial, and both flanking spaces). This lets us do handy things like:\n",
    "```python \n",
    "first = name[0:7]\n",
    "last = name[11:]\n",
    "```\n",
    "\n",
    "**Python uses 0-based indexing:**\n",
    "\n",
    "Many programming languages (C, Java) use the same 0-based indexing as Python. Others, such as R (and UNIX!), use 1-based indexing. Though both have their advantages and disadvantanges, Python's 0-base 'half-open' indexing offers some elegance.\n",
    "\n",
    "If you want to select the first n elements of a sequence, and the rest of the sequence, you can do this without fussing with any +/- 1."
   ]
  },
  {
   "cell_type": "code",
   "execution_count": null,
   "metadata": {},
   "outputs": [],
   "source": [
    "name = 'Melinda A. Yang'\n",
    "middle_initial = name[8]\n",
    "print middle_initial\n",
    "print name[7:11]\n",
    "first = name[:7] #can also put zero\n",
    "last = name[11:]\n",
    "print first\n",
    "print last"
   ]
  },
  {
   "cell_type": "markdown",
   "metadata": {},
   "source": [
    "\n",
    "## Inserting and formatting variables in strings\n",
    "\n",
    "The final string topic we'll discuss is the specific formatting and insertion of variables into strings. There are two methods.\n",
    "\n",
    "***Concatenation***\n",
    "\n",
    "As you learned last lesson, concatenating strings is one method of inserting a variable into a string. \n",
    "\n",
    "```python\n",
    "name = 'Melinda A. Yang'\n",
    "middle_initial = name[8]\n",
    "first = name[:7]\n",
    "last = name[11:]\n",
    "\n",
    "last_first=last+\", \"+first+\" \"+middle_initial+\".\"\n",
    "```\n",
    "\n",
    "***String interpolation***\n",
    "\n",
    "Another method python offers, called string interpolation, for injecting variables into strings is shown in the following:\n",
    "```python\n",
    "last_first = '%s, %s %s.' % (last, first, middle_initial)\n",
    "```\n",
    "This handily replaces all those + operations with a very readable string, where %s represents spots where the variables or values you supply next will be inserted, in the order you supply them. After the string comes a solitary %, then a set of values in parentheses. These are the values to interpolate, and there must be as many of these as there are %s elements in your string. This is a nice way of composing a string of other strings, but its a downright blessing when you want to compose a string including number values. In the case of numbers, you can always supply them to strings with %s elements (like we just did with string variables), but there are also special interpolation operators for numbers %d, %i and %f (corresponding to digits, integers and floating point, respectively). For a full workup, see [here](http://docs.python.org/lib/typesseq-strings.html).\n",
    "\n",
    "Practically speaking, the most commonly used formatting tools are **%s** to shove variables of any and all types into strings, and **%.xf** where **x** is the number of decimal places to display for floating point numbers. "
   ]
  },
  {
   "cell_type": "code",
   "execution_count": null,
   "metadata": {},
   "outputs": [],
   "source": [
    "name = 'Melinda A. Yang'\n",
    "middle_initial = name[8]\n",
    "first = name[:7]\n",
    "last = name[11:]\n",
    "\n",
    "last_first1 = last+\", \"+first+\" \"+middle_initial+\".\"\n",
    "last_first2 = '%s, %s %s.' % (last, first, middle_initial)\n",
    "print last_first1\n",
    "print last_first2"
   ]
  },
  {
   "cell_type": "code",
   "execution_count": null,
   "metadata": {},
   "outputs": [],
   "source": [
    "i = 42\n",
    "f = 3.14159265\n",
    " \n",
    "string = 'variables can be interpolated as strings here %s and here %s' % (i,f)\n",
    "print string\n",
    " \n",
    " \n",
    "print '''To get 2 decimal places write %.2f, or to get 2 decimal places padded\n",
    "to a total width of 5, write [%5.2f] (notice that the '.' counts as a character).\n",
    "The brackets above don't do anything--they're just there to point out to you the left\n",
    "padding; you can replace the spaces in the second example with zeros this\n",
    "way: %07.3f.''' % (f,f,f)\n",
    "# Remember how we said returns are faithfully reproduced from triple quoted strings?"
   ]
  },
  {
   "cell_type": "markdown",
   "metadata": {},
   "source": [
    "***Another Way To Format Strings: The string.format() Method***\n",
    "\n",
    "A more versatile way of formatting strings with variables is using the string.format() method. Here, you use the {} to indicate where to insert your variables. For example:\n",
    "\n",
    "```python\n",
    "num = 22\n",
    "den = 7\n",
    "pi  = 3.14159265\n",
    "string = 'pi is {} or {}/{}'.format(pi,num,den)\n",
    "```\n",
    "\n",
    "To refer to a variable more than once, you can write their index in the parantheses into the curly braces. You can also format the number of decimals. \n",
    "\n",
    "```python\n",
    "string = 'pi is {0} or {1}/{2}, but I prefer to write {0}'.format(pi,num,den)\n",
    "\n",
    "print '''\n",
    "For 2 decimal places, write {pi:.2f}.\n",
    "For 2 decimal places padded to a total width of 5, write {pi: >6.2f} \n",
    "    Notice that I have to include the space if I want to pad with spaces.\n",
    "The spaces can be replaced with zeros this way: {pi:0>6.2f}.\n",
    "Or you could even do this: {pi:X>6.2f}'''.format(pi=f)\n",
    "```"
   ]
  },
  {
   "cell_type": "code",
   "execution_count": null,
   "metadata": {},
   "outputs": [],
   "source": [
    "num = 22\n",
    "den = 7\n",
    "pi  = 3.14159265\n",
    "string1 = 'pi is {} or {}/{}'.format(pi,num,den)\n",
    "string2 = 'pi is {0} or {1}/{2}, but I prefer to write {0}'.format(pi,num,den)\n",
    "string3 =  '''\n",
    "For 2 decimal places, write {pi:.2f}.\n",
    "For 2 decimal places padded to a total width of 5 digits, write {pi: >6.2f} \n",
    "    Notice that I have to include the space if I want to pad with spaces.\n",
    "The spaces can be replaced with zeros this way: {pi:0>6.2f}.\n",
    "Or you could even do this: {pi:X>6.2f}'''.format(pi=f)\n",
    "print string1\n",
    "print string2\n",
    "print string3"
   ]
  },
  {
   "cell_type": "markdown",
   "metadata": {},
   "source": [
    "### Input: raw_input() function\n",
    "\n",
    "We need a way to get data into a program. While there are several ways to gather data from the outside world, the simplest is to just ask. In python, a program asks for information from the user with the **raw_input()** function, as demonstrated here:\n",
    "```python\n",
    "user = raw_input(\"what's your name? \")\n",
    "print 'hello %s!' % (user)\n",
    "```\n",
    "The raw_input() function prompts the user by printing to the screen whatever value is given in the parentheses immediately following the raw_input call, (in this case asking \"what's your name?\") and then waits for the user to type whatever they want for as long as they feel like, until the user hits enter. raw_input() (which is a function, like int() or float(), a topic we'll talk a lot more about later) then takes everything up until the user hits enter and returns that as a string. Again, we'll talk more about this idea, but here all you need to know is that raw_input gives back the user's input as a string, and that gets saved to the variable user using the assignment operator (=). After taking this input, we just spit it right back out (employing the string interpolation trick we learned a few minutes ago)."
   ]
  },
  {
   "cell_type": "code",
   "execution_count": null,
   "metadata": {},
   "outputs": [],
   "source": [
    "user = raw_input(\"what's your name? \")\n",
    "print 'hello %s!' % (user)"
   ]
  },
  {
   "cell_type": "markdown",
   "metadata": {},
   "source": [
    "## Lists\n",
    "\n",
    "A ***list*** provides a way of storing an ordered series of values in a structure referenced by a single variable.\n",
    "\n",
    "```python\n",
    "mynucleotides = [\"Adenine\",\"Guanine\",\"Cytosine\",\"Thymine\"]\n",
    "mynuc_short   = [\"A\",\"G\",\"C\",\"T\"]\n",
    "```\n",
    "\n",
    "Lists have lots of really useful features. One is that they are __ordered__, which means the order of items in a list __does not change__ (this is not true for dictionaries, as we will see later). This means you can access individual items in a list or entire sections by indexing or slicing (like what you did for characters within a string).\n"
   ]
  },
  {
   "cell_type": "code",
   "execution_count": null,
   "metadata": {},
   "outputs": [],
   "source": [
    "mybases = [\"Adenine\",\"Guanine\",\"Cytosine\",\"Thymine\"]\n",
    "mybases_short   = [\"A\",\"G\",\"C\",\"T\"]\n",
    "\n",
    "print mybases[2]\n",
    "print mybases_short[1:3]"
   ]
  },
  {
   "cell_type": "markdown",
   "metadata": {},
   "source": [
    "### Adding to a List\n",
    "1. append() - adds a single object to the end of a list\n",
    "2. extend() joins a second list to a first list\n",
    "3. concatenation - adding two lists together also joins a second list to a first list\n",
    "4. insert() - this allows you to add object to a specific position in the list\n",
    "5. insert by slicing - another method of inserting\n",
    "\n",
    "Numbers 1, 2, and 4 are methods, which are essentially a subset of functions specifically attached to that object type. Many of these work directly upon the variable itself (and a list of the available methods will pop up if you type the variable name, followed by \".\" and then pressing tab. They come in the format object.method(), where the object of variable is in front, followed by a '.', the name of the method and paranthesis (which require different objects/functions inside). \n",
    "```python\n",
    "mylist.append(mynewelement)\n",
    "```"
   ]
  },
  {
   "cell_type": "code",
   "execution_count": null,
   "metadata": {},
   "outputs": [],
   "source": [
    "mybases = [\"Adenine\",\"Guanine\",\"Cytosine\",\"Thymine\"]\n",
    "mybases_short   = [\"A\",\"G\",\"C\",\"T\"]\n",
    "mybases.append(\"Uracil\")\n",
    "mybases_short.append(\"U\")\n",
    "print \"append()\"\n",
    "print mybases\n",
    "print mybases_short ##What if I had put [\"U\"] into the append method?\n",
    "print\n",
    "\n",
    "professors=[\"FuQiaomei\", \"Albert Ko\"]\n",
    "postdocs = [\"Melinda Yang\",\"WangHongru\"]\n",
    "professors.extend(postdocs)\n",
    "print \"extend()\"\n",
    "print professors\n",
    "print postdocs\n",
    "print\n",
    "\n",
    "professors=[\"FuQiaomei\", \"Albert Ko\"]\n",
    "postdocs = [\"Melinda Yang\",\"WangHongru\"]\n",
    "print \"concatenate\"\n",
    "print postdocs+professors\n",
    "print professors\n",
    "print postdocs\n",
    "print \n",
    "\n",
    "professors.insert(1,\"ZhangZhaoXia\")\n",
    "print 'insert()'\n",
    "print professors\n",
    "print \n",
    "\n",
    "professors[2:2] = [\"CaoPeng\"]\n",
    "print 'insert with slicing'\n",
    "print professors\n",
    "print\n",
    "professors[1:1] = postdocs\n",
    "print professors"
   ]
  },
  {
   "cell_type": "markdown",
   "metadata": {},
   "source": [
    "In the above example, sometimes the variable itself was changed, while in other cases we had to specify a new variable. **append()**, **extend()**, **insert()** and **insert with slicing** directly acted upon the original variable, modifying it in place. **concatenate** did not affect the original variable, and to affect the old variable, you would have to reassign the new list to the old variable.\n",
    "\n",
    "***CAUTION!***\n",
    "Be careful with using insertions. One of the most useful properties of lists is that you know the index, or position, or each element in the list. More complicated actions using lists often use information about the position, and uncareful use of insertions may result in assigning elements in the list to variables that you did not intend to assign. "
   ]
  },
  {
   "cell_type": "markdown",
   "metadata": {},
   "source": [
    "### Multiplication\n",
    "\n",
    "We take a moment here to consider the multiplication operator. For both strings and lists, this works exactly as multiplication should. \n",
    "\n",
    "For instance, \n",
    "```python\n",
    "3*4 = 3+3+3+3 = 12\n",
    "```\n",
    "Then, \n",
    "```python\n",
    "3*'a' = 'a'+'a'+'a' = 'aaa'\n",
    "3*[0] = [0]+[0]+[0] = [0,0,0]\n",
    "```"
   ]
  },
  {
   "cell_type": "markdown",
   "metadata": {},
   "source": [
    "### Shrinking a list\n",
    "\n",
    "1. **del**  - built-in function (like **print**) that removes particular item from the list\n",
    "2. **pop()** - method that removes the last item from the list, returning a variable\n",
    "3. **slicing** - slice the list to retrieve only the subset you want (delete by omission)"
   ]
  },
  {
   "cell_type": "code",
   "execution_count": null,
   "metadata": {},
   "outputs": [],
   "source": [
    "fulab = ['FuQiaomei', 'Melinda Yang', 'WangHongru', 'ZhangZhaoXia', \n",
    "         'CaoPeng', 'Albert Ko']\n",
    "\n",
    "del fulab[1]\n",
    "print \"del\"\n",
    "print fulab\n",
    "print\n",
    "\n",
    "fulab.pop()\n",
    "print \"pop()\"\n",
    "print fulab\n",
    "print\n",
    "\n",
    "print \"slicing\"\n",
    "print fulab[:-1]"
   ]
  },
  {
   "cell_type": "markdown",
   "metadata": {},
   "source": [
    "Here, we consider what the methods are returning, if they are changing the original variable. "
   ]
  },
  {
   "cell_type": "code",
   "execution_count": null,
   "metadata": {},
   "outputs": [],
   "source": [
    "fulab = ['FuQiaomei', 'Melinda Yang', 'WangHongru', 'ZhangZhaoXia', \n",
    "         'CaoPeng', 'Albert Ko']\n",
    "\n",
    "myreturn = fulab.append('FengXiaotian')\n",
    "print fulab\n",
    "print myreturn\n",
    "print\n",
    "\n",
    "myreturn = fulab.extend(['HouWeihong','ZhangLizhao'])\n",
    "print fulab\n",
    "print myreturn\n",
    "print\n",
    "\n",
    "myreturn = fulab.pop()\n",
    "print fulab\n",
    "print myreturn"
   ]
  },
  {
   "cell_type": "markdown",
   "metadata": {},
   "source": [
    "**append()** and **extend()** return \"None\", but **pop()** returns the last element of the list, which is removed from the list. Thus, different methods (and functions) will return different things. You can figure out for yourself what is returned, as well as more information about the method or function in one of two ways, searching the documentation online or using a nifty tool in ipython. "
   ]
  },
  {
   "cell_type": "code",
   "execution_count": null,
   "metadata": {
    "collapsed": true
   },
   "outputs": [],
   "source": [
    "fulab.extend?\n",
    "fulab.pop?"
   ]
  },
  {
   "cell_type": "markdown",
   "metadata": {},
   "source": [
    "## Changing lists in place\n",
    "1. Overwriting the element in the list\n",
    "2. Sort by the method **sort()** or the function **sorted()**\n",
    "3. Reverse the order of the list using **reverse()** or slicing"
   ]
  },
  {
   "cell_type": "code",
   "execution_count": null,
   "metadata": {},
   "outputs": [],
   "source": [
    "brainsizes=4*[0]\n",
    "print \"initialized list\"\n",
    "print brainsizes\n",
    "print\n",
    "\n",
    "mice_brain = 10\n",
    "rat_brain = 20\n",
    "human_brain = 500\n",
    "brainsizes[2] = mice_brain\n",
    "brainsizes[1] = rat_brain\n",
    "brainsizes[3] = human_brain\n",
    "print \"modified list\"\n",
    "print brainsizes\n",
    "print\n",
    "\n",
    "print 'sorted'\n",
    "print sorted(brainsizes)\n",
    "print brainsizes\n",
    "print \n",
    "\n",
    "print 'sort()'\n",
    "brainsizes.sort()\n",
    "print brainsizes\n",
    "print \n",
    "\n",
    "print 'reverse by slicing'\n",
    "print brainsizes[::-1]\n",
    "print\n",
    "\n",
    "print 'reverse()'\n",
    "brainsizes.reverse()\n",
    "print brainsizes\n",
    "print\n",
    "\n",
    "myingredients = [\"ethanol\",\"NaOH\",\"primer\"]\n",
    "print \"Why is this not sorted alphabetically?\"\n",
    "print myingredients\n",
    "print sorted(myingredients)\n",
    "print"
   ]
  },
  {
   "cell_type": "markdown",
   "metadata": {},
   "source": [
    "### Characterizing Lists\n",
    "\n",
    "Here, we will learn a few more things we can do with lists.\n",
    "\n",
    "1) The built-in functions __len()__, __max()__ and __min()__ tell us how many items are in the list and the maximum and minimum values in the list.\n",
    "\n",
    "2) The list method __index()__ tells us where an item is in the list.\n",
    "\n",
    "3) We can iterate over each item in the list and print it using the syntax __for x in mylist__:"
   ]
  },
  {
   "cell_type": "code",
   "execution_count": null,
   "metadata": {},
   "outputs": [],
   "source": [
    "print brainsizes\n",
    "print \"# Elements =\", len(brainsizes)\n",
    "print 'Max =', max(brainsizes)\n",
    "print 'Min =', min(brainsizes)"
   ]
  },
  {
   "cell_type": "code",
   "execution_count": null,
   "metadata": {},
   "outputs": [],
   "source": [
    "#iterate over list\n",
    "for x in brainsizes: print x"
   ]
  },
  {
   "cell_type": "code",
   "execution_count": null,
   "metadata": {},
   "outputs": [],
   "source": [
    "##find index of element in list\n",
    "print brainsizes\n",
    "human_brain = 500\n",
    "humanindex = brainsizes.index(human_brain)\n",
    "print humanindex"
   ]
  },
  {
   "cell_type": "markdown",
   "metadata": {},
   "source": [
    "## Tuples\n",
    "\n",
    "Tuples were used in yesterday's exercise and now that we are familiar with lists, things will make more sense. A tuple is essentially a list that you can not change. You can index, slice them and add them together to make new tuples but not use __sort()__, __reverse()__, delete or remove items from them. If you ever have a tuple that you want to change, you have to turn it into a list."
   ]
  },
  {
   "cell_type": "code",
   "execution_count": null,
   "metadata": {},
   "outputs": [],
   "source": [
    "SNP = ('chrII', '378445')\n",
    "print type(SNP)\n",
    " \n",
    "for i in SNP: print i\n",
    " \n",
    "#Can we change an element in a tuple?\n",
    "#SNP[0] = 'chrV'\n",
    "#print SNP"
   ]
  },
  {
   "cell_type": "code",
   "execution_count": null,
   "metadata": {},
   "outputs": [],
   "source": [
    "#What if we first coerce the tuple to a list?\n",
    "SNP = list(SNP)\n",
    "print type(SNP)\n",
    "SNP[0] = 'chrV'\n",
    "SNP = tuple(SNP)\n",
    "print SNP"
   ]
  },
  {
   "cell_type": "markdown",
   "metadata": {},
   "source": [
    "If your tuple only has one item, you need to use a comma to make it clear that the tuple is a tuple and not just a value in parentheses:\n",
    "```python\n",
    "tuple_A = (\"Is this a tuple?\")    ##This is a string\n",
    "tuple_B = (\"What about this?\", )  ##This is a tuple with one element. \n",
    "```\n",
    "\n",
    "Tuples are also handy for doing an in-place swap."
   ]
  },
  {
   "cell_type": "code",
   "execution_count": null,
   "metadata": {},
   "outputs": [],
   "source": [
    "a = 1\n",
    "b = 2\n",
    "print a,b\n",
    "a,b = b,a\n",
    "print a,b\n",
    "\n",
    "##Above is equivalent to:\n",
    "mytuple = (b,a)\n",
    "a,b = mytuple"
   ]
  },
  {
   "cell_type": "markdown",
   "metadata": {},
   "source": [
    "## Dictionaries\n",
    "\n",
    "You can imagine a dictionary as just that -- a dictionary. To retrieve information out of it, you look up a word, called a key, and you find information associated with that word, called the key's value.\n",
    "\n",
    "To create a dictionary, you write each key-value pair as **key:value**, divide the pairs with commas, and surround the entire structure with curly braces.\n",
    "\n",
    "```python\n",
    "names = {'qiaomei':'fu', 'hongru':'wang', 'melinda':'yang'}\n",
    "```\n",
    "\n",
    "The key is what you use to retrieve information. Thus, whereas in tuples and lists you used the index to grab a particular element, in a dictionary, you use the key. \n",
    "\n",
    "```python\n",
    "print names[hongru]\n",
    "```\n",
    "\n",
    "You can add to a dictionary by specifying a new key:value pair:\n",
    "```python\n",
    "names[\"albert\"]=\"ko\"\n",
    "```\n",
    "\n",
    "**del** works on dictionaries as well, allowing you to delete an entry.\n",
    "\n",
    "You can also change them in place.\n",
    "\n",
    "or combine two dictionaries by using the method **update()**."
   ]
  },
  {
   "cell_type": "code",
   "execution_count": null,
   "metadata": {},
   "outputs": [],
   "source": [
    "names = {'qiaomei':'fu', 'hongru':'wang', 'melinda':'yang'}\n",
    "print \"Find value associated with key\"\n",
    "print names['hongru']\n",
    "print\n",
    "\n",
    "print \"Add new key:value pair\"\n",
    "names[\"albert\"]=\"ko\"\n",
    "print\n",
    "\n",
    "print \"del\"\n",
    "del names['hongru']\n",
    "print names\n",
    "print\n",
    "\n",
    "print \"change in place\"\n",
    "names[\"melinda\"] = \"I refuse to share my last name\"\n",
    "print names\n",
    "print\n",
    "\n",
    "print \"Combine two dictionaries\"\n",
    "morenames={\"zhaoxia\":\"zhang\",\"peng\":\"cao\",\"albert\":\"einstein\"}\n",
    "names.update(morenames)\n",
    "print names\n",
    "print\n",
    "print \"What happened to Albert when we used update()??\"\n"
   ]
  },
  {
   "cell_type": "markdown",
   "metadata": {},
   "source": [
    "What happens when you try the list method __pop()__? What about __sort()__? And __sorted()__?\n",
    "\n",
    "\n",
    "### Characterizing dictionaries\n",
    "\n",
    "Here are some things you can do with dictionaries:"
   ]
  },
  {
   "cell_type": "code",
   "execution_count": null,
   "metadata": {},
   "outputs": [],
   "source": [
    "#identify components of the list\n",
    "keys = names.keys()\n",
    "values = names.values()\n",
    "print keys\n",
    "print values"
   ]
  },
  {
   "cell_type": "code",
   "execution_count": null,
   "metadata": {},
   "outputs": [],
   "source": [
    "names = {'peng': 'cao', 'qiaomei': 'fu', 'zhaoxia': 'zhang', \n",
    "         'melinda': 'yang', 'albert': 'ko'}\n",
    "favorites = {'peng':'reading','qiaomei':'swimming','zhaoxia':'eating',\n",
    "           'melinda':'sleeping','albert':'eating'}\n",
    "\n",
    "for x in keys: \n",
    "    print \"{} {}'s favorite activity is {}\".format(x,names[x],favorites[x])"
   ]
  },
  {
   "cell_type": "code",
   "execution_count": null,
   "metadata": {},
   "outputs": [],
   "source": [
    "#find if something is stored\n",
    "\n",
    "print favorites['hongru']\n",
    "if 'hongru' in favorites: print favorites['hongru']\n",
    "print\n",
    "\n",
    "if 'qiaomei' in favorites: print favorites['qiaomei']"
   ]
  },
  {
   "cell_type": "markdown",
   "metadata": {},
   "source": [
    "Here, we have started to characterize our dictionaries.\n",
    "\n",
    "1) The dictionary methods __keys()__ and __values()__ return lists containing keys or values. These lists can be stored and acted on as lists.\n",
    "\n",
    "2) We can iterate over the keys and print the values using the syntax __for x in [ ]:__\n",
    "\n",
    "__NOTE: The variable that is changing is the KEY not the value__.\n",
    "\n",
    "3) We can quickly find out if a particular key already exists. Note that each key must be unique, but multiple keys can have the same value."
   ]
  },
  {
   "cell_type": "markdown",
   "metadata": {},
   "source": [
    "# Summary So Far...\n",
    "\n",
    "__Lists are:__\n",
    "\n",
    "1) ordered collections of arbitrary variables.\n",
    "\n",
    "2) accessible by slicing.\n",
    "\n",
    "3) can be grown or shrunk in place.\n",
    "\n",
    "4) mutable (can be changed in place).\n",
    "\n",
    "5) defined with list = [X,Y]\n",
    "\n",
    "__Tuples are:__\n",
    "\n",
    "1) like lists except they are immutable (cannot do #3 and #4 for lists)\n",
    "\n",
    "2) defined with tuple = (X,Y)\n",
    "\n",
    "__Dictionaries are:__\n",
    "\n",
    "1) unordered collection of arbitrary variables.\n",
    "\n",
    "2) accessible by keys.\n",
    "\n",
    "3) can be grown or shrunk in place.\n",
    "\n",
    "4) mutable.\n",
    "\n",
    "5) defined with dict = {X:Y}\n",
    "\n",
    "List methods include: __append()__, __extend()__, __insert()__, __pop()__, __sort()__, __reverse()__, __index()__\n",
    "Dictionary methods include: __update()__, __keys()__, __values()__, __pop()__--but __pop()__ works a bit differently compared to how it's used in lists!\n",
    "Built in functions include: __sorted__, __len__, __max__, __min__, __type__\n",
    "\n",
    "You will use dictionaries and lists almost exclusively in your coding. However, there is a remaining data structure that you should know about to make your life a little easier: __Sets__. __Sets__ are unordered and unique bags of variables. You will learn some about them in your exercises."
   ]
  },
  {
   "cell_type": "code",
   "execution_count": null,
   "metadata": {
    "collapsed": true
   },
   "outputs": [],
   "source": []
  }
 ],
 "metadata": {
  "kernelspec": {
   "display_name": "Python 2",
   "language": "python",
   "name": "python2"
  },
  "language_info": {
   "codemirror_mode": {
    "name": "ipython",
    "version": 2
   },
   "file_extension": ".py",
   "mimetype": "text/x-python",
   "name": "python",
   "nbconvert_exporter": "python",
   "pygments_lexer": "ipython2",
   "version": "2.7.13"
  }
 },
 "nbformat": 4,
 "nbformat_minor": 1
}
