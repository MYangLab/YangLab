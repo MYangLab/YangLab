{
 "cells": [
  {
   "cell_type": "markdown",
   "metadata": {},
   "source": [
    "## Other Odds and Ends\n",
    "\n",
    "I hope the last few guest lectures have been interesting and informative!\n",
    "\n",
    "Today, class will be in two parts. First, I'll introduce you to a few more modules, but ones that are not already installed, so you learn how to access modules other people have created. That way, you can search up whatever module you need and install it. We will install [**BioPython**](http://biopython.org/), a module with many functions for reading and parsing sequence data, and [**msprime**](https://msprime.readthedocs.io/en/stable/), which is a library that simulates genetic data using coalescent theory. "
   ]
  },
  {
   "cell_type": "markdown",
   "metadata": {},
   "source": [
    "\n",
    "### Biopython\n",
    "\n",
    "One of the things we're teaching you in this course is how to use existing biology-centric modules in python so you don't have to re-invent the wheel! (Although, sometimes, re-inventing the wheel can be a useful teaching exercise...). Today, we'll be exploring the **Biopython** module. Biopython is a package with a collection of useful tools for bioinformatics. It can do things like parse sequence files in a variety of different formats (.fasta, .fastq, clustal alignment files, ExPASy files, Swiss Prot, etc), provide code to manipulate sequences (for example, perform transcription, translation, or reverse-complement), and interface with many useful databases on NCBI (Entrez, Pubmed, Blast).\n",
    "\n",
    "To install Biopython, we are going to use the package manager pip. Pip's name is a recursive acronym that stands for \"Pip Installs Packages\"."
   ]
  },
  {
   "cell_type": "code",
   "execution_count": null,
   "metadata": {
    "collapsed": true
   },
   "outputs": [],
   "source": [
    "#%%bash\n",
    "##I recommend doing this in Terminal!\n",
    "#pip install biopython"
   ]
  },
  {
   "cell_type": "markdown",
   "metadata": {},
   "source": [
    "Now, if you try to import the module (**Bio**), if no error is thrown, then the installation was successful!"
   ]
  },
  {
   "cell_type": "code",
   "execution_count": null,
   "metadata": {
    "collapsed": true
   },
   "outputs": [],
   "source": [
    "import Bio"
   ]
  },
  {
   "cell_type": "markdown",
   "metadata": {},
   "source": [
    "## Using the SeqIO Module\n",
    "\n",
    "One of the more useful sub-modules is SeqIO, which does input/output for sequences (and, I'm sorry to say, probably does it better than the FASTA parsers we've written thus far). SeqIO has a special sequence \"class\" that associates various attributes with sequence objects (some are methods, and some are variables). Let's look at an example parsing the cerevisiae_genome.fasta file from the first day of class."
   ]
  },
  {
   "cell_type": "code",
   "execution_count": null,
   "metadata": {},
   "outputs": [],
   "source": [
    "from Bio import SeqIO\n",
    " \n",
    "# SeqIO.parse will parse a fasta file\n",
    "# It returns an iterator object of sequence records\n",
    "# each with its own attributes\n",
    "pD=\"/Users/melyang/Desktop/PythonBootcamp2017/resources/\"\n",
    "fastaFile = pD+'cerevisiae_genome.fasta'\n",
    "for record in SeqIO.parse(fastaFile,format=\"fasta\"):\n",
    "    print record\n",
    "    print\n",
    "    break"
   ]
  },
  {
   "cell_type": "markdown",
   "metadata": {},
   "source": [
    "So you can see that each of these record objects holds quite a bit of information. Each record object also has special methods associated with it that you can use to pull specific bits of data about each sequence record. For example:"
   ]
  },
  {
   "cell_type": "code",
   "execution_count": null,
   "metadata": {},
   "outputs": [],
   "source": [
    "pD=\"/Users/melyang/Desktop/PythonBootcamp2017/resources/\"\n",
    "fastaFile = pD+'cerevisiae_genome.fasta'\n",
    "for record in SeqIO.parse(fastaFile,format=\"fasta\"):\n",
    "    print \"This is the name of the sequence record: \",record.name\n",
    "    # The .seq method references a sequence object\n",
    "    # That is indexed and can therefore be sliced\n",
    "    print \"these are the first 50 bases:\"\n",
    "    print record.seq[0:50]\n",
    "    print type(record.seq)\n",
    "    print\n",
    "    break"
   ]
  },
  {
   "cell_type": "markdown",
   "metadata": {},
   "source": [
    "Though the data type for the sequences is not a string, this is not usually an issue, as most methods and functions you apply to strings also will work for the Seq data type. This is all I will say about this module now, but you are free to explore the **Bio** module yourself!"
   ]
  },
  {
   "cell_type": "markdown",
   "metadata": {},
   "source": [
    "### msprime\n",
    "\n",
    "The other module is **msprime**. \n",
    "\n",
    "Let's \n",
    "\n",
    "```bash\n",
    "pip install msprime\n",
    "```\n",
    "\n",
    "in the Terminal. \n",
    "\n",
    "We are just going to try an example or two from their Tutorial!"
   ]
  },
  {
   "cell_type": "code",
   "execution_count": null,
   "metadata": {},
   "outputs": [],
   "source": [
    "import msprime\n",
    "\n",
    "tree_sequence = msprime.simulate(sample_size=5, Ne=1000)\n",
    "print tree_sequence"
   ]
  },
  {
   "cell_type": "markdown",
   "metadata": {},
   "source": [
    "The module **msprime** has the function **simulate**, which you use to simulate data. These data can be trees, as the above example shows, or sequence data, as we will show momentarily. \n",
    "\n",
    "Note that I put in arguments of a sample size of 5 and an effective population size of 1000. Then, what I am returned is a data object that is a 'TreeSequence' type. "
   ]
  },
  {
   "cell_type": "code",
   "execution_count": null,
   "metadata": {},
   "outputs": [],
   "source": [
    "print tree_sequence.trees()\n",
    "for tree in tree_sequence.trees(): \n",
    "    tree.draw(\"tree_ex1.svg\")\n",
    "    print tree\n",
    "\n",
    "from IPython.core.display import SVG\n",
    "SVG(\"tree_ex1.svg\")"
   ]
  },
  {
   "cell_type": "markdown",
   "metadata": {},
   "source": [
    "The TreeSequence type has a method called **trees** that allows you to pull out the tree, represented here by a dictionary. In the dictionary, the key indicates the node, and the value is the parent node to which the key is attached. A -1 as the value indicates there is no parent node - you are at the root of the tree. \n",
    "\n",
    "The **tree** data type also has many methods, to get the parent node of another node, to retrieve an individual branch length, or to get the total branch length, for instance."
   ]
  },
  {
   "cell_type": "code",
   "execution_count": null,
   "metadata": {},
   "outputs": [],
   "source": [
    "print tree_sequence.trees()\n",
    "for tree in tree_sequence.trees(): \n",
    "    tree.draw(\"tree_ex1.svg\")\n",
    "    print tree\n",
    "    print 'parent of 4:', tree.get_parent(4)\n",
    "    print 'children of 5:', tree.get_children(5)\n",
    "    print 'total branch length:', tree.get_total_branch_length()\n",
    "    print 'branch length for 5 (leading to parent):', tree.get_branch_length(2)\n",
    "    print 'time in gen until 4, starting from present:',tree.get_time(4)\n",
    "\n",
    "from IPython.core.display import SVG\n",
    "SVG(\"tree_ex1.svg\")"
   ]
  },
  {
   "cell_type": "markdown",
   "metadata": {},
   "source": [
    "## Mutations \n",
    "These simulated trees are not that interesting until we get some variation in them! Mutations are what we use to study DNA, and thus, it's important to throw in a few in our simulations, to study the how the distribution of mutations change in different circumstances. \n",
    "\n",
    "The method **get_num_mutations** acts on the tree_sequence variable, to indicate how many total mutations were found. The **mutations** method acting on the tree variable returns a list of the Mutation data type, containing the position where the mutation occured, the node the mutation is found in, and the zero-based index of the mutation in the list. \n",
    "\n",
    "Without a length of sequence, however, you would have zero mutations! Thus, it is also important to mention the length of the sequence you are on. The mutation rate is in the unit \"per base pair per generation\". "
   ]
  },
  {
   "cell_type": "code",
   "execution_count": null,
   "metadata": {},
   "outputs": [],
   "source": [
    "import msprime\n",
    "\n",
    "tree_sequence = msprime.simulate(sample_size=5, \n",
    "                                 Ne=1000, \n",
    "                                 length=1e4, \n",
    "                                 mutation_rate=2e-08)\n",
    "print \"Total mutations = \", tree_sequence.get_num_mutations()\n",
    "for treeind,tree in enumerate(tree_sequence.trees()): \n",
    "    tree.draw(\"tree_ex2.svg\")\n",
    "    print \"Tree\",treeind,list(tree.mutations())\n",
    "\n",
    "from IPython.core.display import SVG\n",
    "SVG(\"tree_ex2.svg\")"
   ]
  },
  {
   "cell_type": "markdown",
   "metadata": {},
   "source": [
    "## Simulating sequences\n",
    "\n",
    "We might want sequence data instead. Below is an example:"
   ]
  },
  {
   "cell_type": "code",
   "execution_count": null,
   "metadata": {},
   "outputs": [],
   "source": [
    "import msprime\n",
    "import numpy as np\n",
    "\n",
    "def variants_example():\n",
    "    tree_sequence = msprime.simulate(\n",
    "        sample_size=20, Ne=1e4, length=5e3, recombination_rate=2e-8,\n",
    "        mutation_rate=2e-8, random_seed=10)\n",
    "    print(\"Simulated \", tree_sequence.get_num_mutations(), \"mutations\")\n",
    "    for variant in tree_sequence.variants():\n",
    "        print variant.index, variant.position, variant.genotypes\n",
    "print variants_example()"
   ]
  },
  {
   "cell_type": "markdown",
   "metadata": {},
   "source": [
    "Here, we add several more arguments to **tree_sequence**. For instance, we add in the recombination_rate argument, specifying the recombination rate per base per generation. We also specify a random_seed, which tells exactly where to start simulation from. Thus, this number will tell us how to get back the exact same simulation, if needed. \n",
    "\n",
    "Now, if we call on the method **variants**, there is a Variant data type that contains the index, position and array of genotypes associated with each mutation. In the example above, there are seven mutations at the specified positions along the sequence, and the array specifies how many individuals have the mutation (number of 1s in the array). \n",
    "\n",
    "Below, we show how to create an array containing all the genotypes for each mutation. "
   ]
  },
  {
   "cell_type": "code",
   "execution_count": null,
   "metadata": {},
   "outputs": [],
   "source": [
    "import msprime\n",
    "import numpy as np\n",
    "\n",
    "def variants_example():\n",
    "    tree_sequence = msprime.simulate(\n",
    "        sample_size=20, Ne=1e4, length=5e3, recombination_rate=2e-8,\n",
    "        mutation_rate=2e-8, random_seed=10)\n",
    "    print(\"Simulated \", tree_sequence.get_num_mutations(), \"mutations\")\n",
    "    \n",
    "    ##Get dimensions of array and initialize array.\n",
    "    shape = tree_sequence.get_num_mutations(), tree_sequence.get_sample_size()\n",
    "    mygenos=np.zeros(shape)\n",
    "    \n",
    "    for variant in tree_sequence.variants():\n",
    "        #print variant.index, variant.position, variant.genotypes\n",
    "        \n",
    "        ##Add row of genotypes to correct row in array.\n",
    "        mygenos[variant.index,]=variant.genotypes\n",
    "    ##Return the array    \n",
    "    return mygenos\n",
    "\n",
    "print variants_example()"
   ]
  },
  {
   "cell_type": "markdown",
   "metadata": {},
   "source": [
    "Now let's consider different population sizes!"
   ]
  },
  {
   "cell_type": "code",
   "execution_count": null,
   "metadata": {},
   "outputs": [],
   "source": [
    "% matplotlib inline\n",
    "import msprime\n",
    "import numpy as np\n",
    "import matplotlib.pyplot as plt\n",
    "\n",
    "Ne=1e5\n",
    "iterations=100\n",
    "\n",
    "mycounts=np.zeros(iterations)\n",
    "for i in range(iterations):\n",
    "    tree_sequence = msprime.simulate(\n",
    "            sample_size=20, Ne=Ne, length=5e3, recombination_rate=2e-8,\n",
    "            mutation_rate=2e-8)\n",
    "    mycounts[i] = tree_sequence.get_num_mutations()\n",
    "\n",
    "fig=plt.figure()\n",
    "ax=fig.add_subplot(1,1,1)\n",
    "myhist = ax.hist(mycounts)\n",
    "print myhist\n",
    "ax.text(myhist[1].min(),myhist[0].max(),\n",
    "        \"mean = %.2f\\nsd = %.2f\" % (mycounts.mean(),mycounts.std()),\n",
    "        verticalalignment='top',horizontalalignment='left')\n",
    "\n",
    "plt.show()"
   ]
  },
  {
   "cell_type": "markdown",
   "metadata": {},
   "source": [
    "We have done several things above! We calculate the number of segregating sites (or the total number of mutations) using **get_num_mutations**. Then, we run this simulation several times (100 in the example), so we simulate many replicates of the number of segregating sites. Then, we send these values to an array, **mycounts**, and plot a histogram for the number of segregating sites. We add text to the figure in the top left (how did I keep it in the top left for different window sizes?) specifying the mean and standard deviation. \n",
    "\n",
    "When we try different **Ne**, we find that we have more mutations for larger population sizes and much less mutations for smaller population sizes. Let's make one more plot."
   ]
  },
  {
   "cell_type": "code",
   "execution_count": null,
   "metadata": {},
   "outputs": [],
   "source": [
    "% matplotlib inline\n",
    "import msprime\n",
    "import numpy as np\n",
    "import matplotlib.pyplot as plt\n",
    "\n",
    "Ne=1e5\n",
    "iterations=100\n",
    "nes=[1e2,1e3,1e4,1e5,1e6]\n",
    "mymeans = []\n",
    "mysds = []\n",
    "for neind,Ne in enumerate(nes):\n",
    "    mycounts=np.zeros(iterations)\n",
    "    for i in range(iterations):\n",
    "        tree_sequence = msprime.simulate(\n",
    "                sample_size=20, Ne=Ne, length=5e3, recombination_rate=2e-8,\n",
    "                mutation_rate=2e-8)\n",
    "        mycounts[i] = tree_sequence.get_num_mutations()\n",
    "    mymeans.append(mycounts.mean())\n",
    "    mysds.append(mycounts.std()) \n",
    "\n",
    "fig=plt.figure()\n",
    "ax=fig.add_subplot(1,1,1)\n",
    "ax.plot(nes,mymeans,'o')\n",
    "#ax.set_xscale('log')\n",
    "#ax.set_yscale('log')\n",
    "plt.show()"
   ]
  },
  {
   "cell_type": "markdown",
   "metadata": {},
   "source": [
    "Notice that we see an increase in mutations with an increase in population size. If we add a log x- and y- scale, we see a linear relationship between the x- and y- axis. This makes sense, since we are increasing each population size by an order of magnitude.\n",
    "\n",
    "How can we modify the figure to make it more reader friendly?"
   ]
  },
  {
   "cell_type": "code",
   "execution_count": null,
   "metadata": {
    "collapsed": true
   },
   "outputs": [],
   "source": []
  }
 ],
 "metadata": {
  "kernelspec": {
   "display_name": "Python 2",
   "language": "python",
   "name": "python2"
  },
  "language_info": {
   "codemirror_mode": {
    "name": "ipython",
    "version": 2
   },
   "file_extension": ".py",
   "mimetype": "text/x-python",
   "name": "python",
   "nbconvert_exporter": "python",
   "pygments_lexer": "ipython2",
   "version": "2.7.13"
  }
 },
 "nbformat": 4,
 "nbformat_minor": 2
}
