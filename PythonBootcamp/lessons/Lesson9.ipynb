{
 "cells": [
  {
   "cell_type": "markdown",
   "metadata": {},
   "source": [
    "## Other Odds and Ends\n",
    "\n",
    "Today, I'll introduce you to a few more modules, but ones that are not already installed, so you learn how to access modules other people have created. That way, you can search up whatever module you need and install it. We will install [**BioPython**](http://biopython.org/), a module with many functions for reading and parsing sequence data, and [**msprime**](https://msprime.readthedocs.io/en/stable/), which is a library that simulates genetic data using coalescent theory. "
   ]
  },
  {
   "cell_type": "markdown",
   "metadata": {},
   "source": [
    "\n",
    "### Biopython\n",
    "\n",
    "One of the things we're teaching you in this course is how to use existing biology-centric modules in python so you don't have to re-invent the wheel! (Although, sometimes, re-inventing the wheel can be a useful teaching exercise...). Today, we'll be exploring the **Biopython** module. Biopython is a package with a collection of useful tools for bioinformatics. It can do things like parse sequence files in a variety of different formats (.fasta, .fastq, clustal alignment files, ExPASy files, Swiss Prot, etc), provide code to manipulate sequences (for example, perform transcription, translation, or reverse-complement), and interface with many useful databases on NCBI (Entrez, Pubmed, Blast).\n",
    "\n",
    "To install Biopython, we are going to use the package manager pip. Pip's name is a recursive acronym that stands for \"Pip Installs Packages\". I recommend doing this in Terminal, rather than in Jupyter Notebook. Then, close your Jupyter Notebook Terminal, and re-open a new one, to make sure the installation was recognized. Because this can be a hassle, let's just install the other Python library we'll be using, msprime, as well. \n",
    "\n",
    "```bash\n",
    "pip install biopython\n",
    "pip install msprime\n",
    "```"
   ]
  },
  {
   "cell_type": "markdown",
   "metadata": {},
   "source": [
    "Now, if you try to import the modules **Bio** (for Biopython) and **msprime**, if no error is thrown, then the installation was successful!"
   ]
  },
  {
   "cell_type": "code",
   "execution_count": 1,
   "metadata": {},
   "outputs": [],
   "source": [
    "import Bio\n",
    "import msprime"
   ]
  },
  {
   "cell_type": "markdown",
   "metadata": {},
   "source": [
    "## Using the SeqIO Module\n",
    "\n",
    "One of the more useful sub-modules is SeqIO, which does input/output for sequences (and, I'm sorry to say, probably does it better than the FASTA parsers we've written thus far). SeqIO has a special sequence \"class\" that associates various attributes with sequence objects (some are methods, and some are variables). Let's look at an example parsing the cerevisiae_genome.fasta file from the first day of class."
   ]
  },
  {
   "cell_type": "code",
   "execution_count": 2,
   "metadata": {},
   "outputs": [
    {
     "name": "stdout",
     "output_type": "stream",
     "text": [
      "ID: tpg|BK006935.2|\n",
      "Name: tpg|BK006935.2|\n",
      "Description: tpg|BK006935.2| [organism=Saccharomyces cerevisiae S288c] [strain=S288c] [moltype=genomic] [chromosome=I] [note=R64-1-1]\n",
      "Number of features: 0\n",
      "Seq('CCACACCACACCCACACACCCACACACCACACCACACACCACACCACACCCACA...GGG', SingleLetterAlphabet())\n",
      "\n"
     ]
    }
   ],
   "source": [
    "from Bio import SeqIO\n",
    " \n",
    "# SeqIO.parse will parse a fasta file\n",
    "# It returns an iterator object of sequence records\n",
    "# each with its own attributes\n",
    "pD=\"/Users/myang/YangLab/PythonBootcamp/resources/\"\n",
    "fastaFile = pD+'cerevisiae_genome.fasta'\n",
    "for record in SeqIO.parse(fastaFile,format=\"fasta\"):\n",
    "    print (record)\n",
    "    print ()\n",
    "    break"
   ]
  },
  {
   "cell_type": "markdown",
   "metadata": {},
   "source": [
    "So you can see that each of these record objects holds quite a bit of information. Each record object also has special methods associated with it that you can use to pull specific bits of data about each sequence record. For example:"
   ]
  },
  {
   "cell_type": "code",
   "execution_count": 3,
   "metadata": {},
   "outputs": [
    {
     "name": "stdout",
     "output_type": "stream",
     "text": [
      "This is the name of the sequence record:  tpg|BK006935.2|\n",
      "these are the first 50 bases:\n",
      "CCACACCACACCCACACACCCACACACCACACCACACACCACACCACACC\n",
      "<class 'Bio.Seq.Seq'>\n",
      "\n"
     ]
    }
   ],
   "source": [
    "pD=\"/Users/myang/YangLab/PythonBootcamp/resources/\"\n",
    "fastaFile = pD+'cerevisiae_genome.fasta'\n",
    "for record in SeqIO.parse(fastaFile,format=\"fasta\"):\n",
    "    print (\"This is the name of the sequence record: \",record.name)\n",
    "    # The .seq method references a sequence object\n",
    "    # That is indexed and can therefore be sliced\n",
    "    print (\"these are the first 50 bases:\")\n",
    "    print (record.seq[0:50])\n",
    "    print (type(record.seq))\n",
    "    print ()\n",
    "    break"
   ]
  },
  {
   "cell_type": "markdown",
   "metadata": {},
   "source": [
    "Though the data type for the sequences is not a string, this is not usually an issue, as most methods and functions you apply to strings also will work for the Seq data type. This is all I will say about this module now, but you are free to explore the **Bio** module yourself!"
   ]
  },
  {
   "cell_type": "code",
   "execution_count": null,
   "metadata": {},
   "outputs": [],
   "source": []
  },
  {
   "cell_type": "markdown",
   "metadata": {},
   "source": [
    "### msprime\n",
    "\n",
    "The other module is **msprime**, which we installed above. \n",
    "\n",
    "We are just going to try an example or two from their Tutorial!"
   ]
  },
  {
   "cell_type": "code",
   "execution_count": 2,
   "metadata": {},
   "outputs": [
    {
     "name": "stdout",
     "output_type": "stream",
     "text": [
      "<tskit.trees.TreeSequence object at 0x11cf22490>\n"
     ]
    }
   ],
   "source": [
    "import msprime\n",
    "\n",
    "tree_sequence = msprime.simulate(sample_size=5, Ne=1000)\n",
    "print (tree_sequence)"
   ]
  },
  {
   "cell_type": "markdown",
   "metadata": {},
   "source": [
    "The module **msprime** has the function **simulate**, which you use to simulate data. These data can be trees, as the above example shows, or sequence data, as we will show momentarily. \n",
    "\n",
    "Note that I put in arguments of a sample size of 5 and an effective population size of 1000. Then, what I am returned is a data object that is a 'TreeSequence' type. "
   ]
  },
  {
   "cell_type": "code",
   "execution_count": 3,
   "metadata": {},
   "outputs": [
    {
     "name": "stdout",
     "output_type": "stream",
     "text": [
      "<tskit.trees.TreeIterator object at 0x11db30f50>\n",
      "{0: 5, 1: 5, 2: 7, 3: 8, 4: 6, 5: 6, 6: 7, 7: 8}\n"
     ]
    },
    {
     "data": {
      "image/svg+xml": [
       "<svg baseProfile=\"full\" height=\"200\" version=\"1.1\" width=\"200\" xmlns=\"http://www.w3.org/2000/svg\" xmlns:ev=\"http://www.w3.org/2001/xml-events\" xmlns:xlink=\"http://www.w3.org/1999/xlink\"><defs/><g id=\"tree_0\"><g fill=\"none\" id=\"edges\" stroke=\"black\"><path d=\"M 40.0 170.0 V 30.0 H 68.125\" id=\"edge_0_3\"/><path d=\"M 96.25 100.60762444494839 V 30.0 H 68.125\" id=\"edge_0_7\"/><path d=\"M 70.0 170.0 V 100.60762444494839 H 96.25\" id=\"edge_0_2\"/><path d=\"M 122.5 152.22350402624824 V 100.60762444494839 H 96.25\" id=\"edge_0_6\"/><path d=\"M 100.0 170.0 V 152.22350402624824 H 122.5\" id=\"edge_0_4\"/><path d=\"M 145.0 168.59252442466646 V 152.22350402624824 H 122.5\" id=\"edge_0_5\"/><path d=\"M 130.0 170.0 V 168.59252442466646 H 145.0\" id=\"edge_0_0\"/><path d=\"M 160.0 170.0 V 168.59252442466646 H 145.0\" id=\"edge_0_1\"/></g><g id=\"symbols\"><g class=\"nodes\"><circle cx=\"68.125\" cy=\"30.0\" id=\"node_0_8\" r=\"3\"/><circle cx=\"40.0\" cy=\"170.0\" id=\"node_0_3\" r=\"3\"/><circle cx=\"96.25\" cy=\"100.60762444494839\" id=\"node_0_7\" r=\"3\"/><circle cx=\"70.0\" cy=\"170.0\" id=\"node_0_2\" r=\"3\"/><circle cx=\"122.5\" cy=\"152.22350402624824\" id=\"node_0_6\" r=\"3\"/><circle cx=\"100.0\" cy=\"170.0\" id=\"node_0_4\" r=\"3\"/><circle cx=\"145.0\" cy=\"168.59252442466646\" id=\"node_0_5\" r=\"3\"/><circle cx=\"130.0\" cy=\"170.0\" id=\"node_0_0\" r=\"3\"/><circle cx=\"160.0\" cy=\"170.0\" id=\"node_0_1\" r=\"3\"/></g><g class=\"mutations\" fill=\"red\"/></g><g font-size=\"14\" id=\"labels\"><g class=\"nodes\"><g text-anchor=\"start\"><text x=\"101.25\" y=\"95.60762444494839\">7</text><text x=\"127.5\" y=\"147.22350402624824\">6</text><text x=\"150.0\" y=\"163.59252442466646\">5</text></g><g text-anchor=\"middle\"><text x=\"68.125\" y=\"25.0\">8</text><text x=\"40.0\" y=\"190.0\">3</text><text x=\"70.0\" y=\"190.0\">2</text><text x=\"100.0\" y=\"190.0\">4</text><text x=\"130.0\" y=\"190.0\">0</text><text x=\"160.0\" y=\"190.0\">1</text></g><g text-anchor=\"end\"/></g><g class=\"mutations\" font-style=\"italic\"><g text-anchor=\"start\"/><g text-anchor=\"end\"/></g></g></g></svg>"
      ],
      "text/plain": [
       "<IPython.core.display.SVG object>"
      ]
     },
     "execution_count": 3,
     "metadata": {},
     "output_type": "execute_result"
    }
   ],
   "source": [
    "print (tree_sequence.trees())\n",
    "for tree in tree_sequence.trees(): \n",
    "    tree.draw(\"tree_ex1.svg\")\n",
    "    print (tree)\n",
    "\n",
    "from IPython.core.display import SVG\n",
    "SVG(\"tree_ex1.svg\")"
   ]
  },
  {
   "cell_type": "markdown",
   "metadata": {},
   "source": [
    "The TreeSequence type has a method called **trees** that allows you to pull out the tree, represented here by a dictionary. In the dictionary, the key indicates the node, and the value is the parent node to which the key is attached. A -1 as the value indicates there is no parent node - you are at the root of the tree. Note that here, there is no information on length of the branch - it is only information on the splitting order - the branch lengths are also simulated, they just aren't shown in the image.\n",
    "\n",
    "The **tree** data type also has many methods, to get the parent node of another node, to retrieve an individual branch length, or to get the total branch length, for instance."
   ]
  },
  {
   "cell_type": "code",
   "execution_count": 6,
   "metadata": {},
   "outputs": [
    {
     "name": "stdout",
     "output_type": "stream",
     "text": [
      "<tskit.trees.TreeIterator object at 0x11e4a8090>\n",
      "{0: 5, 1: 5, 2: 7, 3: 8, 4: 6, 5: 6, 6: 7, 7: 8}\n",
      "parent of 4: 6\n",
      "children of 5: (0, 1)\n",
      "total branch length: 10001.441710432851\n",
      "branch length for 5 (leading to parent): 444.1788103277576\n",
      "time in gen until 4, starting from present: 0.0\n"
     ]
    },
    {
     "data": {
      "image/svg+xml": [
       "<svg baseProfile=\"full\" height=\"200\" version=\"1.1\" width=\"200\" xmlns=\"http://www.w3.org/2000/svg\" xmlns:ev=\"http://www.w3.org/2001/xml-events\" xmlns:xlink=\"http://www.w3.org/1999/xlink\"><defs/><g id=\"tree_0\"><g fill=\"none\" id=\"edges\" stroke=\"black\"><path d=\"M 40.0 170.0 V 30.0 H 68.125\" id=\"edge_0_3\"/><path d=\"M 96.25 100.60762444494839 V 30.0 H 68.125\" id=\"edge_0_7\"/><path d=\"M 70.0 170.0 V 100.60762444494839 H 96.25\" id=\"edge_0_2\"/><path d=\"M 122.5 152.22350402624824 V 100.60762444494839 H 96.25\" id=\"edge_0_6\"/><path d=\"M 100.0 170.0 V 152.22350402624824 H 122.5\" id=\"edge_0_4\"/><path d=\"M 145.0 168.59252442466646 V 152.22350402624824 H 122.5\" id=\"edge_0_5\"/><path d=\"M 130.0 170.0 V 168.59252442466646 H 145.0\" id=\"edge_0_0\"/><path d=\"M 160.0 170.0 V 168.59252442466646 H 145.0\" id=\"edge_0_1\"/></g><g id=\"symbols\"><g class=\"nodes\"><circle cx=\"68.125\" cy=\"30.0\" id=\"node_0_8\" r=\"3\"/><circle cx=\"40.0\" cy=\"170.0\" id=\"node_0_3\" r=\"3\"/><circle cx=\"96.25\" cy=\"100.60762444494839\" id=\"node_0_7\" r=\"3\"/><circle cx=\"70.0\" cy=\"170.0\" id=\"node_0_2\" r=\"3\"/><circle cx=\"122.5\" cy=\"152.22350402624824\" id=\"node_0_6\" r=\"3\"/><circle cx=\"100.0\" cy=\"170.0\" id=\"node_0_4\" r=\"3\"/><circle cx=\"145.0\" cy=\"168.59252442466646\" id=\"node_0_5\" r=\"3\"/><circle cx=\"130.0\" cy=\"170.0\" id=\"node_0_0\" r=\"3\"/><circle cx=\"160.0\" cy=\"170.0\" id=\"node_0_1\" r=\"3\"/></g><g class=\"mutations\" fill=\"red\"/></g><g font-size=\"14\" id=\"labels\"><g class=\"nodes\"><g text-anchor=\"start\"><text x=\"101.25\" y=\"95.60762444494839\">7</text><text x=\"127.5\" y=\"147.22350402624824\">6</text><text x=\"150.0\" y=\"163.59252442466646\">5</text></g><g text-anchor=\"middle\"><text x=\"68.125\" y=\"25.0\">8</text><text x=\"40.0\" y=\"190.0\">3</text><text x=\"70.0\" y=\"190.0\">2</text><text x=\"100.0\" y=\"190.0\">4</text><text x=\"130.0\" y=\"190.0\">0</text><text x=\"160.0\" y=\"190.0\">1</text></g><g text-anchor=\"end\"/></g><g class=\"mutations\" font-style=\"italic\"><g text-anchor=\"start\"/><g text-anchor=\"end\"/></g></g></g></svg>"
      ],
      "text/plain": [
       "<IPython.core.display.SVG object>"
      ]
     },
     "execution_count": 6,
     "metadata": {},
     "output_type": "execute_result"
    }
   ],
   "source": [
    "print (tree_sequence.trees())\n",
    "for tree in tree_sequence.trees(): \n",
    "    tree.draw(\"tree_ex1.svg\")\n",
    "    print (tree)\n",
    "    print ('parent of 4:', tree.get_parent(4))\n",
    "    print ('children of 5:', tree.get_children(5))\n",
    "    print ('total branch length:', tree.get_total_branch_length())\n",
    "    print ('branch length for 5 (leading to parent):', tree.get_branch_length(5))\n",
    "    print ('time in gen until 4, starting from present:',tree.get_time(4))\n",
    "\n",
    "from IPython.core.display import SVG\n",
    "SVG(\"tree_ex1.svg\")"
   ]
  },
  {
   "cell_type": "markdown",
   "metadata": {},
   "source": [
    "## Mutations \n",
    "These simulated trees are not that interesting until we get some variation in them! Mutations are what we use to study DNA, and thus, it's important to throw in a few in our simulations, to study the how the distribution of mutations change in different circumstances. \n",
    "\n",
    "The method **get_num_mutations** acts on the tree_sequence variable, to indicate how many total mutations were found. The **mutations** method acting on the tree variable returns a list of the Mutation data type, containing the position where the mutation occured, the node the mutation is found in, and the zero-based index of the mutation in the list. \n",
    "\n",
    "Without a length of sequence, however, you would have zero mutations! Thus, it is also important to mention the length of the sequence you are on. The mutation rate is in the unit \"per base pair per generation\". "
   ]
  },
  {
   "cell_type": "code",
   "execution_count": 9,
   "metadata": {},
   "outputs": [
    {
     "name": "stdout",
     "output_type": "stream",
     "text": [
      "Total mutations =  2\n",
      "Tree 0 [{'id': 0, 'site': 0, 'node': 7, 'derived_state': '1', 'parent': -1, 'metadata': b'', 'position': 2215.3058648109436, 'index': 0}, {'id': 1, 'site': 1, 'node': 5, 'derived_state': '1', 'parent': -1, 'metadata': b'', 'position': 7644.321192055941, 'index': 1}]\n"
     ]
    },
    {
     "data": {
      "image/svg+xml": [
       "<svg baseProfile=\"full\" height=\"200\" version=\"1.1\" width=\"200\" xmlns=\"http://www.w3.org/2000/svg\" xmlns:ev=\"http://www.w3.org/2001/xml-events\" xmlns:xlink=\"http://www.w3.org/1999/xlink\"><defs/><g id=\"tree_0\"><g fill=\"none\" id=\"edges\" stroke=\"black\"><path d=\"M 40.0 170.0 V 30.0 H 77.5\" id=\"edge_0_3\"/><path d=\"M 115.0 128.71905046195235 V 30.0 H 77.5\" id=\"edge_0_7\"/><path d=\"M 85.0 148.1764473006246 V 128.71905046195235 H 115.0\" id=\"edge_0_5\"/><path d=\"M 70.0 170.0 V 148.1764473006246 H 85.0\" id=\"edge_0_1\"/><path d=\"M 100.0 170.0 V 148.1764473006246 H 85.0\" id=\"edge_0_2\"/><path d=\"M 145.0 131.92434000786088 V 128.71905046195235 H 115.0\" id=\"edge_0_6\"/><path d=\"M 130.0 170.0 V 131.92434000786088 H 145.0\" id=\"edge_0_0\"/><path d=\"M 160.0 170.0 V 131.92434000786088 H 145.0\" id=\"edge_0_4\"/></g><g id=\"symbols\"><g class=\"nodes\"><circle cx=\"77.5\" cy=\"30.0\" id=\"node_0_8\" r=\"3\"/><circle cx=\"40.0\" cy=\"170.0\" id=\"node_0_3\" r=\"3\"/><circle cx=\"115.0\" cy=\"128.71905046195235\" id=\"node_0_7\" r=\"3\"/><circle cx=\"85.0\" cy=\"148.1764473006246\" id=\"node_0_5\" r=\"3\"/><circle cx=\"70.0\" cy=\"170.0\" id=\"node_0_1\" r=\"3\"/><circle cx=\"100.0\" cy=\"170.0\" id=\"node_0_2\" r=\"3\"/><circle cx=\"145.0\" cy=\"131.92434000786088\" id=\"node_0_6\" r=\"3\"/><circle cx=\"130.0\" cy=\"170.0\" id=\"node_0_0\" r=\"3\"/><circle cx=\"160.0\" cy=\"170.0\" id=\"node_0_4\" r=\"3\"/></g><g class=\"mutations\" fill=\"red\"><rect height=\"6\" transform=\"translate(-3, -3)\" width=\"6\" x=\"115.0\" y=\"79.35952523097617\"/><rect height=\"6\" transform=\"translate(-3, -3)\" width=\"6\" x=\"85.0\" y=\"138.44774888128848\"/></g></g><g font-size=\"14\" id=\"labels\"><g class=\"nodes\"><g text-anchor=\"start\"><text x=\"120.0\" y=\"123.71905046195235\">7</text><text x=\"150.0\" y=\"126.92434000786088\">6</text></g><g text-anchor=\"middle\"><text x=\"77.5\" y=\"25.0\">8</text><text x=\"40.0\" y=\"190.0\">3</text><text x=\"70.0\" y=\"190.0\">1</text><text x=\"100.0\" y=\"190.0\">2</text><text x=\"130.0\" y=\"190.0\">0</text><text x=\"160.0\" y=\"190.0\">4</text></g><g text-anchor=\"end\"><text x=\"80.0\" y=\"143.1764473006246\">5</text></g></g><g class=\"mutations\" font-style=\"italic\"><g text-anchor=\"start\"><text x=\"120.0\" y=\"83.35952523097617\">0</text></g><g text-anchor=\"end\"><text x=\"80.0\" y=\"142.44774888128848\">1</text></g></g></g></g></svg>"
      ],
      "text/plain": [
       "<IPython.core.display.SVG object>"
      ]
     },
     "execution_count": 9,
     "metadata": {},
     "output_type": "execute_result"
    }
   ],
   "source": [
    "import msprime\n",
    "\n",
    "tree_sequence = msprime.simulate(sample_size=5, \n",
    "                                 Ne=1000, \n",
    "                                 length=1e4, ##10000 - note use of scientific notation when #e# is used.\n",
    "                                 mutation_rate=2e-08)\n",
    "print (\"Total mutations = \", tree_sequence.get_num_mutations())\n",
    "for treeind,tree in enumerate(tree_sequence.trees()): \n",
    "    tree.draw(\"tree_ex2.svg\")\n",
    "    print (\"Tree\",treeind,list(tree.mutations()))\n",
    "\n",
    "from IPython.core.display import SVG\n",
    "SVG(\"tree_ex2.svg\")\n",
    "\n",
    "##If you observe no mutations, re-run the simulation - by chance, sometimes no mutations may occur!"
   ]
  },
  {
   "cell_type": "markdown",
   "metadata": {},
   "source": [
    "## Simulating sequences\n",
    "\n",
    "We might want sequence data instead. Below is an example:"
   ]
  },
  {
   "cell_type": "code",
   "execution_count": 17,
   "metadata": {},
   "outputs": [
    {
     "name": "stdout",
     "output_type": "stream",
     "text": [
      "Simulated  4 mutations\n",
      "0 2432.768327416852 [0 0 0 0 0 0 0 0 1 0 0 0 0 0 0 0 0 0 0 0]\n",
      "1 2577.6939414924095 [1 0 1 1 1 1 0 1 1 1 1 1 1 1 1 1 1 1 1 1]\n",
      "2 2844.682702049562 [0 0 0 1 1 0 0 0 0 0 0 0 0 0 0 0 0 1 0 0]\n",
      "3 4784.266628557816 [0 0 0 0 0 0 0 0 1 0 0 0 0 0 0 0 0 0 0 0]\n"
     ]
    }
   ],
   "source": [
    "import msprime\n",
    "import numpy as np\n",
    "\n",
    "def variants_example():\n",
    "    tree_sequence = msprime.simulate(\n",
    "        sample_size=20, Ne=1e4, length=5e3, recombination_rate=2e-8,\n",
    "        mutation_rate=2e-8, random_seed=10) #Note that by specifying the random seed, I always get the same output.\n",
    "    print(\"Simulated \", tree_sequence.get_num_mutations(), \"mutations\")\n",
    "    mymutations={}\n",
    "    for variant in tree_sequence.variants():\n",
    "        mymutations[variant.index] = (variant.position, variant.genotypes)\n",
    "    return (mymutations)\n",
    "\n",
    "myrun=variants_example()\n",
    "for i in myrun:\n",
    "    print (i, myrun[i][0], myrun[i][1])"
   ]
  },
  {
   "cell_type": "markdown",
   "metadata": {},
   "source": [
    "Here, we add several more arguments to **tree_sequence**. For instance, we add in the recombination_rate argument, specifying the recombination rate per base per generation. We also specify a random_seed, which tells exactly where to start simulation from. Thus, this number will tell us how to get back the exact same simulation, if needed. \n",
    "\n",
    "Now, if we call on the method **variants**, there is a Variant data type that contains the index, position and array of genotypes associated with each mutation. In the example above, there are seven mutations at the specified positions along the sequence, and the array specifies how many individuals have the mutation (number of 1s in the array). \n",
    "\n",
    "Below, we show how to create an array containing all the genotypes for each mutation. "
   ]
  },
  {
   "cell_type": "code",
   "execution_count": 19,
   "metadata": {},
   "outputs": [
    {
     "name": "stdout",
     "output_type": "stream",
     "text": [
      "Simulated  4 mutations\n",
      "[[0. 0. 0. 0. 0. 0. 0. 0. 1. 0. 0. 0. 0. 0. 0. 0. 0. 0. 0. 0.]\n",
      " [1. 0. 1. 1. 1. 1. 0. 1. 1. 1. 1. 1. 1. 1. 1. 1. 1. 1. 1. 1.]\n",
      " [0. 0. 0. 1. 1. 0. 0. 0. 0. 0. 0. 0. 0. 0. 0. 0. 0. 1. 0. 0.]\n",
      " [0. 0. 0. 0. 0. 0. 0. 0. 1. 0. 0. 0. 0. 0. 0. 0. 0. 0. 0. 0.]]\n"
     ]
    }
   ],
   "source": [
    "import msprime\n",
    "import numpy as np\n",
    "\n",
    "def variants_example():\n",
    "    tree_sequence = msprime.simulate(\n",
    "        sample_size=20, Ne=1e4, length=5e3, recombination_rate=2e-8,\n",
    "        mutation_rate=2e-8, random_seed=10)\n",
    "    print(\"Simulated \", tree_sequence.get_num_mutations(), \"mutations\")\n",
    "    \n",
    "    ##Get dimensions of array and initialize array.\n",
    "    shape = tree_sequence.get_num_mutations(), tree_sequence.get_sample_size()\n",
    "    mygenos=np.zeros(shape)\n",
    "    \n",
    "    for variant in tree_sequence.variants():\n",
    "        #print variant.index, variant.position, variant.genotypes\n",
    "        \n",
    "        ##Add row of genotypes to correct row in array.\n",
    "        mygenos[variant.index,]=variant.genotypes\n",
    "    ##Return the array    \n",
    "    return mygenos\n",
    "\n",
    "print (variants_example())"
   ]
  },
  {
   "cell_type": "markdown",
   "metadata": {},
   "source": [
    "Consider here, what do the rows represent? What about the columns?\n",
    "\n",
    "\n",
    "Now let's consider different population sizes!"
   ]
  },
  {
   "cell_type": "code",
   "execution_count": 30,
   "metadata": {},
   "outputs": [
    {
     "name": "stdout",
     "output_type": "stream",
     "text": [
      "(array([ 2.,  8.,  9., 15., 17., 19., 18.,  5.,  6.,  1.]), array([ 87. ,  98.5, 110. , 121.5, 133. , 144.5, 156. , 167.5, 179. ,\n",
      "       190.5, 202. ]), <a list of 10 Patch objects>)\n"
     ]
    },
    {
     "data": {
      "image/png": "[encoded data removed]",
      "text/plain": [
       "<Figure size 432x288 with 1 Axes>"
      ]
     },
     "metadata": {
      "needs_background": "light"
     },
     "output_type": "display_data"
    }
   ],
   "source": [
    "import msprime\n",
    "import numpy as np\n",
    "import matplotlib.pyplot as plt\n",
    "\n",
    "Ne=1e5\n",
    "iterations=100\n",
    "\n",
    "mycounts=np.zeros(iterations)\n",
    "for i in range(iterations):\n",
    "    tree_sequence = msprime.simulate(\n",
    "            sample_size=20, Ne=Ne, length=5e3, recombination_rate=2e-8,\n",
    "            mutation_rate=2e-8)\n",
    "    mycounts[i] = tree_sequence.get_num_mutations()\n",
    "\n",
    "fig=plt.figure()\n",
    "ax=fig.add_subplot(1,1,1)\n",
    "myhist = ax.hist(mycounts)\n",
    "print (myhist)\n",
    "ax.text(myhist[1].min(),myhist[0].max(),\n",
    "        \"mean = %.2f\\nsd = %.2f\" % (mycounts.mean(),mycounts.std()),\n",
    "        verticalalignment='top',horizontalalignment='left')\n",
    "\n",
    "plt.show()\n",
    "\n",
    "##Can you modify the code to add appropriate labels in the x- and y-axes?"
   ]
  },
  {
   "cell_type": "markdown",
   "metadata": {},
   "source": [
    "We have done several things above! We calculate the number of segregating sites (or the total number of mutations) using **get_num_mutations**. Then, we run this simulation several times (100 in the example), so we simulate many replicates of the number of segregating sites. Then, we send these values to an array, **mycounts**, and plot a histogram for the number of segregating sites. We add text to the figure in the top left (how did I keep it in the top left for different window sizes?) specifying the mean and standard deviation. \n",
    "\n",
    "Consider the following questions, and feel free to modify the above code to explore:\n",
    "1. What happens if you change the number of iterations? \n",
    "2. What happens if you increase the mutation rate?\n",
    "3. What happens if you adjust the sample size?\n",
    "4. What happens if you adjust the sequence length?\n",
    "\n",
    "When we try different **Ne**, the effective population size (for now, best to understand it as a _genetic_ estimate of the population size), we find that we have more mutations for larger population sizes and much less mutations for smaller population sizes. Let's make one more plot."
   ]
  },
  {
   "cell_type": "code",
   "execution_count": 33,
   "metadata": {},
   "outputs": [
    {
     "data": {
      "image/png": "[encoded data removed]",
      "text/plain": [
       "<Figure size 432x288 with 1 Axes>"
      ]
     },
     "metadata": {
      "needs_background": "light"
     },
     "output_type": "display_data"
    }
   ],
   "source": [
    "import msprime\n",
    "import numpy as np\n",
    "import matplotlib.pyplot as plt\n",
    "\n",
    "Ne=1e5\n",
    "iterations=100\n",
    "nes=[1e2,1e3,1e4,1e5,1e6]\n",
    "mymeans = []\n",
    "mysds = []\n",
    "for neind,Ne in enumerate(nes):\n",
    "    mycounts=np.zeros(iterations)\n",
    "    for i in range(iterations):\n",
    "        tree_sequence = msprime.simulate(\n",
    "                sample_size=20, Ne=Ne, length=5e3, recombination_rate=2e-8,\n",
    "                mutation_rate=2e-8)\n",
    "        mycounts[i] = tree_sequence.get_num_mutations()\n",
    "    mymeans.append(mycounts.mean())\n",
    "    mysds.append(mycounts.std()) \n",
    "\n",
    "fig=plt.figure()\n",
    "ax=fig.add_subplot(1,1,1)\n",
    "ax.plot(nes,mymeans,'o')\n",
    "#ax.set_xscale('log')\n",
    "#ax.set_yscale('log')\n",
    "plt.show()"
   ]
  },
  {
   "cell_type": "markdown",
   "metadata": {},
   "source": [
    "Notice that we see an increase in mutations with an increase in population size. If we add a log x- and y- scale, we see a linear relationship between the x- and y- axis. This makes sense, since we are increasing each population size by an order of magnitude.\n",
    "\n",
    "How can we modify the figure to make it more reader friendly?\n",
    "\n",
    "**msprime** is a useful module that allows us to simulate populations with varying population sizes, divergence times, migration rates, etc. We can then get simulated sequence data under those demographic parameters, look at __expected__ patterns from the simulated sequence data, and compare these __expected__ patterns to what we __observe__ in the real data. This is one way population geneticists test new methods - see how they perform on simulated data to understand how different demographic parameters affect a genetic pattern, and use that knowledge to inform on the observed genetic patterns, where in those cases, we'd be inferring the demographic parameters from known genetic patterns. \n",
    "\n",
    "## More than one population\n",
    "\n",
    "For one more level of complexity in the lesson, let's simulate TWO populations, that diverged around 1 million years ago. Below, we generate an array of genotypes with simulated sequences for both populations.\n"
   ]
  },
  {
   "cell_type": "code",
   "execution_count": 49,
   "metadata": {},
   "outputs": [
    {
     "name": "stdout",
     "output_type": "stream",
     "text": [
      "msprime has a program that summarizes the parameters you included.\n",
      "Model =  hudson(reference_size=1)\n",
      "===============================\n",
      "Epoch: 0 -- 40000.0 generations\n",
      "===============================\n",
      "     start     end      growth_rate |     0        1    \n",
      "   -------- --------       -------- | -------- -------- \n",
      "0 |   0.5      0.5                0 |     0        0    \n",
      "1 |   0.5      0.5                0 |     0        0    \n",
      "\n",
      "Events @ generation 40000.0\n",
      "   - Mass migration: Lineages moved with probability 1.0 backwards in time with source 1 & dest 0\n",
      "                     (equivalent to migration from 0 to 1 forwards in time)\n",
      "=================================\n",
      "Epoch: 40000.0 -- inf generations\n",
      "=================================\n",
      "     start     end      growth_rate |     0        1    \n",
      "   -------- --------       -------- | -------- -------- \n",
      "0 |   0.5      0.5                0 |     0        0    \n",
      "1 |   0.5      0.5                0 |     0        0    \n",
      "\n",
      "This is the genotype array\n",
      "[[0. 0. 0. 0. 0. 1. 1. 1. 1. 1.]\n",
      " [1. 1. 1. 1. 1. 0. 0. 0. 0. 0.]\n",
      " [0. 0. 0. 0. 0. 1. 1. 1. 1. 1.]\n",
      " [0. 0. 0. 0. 0. 1. 1. 1. 1. 1.]\n",
      " [1. 1. 1. 1. 1. 0. 0. 0. 0. 0.]\n",
      " [1. 1. 1. 1. 1. 0. 0. 0. 0. 0.]\n",
      " [0. 0. 0. 0. 0. 1. 1. 1. 1. 1.]\n",
      " [0. 0. 0. 0. 0. 1. 1. 1. 1. 1.]\n",
      " [0. 0. 0. 0. 0. 1. 1. 1. 1. 1.]\n",
      " [1. 1. 1. 1. 1. 0. 0. 0. 0. 0.]\n",
      " [1. 1. 1. 1. 1. 0. 0. 0. 0. 0.]\n",
      " [1. 1. 1. 1. 1. 0. 0. 0. 0. 0.]\n",
      " [1. 1. 1. 1. 1. 0. 0. 0. 0. 0.]\n",
      " [0. 0. 0. 0. 0. 1. 1. 1. 1. 1.]\n",
      " [0. 0. 0. 0. 0. 1. 1. 1. 1. 1.]\n",
      " [0. 0. 0. 0. 0. 1. 1. 1. 1. 1.]]\n",
      "\n",
      "The number of mutations is: 16\n",
      "The number of samples is: 10\n"
     ]
    }
   ],
   "source": [
    "import numpy as np\n",
    "\n",
    "def two_pop():\n",
    "    # M is the overall symmetric migration rate, and d is the number\n",
    "    # of subpopulations.\n",
    "    M = 0 #0.2\n",
    "    d = 2\n",
    "    m = M / (2 * (d - 1))\n",
    "    \n",
    "    \n",
    "    # Times are provided in years, so we convert into generations.\n",
    "    generation_time = 25\n",
    "    T_1 = 1e6 / generation_time\n",
    "      \n",
    "    # Allocate the initial sample. We choose five sample each\n",
    "    # from the two subpopulations.\n",
    "    population_configurations = [\n",
    "        msprime.PopulationConfiguration(sample_size=5),\n",
    "        msprime.PopulationConfiguration(sample_size=5)]\n",
    "    # Now we set up the migration matrix. Since this is a symmetric\n",
    "    # island model, we have the same rate of migration between all\n",
    "    # pairs of subpopulations. Diagonal elements must be zero.\n",
    "    migration_matrix = [\n",
    "        [0, m],\n",
    "        [m, 0]]\n",
    "    # We pass these values to the simulate function, and ask it\n",
    "    # to run the required number of replicates.\n",
    "    \n",
    "    ##These can include population size changes, new migration matrices, admixture events, mergings\n",
    "    ##Only merging is shown here\n",
    "    demographic_events = [\n",
    "        # 100% of 1st subpopulation merges with 2nd subpopulation \n",
    "        # (two populations arrive at common ancestral population)\n",
    "        msprime.MassMigration(\n",
    "            time=T_1, source=1, destination=0, proportion=1.0)\n",
    "    ]\n",
    "    \n",
    "    replicates = msprime.simulate(\n",
    "        Ne=0.5,\n",
    "        length=10e3,\n",
    "        recombination_rate=2e-8,\n",
    "        mutation_rate=2e-8,\n",
    "        population_configurations=population_configurations,\n",
    "        migration_matrix=migration_matrix,\n",
    "        demographic_events=demographic_events)\n",
    "    \n",
    "    print (\"msprime has a program that summarizes the parameters you included.\")\n",
    "    dd = msprime.DemographyDebugger(\n",
    "        population_configurations=population_configurations,\n",
    "        migration_matrix=migration_matrix,\n",
    "        demographic_events=demographic_events)\n",
    "    dd.print_history()\n",
    "    \n",
    "    shape = replicates.get_num_mutations(), replicates.get_sample_size()\n",
    "    mygenos=np.zeros(shape)\n",
    "    \n",
    "    for variant in replicates.variants():\n",
    "        mygenos[variant.index,]=variant.genotypes\n",
    "    return mygenos\n",
    "\n",
    "\n",
    "\n",
    "msprime.simulate(\n",
    "            sample_size=20, Ne=Ne, length=5e3, recombination_rate=2e-8,\n",
    "            mutation_rate=2e-8)\n",
    "myrun=two_pop()\n",
    "print (\"This is the genotype array\")\n",
    "print (myrun)\n",
    "print ()\n",
    "\n",
    "print (\"The number of mutations is:\", myrun.shape[0])\n",
    "print (\"The number of samples is:\", myrun.shape[1])"
   ]
  },
  {
   "cell_type": "markdown",
   "metadata": {},
   "source": [
    "Lastly, just to show you how complex it can get when mimicking real populations, I've copied an example from **msprime** documentations trying to simulate the Out of Africa migration using three populations - from Africa, Europe, and East Asia. \n",
    "\n",
    "1. Can you edit the function to generate a genotype array containing five individuals from each population (15 total)?\n",
    "2. As a review, why is None printed at the very end?"
   ]
  },
  {
   "cell_type": "code",
   "execution_count": 51,
   "metadata": {},
   "outputs": [
    {
     "name": "stdout",
     "output_type": "stream",
     "text": [
      "Model =  hudson(reference_size=1)\n",
      "=============================\n",
      "Epoch: 0 -- 848.0 generations\n",
      "=============================\n",
      "     start     end      growth_rate |     0        1        2    \n",
      "   -------- --------       -------- | -------- -------- -------- \n",
      "0 |1.23e+04 1.23e+04              0 |     0      3e-05   1.9e-05 \n",
      "1 |2.97e+04   1e+03           0.004 |   3e-05      0     9.6e-05 \n",
      "2 |5.41e+04    510           0.0055 |  1.9e-05  9.6e-05     0    \n",
      "\n",
      "Events @ generation 848.0\n",
      "   - Mass migration: Lineages moved with probability 1.0 backwards in time with source 2 & dest 1\n",
      "                     (equivalent to migration from 1 to 2 forwards in time)\n",
      "   - Migration rate change to 0 everywhere\n",
      "   - Migration rate change for (0, 1) to 0.00025\n",
      "   - Migration rate change for (1, 0) to 0.00025\n",
      "   - Population parameter change for 1: initial_size -> 2100 growth_rate -> 0 \n",
      "==================================\n",
      "Epoch: 848.0 -- 5600.0 generations\n",
      "==================================\n",
      "     start     end      growth_rate |     0        1        2    \n",
      "   -------- --------       -------- | -------- -------- -------- \n",
      "0 |1.23e+04 1.23e+04              0 |     0     0.00025     0    \n",
      "1 | 2.1e+03  2.1e+03              0 |  0.00025     0        0    \n",
      "2 |   510   2.27e-09         0.0055 |     0        0        0    \n",
      "\n",
      "Events @ generation 5600.0\n",
      "   - Mass migration: Lineages moved with probability 1.0 backwards in time with source 1 & dest 0\n",
      "                     (equivalent to migration from 0 to 1 forwards in time)\n",
      "   - Migration rate change to 0 everywhere\n",
      "===================================\n",
      "Epoch: 5600.0 -- 8800.0 generations\n",
      "===================================\n",
      "     start     end      growth_rate |     0        1        2    \n",
      "   -------- --------       -------- | -------- -------- -------- \n",
      "0 |1.23e+04 1.23e+04              0 |     0        0        0    \n",
      "1 | 2.1e+03  2.1e+03              0 |     0        0        0    \n",
      "2 |2.27e-09 5.17e-17         0.0055 |     0        0        0    \n",
      "\n",
      "Events @ generation 8800.0\n",
      "   - Population parameter change for 0: initial_size -> 7300 \n",
      "================================\n",
      "Epoch: 8800.0 -- inf generations\n",
      "================================\n",
      "     start     end      growth_rate |     0        1        2    \n",
      "   -------- --------       -------- | -------- -------- -------- \n",
      "0 | 7.3e+03  7.3e+03              0 |     0        0        0    \n",
      "1 | 2.1e+03  2.1e+03              0 |     0        0        0    \n",
      "2 |5.17e-17     0            0.0055 |     0        0        0    \n",
      "\n",
      "None\n"
     ]
    }
   ],
   "source": [
    "import math\n",
    "def out_of_africa():\n",
    "    # First we set out the maximum likelihood values of the various parameters\n",
    "    # given in Table 1.\n",
    "    N_A = 7300\n",
    "    N_B = 2100\n",
    "    N_AF = 12300\n",
    "    N_EU0 = 1000\n",
    "    N_AS0 = 510\n",
    "    # Times are provided in years, so we convert into generations.\n",
    "    generation_time = 25\n",
    "    T_AF = 220e3 / generation_time\n",
    "    T_B = 140e3 / generation_time\n",
    "    T_EU_AS = 21.2e3 / generation_time\n",
    "    # We need to work out the starting (diploid) population sizes based on\n",
    "    # the growth rates provided for these two populations\n",
    "    r_EU = 0.004\n",
    "    r_AS = 0.0055\n",
    "    N_EU = N_EU0 / math.exp(-r_EU * T_EU_AS)\n",
    "    N_AS = N_AS0 / math.exp(-r_AS * T_EU_AS)\n",
    "    # Migration rates during the various epochs.\n",
    "    m_AF_B = 25e-5\n",
    "    m_AF_EU = 3e-5\n",
    "    m_AF_AS = 1.9e-5\n",
    "    m_EU_AS = 9.6e-5\n",
    "    # Population IDs correspond to their indexes in the population\n",
    "    # configuration array. Therefore, we have 0=YRI, 1=CEU and 2=CHB\n",
    "    # initially.\n",
    "    population_configurations = [\n",
    "        msprime.PopulationConfiguration(\n",
    "            sample_size=0, initial_size=N_AF),\n",
    "        msprime.PopulationConfiguration(\n",
    "            sample_size=1, initial_size=N_EU, growth_rate=r_EU),\n",
    "        msprime.PopulationConfiguration(\n",
    "            sample_size=1, initial_size=N_AS, growth_rate=r_AS)\n",
    "    ]\n",
    "    migration_matrix = [\n",
    "        [      0, m_AF_EU, m_AF_AS],\n",
    "        [m_AF_EU,       0, m_EU_AS],\n",
    "        [m_AF_AS, m_EU_AS,       0],\n",
    "    ]\n",
    "    demographic_events = [\n",
    "        # CEU and CHB merge into B with rate changes at T_EU_AS\n",
    "        msprime.MassMigration(\n",
    "            time=T_EU_AS, source=2, destination=1, proportion=1.0),\n",
    "        msprime.MigrationRateChange(time=T_EU_AS, rate=0),\n",
    "        msprime.MigrationRateChange(\n",
    "            time=T_EU_AS, rate=m_AF_B, matrix_index=(0, 1)),\n",
    "        msprime.MigrationRateChange(\n",
    "            time=T_EU_AS, rate=m_AF_B, matrix_index=(1, 0)),\n",
    "        msprime.PopulationParametersChange(\n",
    "            time=T_EU_AS, initial_size=N_B, growth_rate=0, population_id=1),\n",
    "        # Population B merges into YRI at T_B\n",
    "        msprime.MassMigration(\n",
    "            time=T_B, source=1, destination=0, proportion=1.0),\n",
    "        msprime.MigrationRateChange(time=T_B, rate=0),\n",
    "        # Size changes to N_A at T_AF\n",
    "        msprime.PopulationParametersChange(\n",
    "            time=T_AF, initial_size=N_A, population_id=0)\n",
    "    ]\n",
    "    # Use the demography debugger to print out the demographic history\n",
    "    # that we have just described.\n",
    "    dd = msprime.DemographyDebugger(\n",
    "        population_configurations=population_configurations,\n",
    "        migration_matrix=migration_matrix,\n",
    "        demographic_events=demographic_events)\n",
    "    dd.print_history()\n",
    "    \n",
    "print (out_of_africa())"
   ]
  },
  {
   "cell_type": "markdown",
   "metadata": {},
   "source": [
    "## Congrats!\n",
    "\n",
    "You've gone through all the lessons I have on Python. There's lots more to discover, but you should be in good shape to start writing scripts for what you need, and have a pretty good set of vocabulary and troubleshooting ability to use Google to help you with the rest. I invite you to revisit these lessons, especially ones you found difficult, to keep your Python-ing fresh, or to mess around with new functions, particularly from the modules I introduced in the latter half of the course. \n",
    "\n",
    "Enjoy coding!"
   ]
  }
 ],
 "metadata": {
  "kernelspec": {
   "display_name": "Python 3",
   "language": "python",
   "name": "python3"
  },
  "language_info": {
   "codemirror_mode": {
    "name": "ipython",
    "version": 3
   },
   "file_extension": ".py",
   "mimetype": "text/x-python",
   "name": "python",
   "nbconvert_exporter": "python",
   "pygments_lexer": "ipython3",
   "version": "3.7.6"
  }
 },
 "nbformat": 4,
 "nbformat_minor": 2
}
