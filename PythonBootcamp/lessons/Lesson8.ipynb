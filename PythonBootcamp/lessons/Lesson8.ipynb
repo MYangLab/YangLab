{
 "cells": [
  {
   "cell_type": "markdown",
   "metadata": {},
   "source": [
    "## Lesson 8: (Popen) and NumPy and SciPy\n",
    "\n",
    "Today's topics are:\n",
    "\n",
    "1. subprocess\n",
    "2. Numpy\n",
    "3. Scipy\n",
    "\n",
    "\n",
    "These three libraries are very useful for dealing with data files and analyzing them. \n",
    "\n",
    "### subprocess.Popen()\n",
    "\n",
    "At this point, you have learned two different language - some UNIX and a lot of Python. In the future, you might learn some R or Java or C++! While the course is primarily focused on Python, why do we mention these other languages and introduce you to Unix as well? \n",
    "\n",
    "We do so because the types of software you encounter might be easier to use in one language or another. For instance, many software are actually written such that you can call the software from the Terminal using a number of options. Thus, without a GUI developed for the software, you might not know how to install or use the software. \n",
    "\n",
    "Other times, there might be a package of library that easily does everything you want. **R** is very handy for some default figures, as well as for phylogenetic analysis, and though modules like **DendroPy** might mean you can do equivalent analyses in Python, the history of using **R** means that other people's old code/packages you might want to use are in **R**. \n",
    "\n",
    "Sometimes, you might want to take one set of data, use Python to set up the initial data format, call a software from the Terminal to analyze said data, and then use Python to process the returned results and place the results in a figure. Doing each part separately means that you have to manually go from Python to software, and then software back to Python. Wouldn't it be easier if you could write a single script all in Python, and not have to watch your steps? You can!\n",
    "\n",
    "The **subprocess** module allows us to be a bit more intelligent about how we execute system calls by using a method called **subprocess.Popen()**. This is somewhat different, however, in that the subprocess we want to execute must be created as an object, which we can then monitor with the methods of this object.\n"
   ]
  },
  {
   "cell_type": "code",
   "execution_count": null,
   "metadata": {},
   "outputs": [],
   "source": [
    "import subprocess as sp\n",
    " \n",
    "# open file to print to\n",
    "pd=\"/Users/myang/YangLab/PythonBootcamp/Lesson8/\"\n",
    "fh = open('myUNIXcommands.txt', 'w')\n",
    " \n",
    "# ls -l 10 times to garbage out\n",
    "for each in range(0,2):\n",
    " a = sp.Popen( ['echo', 'hello'], stdout=fh ) ##pwd?\n",
    " a.wait()\n",
    "fh.close()"
   ]
  },
  {
   "cell_type": "code",
   "execution_count": null,
   "metadata": {},
   "outputs": [],
   "source": [
    "%%bash\n",
    "pwd\n",
    "cat myUNIXcommands.txt"
   ]
  },
  {
   "cell_type": "markdown",
   "metadata": {},
   "source": [
    "Here, we are using Popen to run the command '**echo hello**' 2 times, and to store the results of each command (they'll all be the same) in a file called \"myUNIXcommands.txt\". We are just using **echo** as a simple example - you could run anything you could in the terminal using Popen.\n",
    "\n",
    "The **wait()** method of the subprocess object tells the system to wait until this subprocess has completed before doing anything else in the program. If you're using your laptop for anything other than running your program, you may want to not grind everything to a halt for the duration of your program's runtime (which for me is often hours and hours). And if you're using a server to run your program on, your coworkers may appreciate it if you do not make use of every CPU on the server while they're trying to get their work done. In truth, the operating system will make its own attempt at balancing the needs of processes, but especially in the case where you're trying to use your laptop or PC as a workstation, this can save you some frustration.\n",
    "\n",
    "The above example is useful - but what if you wanted to store the results in python' memory instead of writing it to a file?"
   ]
  },
  {
   "cell_type": "code",
   "execution_count": null,
   "metadata": {},
   "outputs": [],
   "source": [
    "import subprocess as sp\n",
    " \n",
    "proc = sp.Popen(['ls', '-l'], stdout=sp.PIPE) #, stderr=sp.PIPE)\n",
    "# The sp.PIPE is a mechanism that allows the output to be redirected to\n",
    "# wherever you point it. \n",
    "# In this case, to our subprocess object named \"proc\".\n",
    "# The next step is to get the data out of the object and \n",
    "# into a data structure\n",
    "# that we can organize however we see fit.\n",
    " \n",
    "# we use the method below to get a tuple of two things: \n",
    "# the stdout and the stderr\n",
    "proc_output = proc.communicate() ## Automatically includes **wait**, so do not need to add\n",
    "print (\"------------------------\")\n",
    "print (\"We got a tuple\\nWith the first part being:\\n\", proc_output[0], \\\n",
    "\"\\nand the second being:\\n\", proc_output[1])\n",
    "print (\"------------------------\")\n",
    " \n",
    "# Once we use the .communicate() method, the stdout \n",
    "# and stderr are gone from the proc object.\n",
    "print (\"------------------------\")\n",
    "print (\"and if we don't format anything, we see the tuple like this:\\n\", proc_output)\n",
    "print (\"------------------------\")\n",
    " \n",
    "# But we could easily convert this into a friendlier structure\n",
    "stdoutlist = proc_output[0].decode(\"utf-8\").split('\\n') \n",
    "##Note the output is in bytes - generally decoding to UTF-8 will work.\n",
    "print (\"------------------------\")\n",
    "print (\"And now we see the first half of the tuple as a list of lines \" \\\n",
    "+ \"of output from our subprocess:\\n\")\n",
    "for i in stdoutlist: print (i)\n",
    "print (\"------------------------\")"
   ]
  },
  {
   "cell_type": "markdown",
   "metadata": {},
   "source": [
    "In the above, we change the \"stdout\" to **subprocess.PIPE**, which refers to the \"|\" - remember in UNIX it held your results and applied the next function after it? Here, it holds the results in memory until you send it to a variable using the method **communicate** (which by default does the same thing as the method **wait**, so you won't need that here). Here, using **communicate**, the output is a tuple containing your *stdout* and your *stderr*, as you can see above. \n",
    "\n",
    "If we want to see any error messages, we add \"stderr\" and set it equal to **subprocess.PIPE**, like for \"stdout\". Then, any error messages will pop up in the second tuple. \n",
    "\n",
    "Lastly, note the `'.decode('utf-8')`. In Python 3, you need to specify the format the byte-string is in, which usually will be UTF-8. Adding this before using string operations (or re-initializing into a string) will avoid errors."
   ]
  },
  {
   "cell_type": "code",
   "execution_count": null,
   "metadata": {},
   "outputs": [],
   "source": [
    "import subprocess as sp\n",
    "#pd=\"/Users/melyang/Desktop/PythonBootcamp2017/resources/\"\n",
    "for mychr in ['1','2']:\n",
    "    mycommand=\"curl http://sgd-archive.yeastgenome.org/sequence/S288C_reference/chromosomes/fasta/chr0%s.fsa\" % mychr\n",
    "    proc = sp.Popen(mycommand.split(), stdout=sp.PIPE, stderr=sp.PIPE)\n",
    "    myout = proc.communicate()\n",
    "    myheader=myout[0].decode('utf-8').split('\\n')[0]\n",
    "    print (myheader)"
   ]
  },
  {
   "cell_type": "markdown",
   "metadata": {},
   "source": [
    "In this last example, note that I use `curl` to download the file. `curl` reads everything in the file to PIPE here, so from the fasta file, I'm only grabbing the first line, which is the header in each case of the fasta file. "
   ]
  },
  {
   "cell_type": "markdown",
   "metadata": {},
   "source": [
    "### NumPy and SciPy\n",
    "\n",
    "You have thus far learned about basics of python, as well as some plotting. However, you won't get very far without the ability to apply statistical analyses to the data you have parsed. \n",
    "\n",
    "Today, we will also learn about two very useful modules for conducting analyses: **numpy** and **scipy**. \n",
    "\n",
    "### Introduction\n",
    "\n",
    "As Python matured into the multifunctional language it is today, more and more features were added. We've seen most of the original functionality of the language, which was originally intended for scripting of UNIX and web processes, and writing user interfaces. But as Python became popular as a scripting language, it found its way into the arms of scientists, who generally speaking, care more about efficient data manipulation than web programming. \n",
    "\n",
    "*The big piece that was missing in Python was a numerical library, which means a collection of tools for dealing with large amounts of numbers at once.* \n",
    "\n",
    "After a few efforts, an integrated one was developed. Numerical Python, or NumPy provided a large collection of mathematical functions similar to those found in a language like MATLAB or R, and also like those languages, Python provides datatypes that are can be manipulated as vectors and matrices. We'll introduce these data types, and then their associated functions."
   ]
  },
  {
   "cell_type": "markdown",
   "metadata": {},
   "source": [
    "## NumPy Basics\n",
    "Numerical Python is a powerful library of functions, methods, and data types we can used to analyze our data. Unfortunately for those of us whose heads continue to spin in a crash-course of syntax, it also uses a different set of rules. I hope you'll understand why when you see the power and speed NumPy's data types afford us. Let's start off creating some empty arrays, which look sorta like **lists**, and are in fact **vectors** or **arrays**.\n",
    "\n",
    "They differ in a few fundamental ways from lists:\n",
    "\n",
    "1. Arrays cannot be of mixed types. They can be all integers, floats, strings, logical (or boolean) values, or other immutable values. But they cannot be some characters, some numbers, or any other mixture of data types. They also cannot contain mutable types such as lists. So, we can have a list of lists, but not an array of lists. We can, however, have an array of arrays (sortof). Which brings us to:\n",
    "2. Arrays can be multidimensional, but they must be rectangular. You can have a list of lists, where the first interior list is 3 elements long, the second 5, and the third 12, but your multidimensional array must be expressible as \"a m by n (by j by k by...) array\". I have never encountered a situation where Python says there are too many dimensions (but I've never had need beyond, maybe, 4 dimensions).\n",
    "3. We can perform vector operations on them, which can be algebraic functions (like a dot product), or simple replacements of values in slice of the array.\n",
    "\n",
    "## Arrays\n",
    "Here's one way of making an array: start with a list and turn it into an array with the array method:"
   ]
  },
  {
   "cell_type": "code",
   "execution_count": null,
   "metadata": {},
   "outputs": [],
   "source": [
    "import numpy as np\n",
    "\n",
    "a = [0] * 40\n",
    "print(type(a))\n",
    "print (a)\n",
    "print ()\n",
    "\n",
    "a = np.array(a)\n",
    "print(type(a))\n",
    "print (a)\n",
    "print ()"
   ]
  },
  {
   "cell_type": "markdown",
   "metadata": {},
   "source": [
    "A **numpy** function called **numpy.zeros()** is a better way of initializing an array with zeros. "
   ]
  },
  {
   "cell_type": "code",
   "execution_count": null,
   "metadata": {},
   "outputs": [],
   "source": [
    "a = np.zeros(40)\n",
    "print(type(a))\n",
    "print (a)\n",
    "print ()"
   ]
  },
  {
   "cell_type": "markdown",
   "metadata": {},
   "source": [
    "**numpy.arange()** creates a sequence much like **range()**, but as an array. Uncomment each one and print the resulting array. What do the different options for **numpy.arange()** do?"
   ]
  },
  {
   "cell_type": "code",
   "execution_count": null,
   "metadata": {},
   "outputs": [],
   "source": [
    "a = np.arange(5,10)\n",
    "#a = np.arange(5,10,dtype=float)\n",
    "#a = np.arange(10)\n",
    "#a = np.arange(10.0)\n",
    "#a = np.arange(5,10,2)\n",
    "#a = np.arange(5,10,0.25)\n",
    "print (a)\n",
    "print ()"
   ]
  },
  {
   "cell_type": "markdown",
   "metadata": {},
   "source": [
    "You can also initialize an array with multiple dimensions."
   ]
  },
  {
   "cell_type": "code",
   "execution_count": null,
   "metadata": {},
   "outputs": [],
   "source": [
    "a = np.zeros((5,10)) ##tuple = (number rows, number columns)\n",
    "print (a)\n",
    "print ()"
   ]
  },
  {
   "cell_type": "markdown",
   "metadata": {},
   "source": [
    "To work with specific elements in the array, you have two formats:"
   ]
  },
  {
   "cell_type": "code",
   "execution_count": null,
   "metadata": {},
   "outputs": [],
   "source": [
    "a = np.zeros((5,10)) \n",
    "a[1][3]=5\n",
    "a[-3][-2]=10\n",
    "\n",
    "a[1,4]=6\n",
    "a[-4,-2]=3\n",
    "print (a)\n",
    "print ()"
   ]
  },
  {
   "cell_type": "markdown",
   "metadata": {},
   "source": [
    "What makes arrays exciting, however, is you can apply things to entire arrays, entire rows, or entire columns simultaneously!"
   ]
  },
  {
   "cell_type": "code",
   "execution_count": null,
   "metadata": {},
   "outputs": [],
   "source": [
    "a = np.zeros((5,10)) \n",
    "a[1,:]=5\n",
    "a[:,4]=10\n",
    "print (a)\n",
    "\n",
    "##What if you try this with [][]?"
   ]
  },
  {
   "cell_type": "markdown",
   "metadata": {},
   "source": [
    "In a list, you would do the command below, which is many more steps!"
   ]
  },
  {
   "cell_type": "code",
   "execution_count": null,
   "metadata": {},
   "outputs": [],
   "source": [
    "LoL = [[0 for i in range(10)] for i in range(5)] #LoL - List of Lists\n",
    " \n",
    "for i, elem in enumerate(LoL[1]):\n",
    "    LoL[1][i] = 5\n",
    "    \n",
    "for i,elem in enumerate(LoL):\n",
    "    LoL[i][4] = 10\n",
    "    \n",
    "print (LoL)"
   ]
  },
  {
   "cell_type": "markdown",
   "metadata": {},
   "source": [
    "You can also slice with arrays."
   ]
  },
  {
   "cell_type": "code",
   "execution_count": null,
   "metadata": {},
   "outputs": [],
   "source": [
    "a=np.arange(30)\n",
    "a=a.reshape(5,6) \n",
    "print (a)\n",
    "print ()\n",
    "print (a[2:4,3:6])\n",
    "print ()\n",
    "print (a[::-1])\n",
    "print ()\n",
    "print (a[::2][1:4])"
   ]
  },
  {
   "cell_type": "markdown",
   "metadata": {},
   "source": [
    "## Vector Math with Arrays\n",
    "We can do math on many values at once with arrays, no for loop required!"
   ]
  },
  {
   "cell_type": "code",
   "execution_count": null,
   "metadata": {},
   "outputs": [],
   "source": [
    "a=np.arange(30)\n",
    "a=a.reshape(5,6)\n",
    "\n",
    "b=np.arange(50)\n",
    "b=b.reshape(5,10)\n",
    "\n",
    "print (a)\n",
    "print (b)\n",
    "print ()\n",
    "\n",
    "print (\"Adding, a+10\")\n",
    "print (a+10)\n",
    "print ()\n",
    "print (\"Subtracting, 20-b\")\n",
    "print (20-b)\n",
    "print ()\n",
    "print (\"Dividing, b/5.0\")\n",
    "print (b/5.0)\n",
    "print ()\n",
    "print (\"Multiplying b[:5,:6]*a\")\n",
    "print (b[:5,:6]*a)\n",
    "print ()\n",
    "print (\"Transpose of a\")\n",
    "print (a.transpose())\n",
    "print ()\n",
    "print (\"Dot product of a and b\")\n",
    "print (np.dot(a,b))\n",
    "##What is wrong with the dot product? "
   ]
  },
  {
   "cell_type": "markdown",
   "metadata": {},
   "source": [
    "## Boolean (logical) Values with Arrays"
   ]
  },
  {
   "cell_type": "code",
   "execution_count": null,
   "metadata": {},
   "outputs": [],
   "source": [
    "a = np.zeros(10, dtype=bool)\n",
    "print (a)\n",
    "print ()\n",
    "\n",
    "print (\"Slicing and mass-assignment still work\")\n",
    "a[2:5] = True\n",
    "print (a)\n",
    "print ()\n",
    "\n",
    "print (\"We can test if something is False or True, getting an array\")\n",
    "print (a)\n",
    "print (a==False)\n",
    "print ()\n",
    "\n"
   ]
  },
  {
   "cell_type": "markdown",
   "metadata": {},
   "source": [
    "## Basic Statistics with Numpy\n",
    "\n",
    "NumPy is freaking huge, with around 1200 pages of [reference documentation](https://numpy.org/doc/stable/contents.html), but all of you will, at some point, use some basic statistics to get a feel for your data. So let's make sure we hit some of those functions:\n",
    "\n",
    "### Random distributions"
   ]
  },
  {
   "cell_type": "code",
   "execution_count": null,
   "metadata": {},
   "outputs": [],
   "source": [
    "a = np.random.uniform(0, 100, 10) # Lower boundary, Upper boundary, Length of resulting array (number of random uniform numbers)\n",
    "print (a)\n",
    "print ()\n",
    "\n",
    "a = np.random.uniform(0, 100, (5,2)) #Third argument can be array shape\n",
    "print (a)\n",
    "print ()\n",
    "\n",
    "a = np.random.normal(0, 1, 10) ##Mean, standard deviation, number data points\n",
    "print (a)\n",
    "print ()"
   ]
  },
  {
   "cell_type": "markdown",
   "metadata": {},
   "source": [
    "Let's doublecheck this using **matplotlib**! Look to see if you have a uniform distribution first. Then, uncomment the second `a` and see if you get a normal distribution. "
   ]
  },
  {
   "cell_type": "code",
   "execution_count": null,
   "metadata": {},
   "outputs": [],
   "source": [
    "import numpy as np\n",
    "import matplotlib.pyplot as plt\n",
    "\n",
    "a = np.random.uniform(0, 1, 1000)\n",
    "#a = np.random.normal(0, 1, 1000)\n",
    "\n",
    "fig = plt.figure()\n",
    "ax = fig.add_subplot(1,1,1)\n",
    "ax.hist(a)\n",
    "plt.show()"
   ]
  },
  {
   "cell_type": "markdown",
   "metadata": {},
   "source": [
    "Let's get some summary statistics from these distributions."
   ]
  },
  {
   "cell_type": "code",
   "execution_count": null,
   "metadata": {},
   "outputs": [],
   "source": [
    "import numpy as np\n",
    "\n",
    "a = np.random.uniform(0, 1, 1000)\n",
    "b = np.random.normal(0, 1, 1000)\n",
    "\n",
    "print ('Mean')\n",
    "print (a.mean())\n",
    "print (b.mean())\n",
    "print ()\n",
    "print ('Standard Deviation')\n",
    "print (a.std())\n",
    "print (b.std())\n",
    "print ()\n",
    "print ('Minimum')\n",
    "print (a.min())\n",
    "print (b.min())\n",
    "print ()\n",
    "print ('Maximum')\n",
    "print (a.max())\n",
    "print (b.max())"
   ]
  },
  {
   "cell_type": "markdown",
   "metadata": {},
   "source": [
    "Let's go back to working with 2d arrays!"
   ]
  },
  {
   "cell_type": "code",
   "execution_count": null,
   "metadata": {},
   "outputs": [],
   "source": [
    "a=np.arange(10)\n",
    "a1=a.reshape(5,2) \n",
    "print (\"Note that you can reshape your array.\")\n",
    "print (a)\n",
    "print (a1)\n",
    "print()\n",
    "\n",
    "print (\"You can also get a tuple of the dimensions of your array.\")\n",
    "print (a.shape) #If a dimension doesn't exist, then nothing is in that tuple.\n",
    "print (a1.shape)\n",
    "print ()\n",
    "\n",
    "print (\"What is happening in each case below?\")\n",
    "print (a1.sum())\n",
    "print (a1.sum(axis=0))\n",
    "print (a1.sum(axis=1))\n"
   ]
  },
  {
   "cell_type": "markdown",
   "metadata": {},
   "source": [
    "### Why Numpy?\n",
    "1. Avoid writing loops (don't re-invent the wheel)\n",
    "2. **Efficient Computation**\n",
    "\n",
    "Regarding the second point, numpy is useful because operations using it are many times faster than their pure Python implementations.  This is because numpy processes arrays using code written in 'low-level' languages like C or Fortran.  These languages are much more tedious to write programs in, but run much faster than a 'high-level' language like Python.  However, by using Python to call functions written by other people in low-level languages, you can get the best of both worlds.\n",
    "\n",
    "**Quick performance comparison**"
   ]
  },
  {
   "cell_type": "code",
   "execution_count": null,
   "metadata": {},
   "outputs": [],
   "source": [
    "%%time\n",
    "N_ROWS = 10000;\n",
    "N_COLS = 10000;\n",
    "# Add 1 to every entry in the matrix\n",
    "python_matrix = [[1 for i in range(N_COLS)] for i in range(N_ROWS)]\n",
    "for i in range(N_ROWS):\n",
    "    for j in range(N_COLS):\n",
    "        python_matrix[i][j] += 1"
   ]
  },
  {
   "cell_type": "code",
   "execution_count": null,
   "metadata": {},
   "outputs": [],
   "source": [
    "%%time\n",
    "N_ROWS = 10000;\n",
    "N_COLS = 10000;\n",
    "numpy_matrix = np.zeros((N_ROWS , N_COLS ));\n",
    "numpy_matrix += 1;"
   ]
  },
  {
   "cell_type": "markdown",
   "metadata": {},
   "source": [
    "Because **numpy** is able to know that everything is going to be a float, it can do a lot of optimizations to the arrays that it wouldn't be able to do if each element could, conceivably be a different type. Furthermore, a lot of the time is spent checking to make sure i and j aren't too big or small for the size of the lists, while the numpy code just loads the size of the array once and never checks again."
   ]
  },
  {
   "cell_type": "markdown",
   "metadata": {},
   "source": [
    "## SciPy and Fitting\n",
    "\n",
    "SciPy (pronounced \"Sigh Pie\") is a collection of libraries that builds on NumPy, and has lots of convenient, fast functions for working with large amounts of scientific data. It's slightly smaller than NumPy, with only 900-odd pages of documentation. That includes sections on integrating C or Fortran code into Python, which is way outside the scope of this course, but if you ever do get to the point where you need a super-efficient implementation of something, you're covered. Especially in the one-off nature of academic science, you're often better served spending less time writing code that takes longer to run, compared to spending lots and lots of time writing code that runs slightly faster.\n",
    "\n",
    "The [stats](http://docs.scipy.org/doc/scipy/reference/tutorial/stats.html) module of SciPy has functions for even more statistical distributions, statistical tests, and other assorted functions that a good statistician might need. As an example, let's see how we might use the [linregress](http://docs.scipy.org/doc/scipy/reference/generated/scipy.stats.linregress.html#scipy.stats.linregress) function, which does a linear regression on some data. Linear regression is the process of finding a line that minimizes the sum of the square of the vertical distances from each point to the line.\n",
    "\n",
    "First, we'll set up some noisy data:"
   ]
  },
  {
   "cell_type": "code",
   "execution_count": 2,
   "metadata": {},
   "outputs": [
    {
     "data": {
      "text/plain": [
       "[<matplotlib.lines.Line2D at 0x1226efd10>]"
      ]
     },
     "execution_count": 2,
     "metadata": {},
     "output_type": "execute_result"
    },
    {
     "data": {
      "image/png": "[encoded data removed]",
      "text/plain": [
       "<Figure size 432x288 with 1 Axes>"
      ]
     },
     "metadata": {
      "needs_background": "light"
     },
     "output_type": "display_data"
    }
   ],
   "source": [
    "import numpy as np\n",
    "\n",
    "slope = 0.5\n",
    "intercept = -10\n",
    "\n",
    "x = np.arange(0, 100)\n",
    "y = slope*x + intercept\n",
    "noise = 5 * np.random.randn(len(x))\n",
    "\n",
    "y = y + noise\n",
    "\n",
    "# Plot the line \n",
    "import matplotlib.pyplot as plt\n",
    "plt.plot(y,'o')"
   ]
  },
  {
   "cell_type": "markdown",
   "metadata": {},
   "source": [
    "However, using a bit of linear algebra, we can actually compute the best fit linear coefficients"
   ]
  },
  {
   "cell_type": "code",
   "execution_count": 3,
   "metadata": {},
   "outputs": [
    {
     "name": "stdout",
     "output_type": "stream",
     "text": [
      "0.5364430091195438 -11.80038014227441 0.9541281535258852\n"
     ]
    },
    {
     "data": {
      "text/plain": [
       "[<matplotlib.lines.Line2D at 0x12271c050>]"
      ]
     },
     "execution_count": 3,
     "metadata": {},
     "output_type": "execute_result"
    },
    {
     "data": {
      "image/png": "[encoded data removed]",
      "text/plain": [
       "<Figure size 432x288 with 1 Axes>"
      ]
     },
     "metadata": {
      "needs_background": "light"
     },
     "output_type": "display_data"
    }
   ],
   "source": [
    "n = len(x)\n",
    "\n",
    "m = (n * sum(x * y) - sum(x) * sum(y)) / (n * sum(x**2) - (sum(x))**2)\n",
    "b = (sum(y) - m * sum(x))/n\n",
    "r = (n * sum(x * y) - sum(x) * sum(y)) / np.sqrt((n*sum(x**2) - sum(x)**2)\n",
    "* (n * sum(y**2) - sum(y)**2))\n",
    " \n",
    "print (m, b, r)\n",
    "\n",
    "y2 = m*x + b\n",
    "plt.plot(x,y)\n",
    "plt.plot(x,y2)"
   ]
  },
  {
   "cell_type": "markdown",
   "metadata": {},
   "source": [
    "This gives us pretty much the right result, but it was kind of a pain to type in. If only the libraries had some sort of function that could do linear regression for us..."
   ]
  },
  {
   "cell_type": "code",
   "execution_count": 6,
   "metadata": {},
   "outputs": [
    {
     "name": "stdout",
     "output_type": "stream",
     "text": [
      "Regression Slope:  0.5364430091195438\n",
      "Regression Intercept:  -11.800380142274411\n",
      "Regression correlation:  0.954128153525885\n",
      "R^2:,  0.9103605333507148\n",
      "p(slope is 0):  3.959585792395617e-53\n"
     ]
    }
   ],
   "source": [
    "from scipy import stats\n",
    "#stats.linregress??\n",
    "r_slope, r_int, r_rval, r_pval, r_stderr = stats.linregress(x, y)\n",
    " \n",
    "print (\"Regression Slope: \", r_slope)\n",
    "print (\"Regression Intercept: \", r_int)\n",
    "print (\"Regression correlation: \", r_rval)\n",
    "print (\"R^2:, \", r_rval**2)\n",
    "print (\"p(slope is 0): \", r_pval)"
   ]
  },
  {
   "cell_type": "code",
   "execution_count": 8,
   "metadata": {},
   "outputs": [
    {
     "data": {
      "text/plain": [
       "[<matplotlib.lines.Line2D at 0x1a251d8090>]"
      ]
     },
     "execution_count": 8,
     "metadata": {},
     "output_type": "execute_result"
    },
    {
     "data": {
      "image/png": "[encoded data removed]",
      "text/plain": [
       "<Figure size 432x288 with 1 Axes>"
      ]
     },
     "metadata": {
      "needs_background": "light"
     },
     "output_type": "display_data"
    }
   ],
   "source": [
    "y3 = r_slope*x + r_int\n",
    "plt.plot(x,y)\n",
    "plt.plot(x,y3)"
   ]
  },
  {
   "cell_type": "markdown",
   "metadata": {},
   "source": [
    "Thus, with **scipy**, it is a lot easier to calculate the regression!"
   ]
  },
  {
   "cell_type": "markdown",
   "metadata": {},
   "source": [
    "One other function that you might find useful is the **corrcoef** function, which gives you a correlation matrix between two data sets. For two 1-D sets like we have (x and y), this will give a 2x2 matrix.\n"
   ]
  },
  {
   "cell_type": "code",
   "execution_count": 9,
   "metadata": {},
   "outputs": [
    {
     "data": {
      "text/plain": [
       "array([[1.        , 0.95412815],\n",
       "       [0.95412815, 1.        ]])"
      ]
     },
     "execution_count": 9,
     "metadata": {},
     "output_type": "execute_result"
    }
   ],
   "source": [
    "np.corrcoef(x,y)"
   ]
  }
 ],
 "metadata": {
  "kernelspec": {
   "display_name": "Python 3",
   "language": "python",
   "name": "python3"
  },
  "language_info": {
   "codemirror_mode": {
    "name": "ipython",
    "version": 3
   },
   "file_extension": ".py",
   "mimetype": "text/x-python",
   "name": "python",
   "nbconvert_exporter": "python",
   "pygments_lexer": "ipython3",
   "version": "3.7.6"
  }
 },
 "nbformat": 4,
 "nbformat_minor": 2
}
