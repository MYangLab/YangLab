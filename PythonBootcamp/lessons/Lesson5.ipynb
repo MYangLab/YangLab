{
 "cells": [
  {
   "cell_type": "markdown",
   "metadata": {},
   "source": [
    "# Lesson 5: Functions and Modules\n",
    "\n",
    "## Topics:\n",
    "- Function definitions\n",
    "- Function documentation\n",
    "- Functions within functions\n",
    "- Modules\n",
    "- Modules of Interest: sys, math, collections\n",
    "- Making your own libraries\n",
    "\n",
    "## Introduction\n",
    "\n",
    "This afternoon we'll concentrate on our last fundamental programming concept for the course. To date, we've been writing all of our program logic in the main body of our scripts. And we've seen how built-in python __functions__ like __raw_input()__ are used to operate on variables and their values. In this session, we'll learn how to write __functions__ of our own, how to properly document them for ourselves and other users, and how to collect them into __modules__, and make our own local repositories, or __libraries__.\n",
    "\n",
    "If you properly leverage a well-designed function, writing the main logic of your programs becomes almost-too-easy. Instead of writing out meticulous logical statements and loops for every task, you just call forth your previously-crafted logic, which you've vested in well-made __functions__.\n",
    "\n",
    "## Functions\n",
    "\n",
    "Functions are the basic means to manage complexity in your programs, allowing you to avoid nesting and repeating large chunks of code that could otherwise make your tasks unmanageable. They allow you to bundle code with a defined input and output into single lines, and you should use them frequently from now on.\n",
    "\n",
    "```python\n",
    "def hello(name):\n",
    " greeting = \"Hello %s!\" % (name)\n",
    " return greeting\n",
    "```\n",
    "\n",
    "To define a function, you use the keyword __def__. Then comes the function name, in this case __hello__, with parentheses containing any input __arguments__ the function might need. In this case, we need a name to form a proper greeting, so we're giving the __hello()__ function a variable __argument__ called __name__. After that, the function does its thing, executing the indented block of code immediately below. In this case, it creates a greeting _Hello \"name\"!_. The last thing that it does is return that greeting to the rest of the program.\n",
    "\n",
    "Once created, you call on the function as your normally would:\n",
    "\n",
    "```python\n",
    "myinput = \"class\"\n",
    "myoutput = hello(myinput)\n",
    "\n",
    "print myoutput\n",
    "\n",
    ">> 'Hello class!'\n",
    "```\n",
    "\n",
    "Technically speaking, a function does not need to explicitly return something, although it's uncommon that you'll write any that don't. If you don't return something explicitly, Python will nevertheless return the special object None. None is logically false (for if statements), and printing None will result in nothing being printed (although None is not the empty string). It's easy to forget to return a value, so this is an easy first thing to check in case your functions don't work as expected.\n",
    "\n",
    "```python\n",
    "def hello(name):\n",
    " greeting = \"Hello %s!\" % (name)\n",
    " ##return greeting\n",
    "\n",
    "myinput = \"class\"\n",
    "myoutput = hello(myinput)\n",
    "\n",
    "print myoutput\n",
    "\n",
    ">> None\n",
    "```"
   ]
  },
  {
   "cell_type": "code",
   "execution_count": null,
   "metadata": {},
   "outputs": [],
   "source": [
    "def hello(name):\n",
    " greeting = \"Hello %s!\" % (name)\n",
    " return greeting\n",
    "\n",
    "myinput = \"class\"\n",
    "myoutput = hello(myinput)\n",
    "\n",
    "print myoutput"
   ]
  },
  {
   "cell_type": "markdown",
   "metadata": {},
   "source": [
    "Now, let's look at another function:\n",
    "\n",
    "```python\n",
    "def hello(name):\n",
    " greeting = \"Hello %s!\" % (name)\n",
    " testVariable = \"\"\"The hotel room is a mess, there's a chicken hangin'\n",
    "                   out, somebody's baby is in the closet, there's a\n",
    "                   tiger in the bathroom that Mike Tyson wants back, Stu\n",
    "                   lost a tooth and eloped, and Doug is missing.\"\"\"\n",
    " print 'Inside of the function:', testVariable\n",
    " return greeting\n",
    " \n",
    "testVariable = \"What happens in Vegas stays in Vegas.\"\n",
    "grt = hello(\"Stu Price\")\n",
    "print 'Outside of the function:', testVariable\n",
    "```\n",
    "\n",
    "Even though the epic story of a bachelor party gone horrifically awry was assigned to a variable called __testVariable__ inside the function, nothing happened to that variable outside the function. Variables created inside a function occupy their own __namespace__ in memory distinct from variables outside of the function, and so reusing names between the two can be done without you having to keep track of it. (Refer to the article http://bytebaker.com/2008/07/30/python-namespaces/ about __namespace__ for more information.) That means you can use functions written by other people without having to keep track of what variables those functions are using internally. Just like a sleazy town in Nevada, what happens in the function stays in the function. (An important exception lies with lists and dictionaries, which you will examine in the exercises.)\n",
    "\n",
    "1. What happens if you try to print **testVariable** outside of the function and you don't assign anything to it?\n",
    "\n",
    "Everything you have learned to write in python so far can go into a function -- they are a means of organizing your code, and are best used after you write a series of commands you expect to often use. Turning that series of commands into a function makes it easy to repeat that set of commands over and over, while keeping the code easy to read. "
   ]
  },
  {
   "cell_type": "code",
   "execution_count": null,
   "metadata": {},
   "outputs": [],
   "source": [
    "def hello(name):\n",
    " greeting = \"Hello %s!\" % (name)\n",
    " testVariable = \"\"\"The hotel room is a mess, there's a chicken hangin'\n",
    "                   out, somebody's baby is in the closet, there's a\n",
    "                   tiger in the bathroom that Mike Tyson wants back, Stu\n",
    "                   lost a tooth and eloped, and Doug is missing.\"\"\"\n",
    " #print 'Inside of the function:', testVariable\n",
    " return greeting\n",
    " \n",
    "testVariable = \"What happens in Vegas stays in Vegas.\"\n",
    "grt = hello(\"Stu Price\")\n",
    "print 'Outside of the function:', testVariable"
   ]
  },
  {
   "cell_type": "markdown",
   "metadata": {},
   "source": [
    "Here are some other examples, involving **print**."
   ]
  },
  {
   "cell_type": "code",
   "execution_count": null,
   "metadata": {
    "collapsed": true
   },
   "outputs": [],
   "source": [
    "def useless():\n",
    "    print 'What was the point of that?'\n",
    "    print\n",
    "    \n",
    "useless()\n",
    "\n",
    "'''\n",
    "def countToTen():\n",
    "    for i in range(10):\n",
    "        print i\n",
    " \n",
    "countToTen()\n",
    "\n",
    "print \"Call function within function\"\n",
    "def calluseless():\n",
    "    print \"Let's use the function useless()\"\n",
    "    useless()\n",
    " \n",
    "calluseless()\n",
    "'''"
   ]
  },
  {
   "cell_type": "markdown",
   "metadata": {},
   "source": [
    "What happens in the above commands? Notice that what you print inside the function gets printed if you call on the function, even if you don't return anything. However, it won't print anything inside the function unless you call on the function. Finally, you can call on functions from inside functions!\n",
    "\n",
    "We've shown examples with one input variable and one return value, but functions can accept zero input variables, one input variable, or multiple input variables, and functions don't necessarily need to return variables back to the program, but they are also capable of returning multiple variables.\n",
    "\n",
    "Here's an example with multiple input variables and multiple output variables."
   ]
  },
  {
   "cell_type": "code",
   "execution_count": null,
   "metadata": {},
   "outputs": [],
   "source": [
    "def doLaundry(amtDetergent, dirtyClothes): ##amtDetergent is integer, dirtyClothes is list\n",
    "    if type(amtDetergent) != int: return (None, \"type error\")\n",
    "    cleanClothes = []\n",
    "    for load in dirtyClothes:\n",
    "        amtDetergent -= 1\n",
    "        cleanClothes.append(load)\n",
    "    return (amtDetergent, cleanClothes)\n",
    " \n",
    "amtTide = 5\n",
    "print \"Starting amount of Tide:\",amtTide\n",
    "print \"Let's do some laundry!\"\n",
    "dirtyLaundry = ['socks','shirts','pants']\n",
    "(amtTide, cleanLaundry) = doLaundry(amtTide, dirtyLaundry)\n",
    "print \"Amount of Tide left:\", amtTide\n",
    "print \"Clean laundry includes:\", cleanLaundry"
   ]
  },
  {
   "cell_type": "markdown",
   "metadata": {},
   "source": [
    "Above, in __doLaundry()__, I returned a __tuple__ of the two variables enclosed in parenthesis. You could also return a __list__, which works much the same way. You could return other objects as well, like __dictionaries__. Below is an example where we return a list.\n",
    "\n",
    "```python\n",
    "def returnStuff():\n",
    "    a = '>Gene1'\n",
    "    b = 'ATGGTGGG'\n",
    "    return [a,b] \n",
    "\n",
    "## We can only assign to a single variable as a list.\n",
    "both = returnStuff()\n",
    "\n",
    "## Or we can immediately assign to multiple variables.\n",
    "name, seq = returnStuff()\n",
    "\n",
    "## We can index the output the same as any list.\n",
    "returnStuff()[0]\n",
    "returnStuff()[1]\n",
    "\n",
    "## We can make a dictionary directly from the function.\n",
    "dictOfStuff = {returnStuff()[0][1:]:returnStuff()[1]}\n",
    "\n",
    "```"
   ]
  },
  {
   "cell_type": "code",
   "execution_count": null,
   "metadata": {},
   "outputs": [],
   "source": [
    "def returnStuff():\n",
    "    a = '>Gene1'\n",
    "    b = 'ATGGTGGG'\n",
    "    return [a,b] \n",
    "\n",
    "## We can only assign to a single variable as a list.\n",
    "both = returnStuff()\n",
    "print both\n",
    "\n",
    "## Or we can immediately assign to multiple variables.\n",
    "#name, seq = returnStuff()\n",
    "#print name\n",
    "#print seq\n",
    "\n",
    "## We can index the output the same as any list.\n",
    "#print returnStuff()[0]\n",
    "#print returnStuff()[1]\n",
    "\n",
    "## We can make a dictionary directly from the function.\n",
    "#dictOfStuff = {returnStuff()[0][1:]:returnStuff()[1]}\n",
    "#print dictOfStuff"
   ]
  },
  {
   "cell_type": "markdown",
   "metadata": {},
   "source": [
    "So how do functions make our lives easier? We can exploit functions to break difficult tasks into a number of easier tasks, and then these easier tasks into ones easier still, and so on. Large code blocks, with a few function calls, are only tens of lines long, and many functions are only a handful of lines. This allows us to program in large, structural sweeps, rather than getting lost in the details. This makes programs both easier to write and easier to read:\n",
    "\n",
    "```python\n",
    "##Don't copy this into a script!\n",
    " \n",
    "def publishAPaper(authors,topic,journal):\n",
    " data = doWork(topic)\n",
    " figures = analyze(data)\n",
    " paper = writePaper(data,figures)\n",
    " submit(authors,paper,journal)\n",
    "```\n",
    "\n",
    "And, a big part of that ease comes with the use of:\n",
    "\n",
    "## Modules\n",
    "\n",
    "In all of the examples above, we defined our functions right above the code that we hoped to execute. If you have many functions, you can see how this would get messy in a hurry. Furthermore, part of the benefit of functions is that you can call them multiple times within a program to execute the same operations without tiresomely writing them all out again. But wouldn't it be nice to share functions across programs, too? For example, working with genomic data means lots of time getting sequence out of FASTA files, and shuttling that sequence from program to program. Many of the programs we work with overlap to a significant degree, as they need to parse FASTA files, calculate evolutionary rates, and interface with our lab servers, for example -- all of which means that many of them share functions. And if the same function exists in two or more different programs, we hit the same problems that we hit before: complex debugging, decreased readability, and, of course, too much typing.\n",
    "\n",
    "__Modules__ solve these problems. In short, they're collections of functions and variables (and often objects, which we'll get to towards the end of the course) that are kept together in a single file that can be read and imported by any number of programs.\n",
    "\n",
    "### Using a module: the basics\n",
    "\n",
    "To illustrate the basics, we'll go through the use of two modules, __sys__ and __math__, one of which we use almost all the time. In fact, it's a very rare program indeed that doesn't use the __sys__ module. __sys__ contains a lot of really esoteric functions, but it also contains a simple, everyday thing -- what you typed on the command line.\n",
    "\n",
    "We are going to write a script, and like we learned on the first day of class, write it to a file to run and then run it through using %%bash in a cell below.\n",
    "\n",
    "### A quick aside on variables in bash!\n",
    "\n",
    "I gave you some basic commands in Unix the first day, but have not said much else. Hongru will give you a more advanced lesson in Unix, but a short lesson here is on variables. \n",
    "```bash\n",
    "x='myfile'\n",
    "\n",
    "echo ${x}\n",
    "\n",
    ">> 'myfile'\n",
    "```\n",
    "\n",
    "The line initializing the variable must have no spaces and you write the variable within the brackets of **${ }** where you want your variable contents to appear. \n",
    "\n",
    "Like for python, I did not need to set the path directory to a variable. I just like to do so because it helps me see my code more clearly."
   ]
  },
  {
   "cell_type": "code",
   "execution_count": null,
   "metadata": {},
   "outputs": [],
   "source": [
    "%%writefile /Users/melyang/Desktop/PythonBootcamp2017/lessons/lesson5_example1.py\n",
    "\n",
    "import sys # gaining access to the module\n",
    " \n",
    "# you can access variables stored in the module by using a dot\n",
    "# to get at the variable 'argv' which is stored in 'sys', type:\n",
    " \n",
    "commandLine = sys.argv\n",
    " \n",
    "print commandLine"
   ]
  },
  {
   "cell_type": "code",
   "execution_count": null,
   "metadata": {},
   "outputs": [],
   "source": [
    "%%bash\n",
    "pd=\"/Users/melyang/Desktop/PythonBootcamp2017/lessons/\"\n",
    "python ${pd}lesson5_example1.py\n",
    "##Now try adding more things after the \".py\" script!"
   ]
  },
  {
   "cell_type": "markdown",
   "metadata": {},
   "source": [
    "The __sys__ module contains a variable __argv__, which is a list of strings composed of what was written into the command line, where each of the different strings are separated by whitespaces. We can access this list __argv__ from our program by importing the module sys and calling __sys.argv__.\n",
    "\n",
    "This is a lot more convenient than **raw_input** which we have been using, as it requires one line. However, it might need more documentation in comments or otherwise to remind yourself what you were doing in the script. \n",
    "\n",
    "This method of quickly assigning variables is incredibly useful, as it allows you to run the same script multiple times without manually editing the code each time. \n",
    "\n",
    "With the **sys** module we accessed a variable. We can also access functions stored inside modules. To demonstrate this, I'll use the module __math__. The following script can be found in _example2.py_. Try typing __python lesson5_example2.py 3__ into the terminal."
   ]
  },
  {
   "cell_type": "code",
   "execution_count": null,
   "metadata": {},
   "outputs": [],
   "source": [
    "%%writefile /Users/melyang/Desktop/PythonBootcamp2017/lessons/lesson5_example2.py\n",
    "import sys\n",
    "import math\n",
    " \n",
    "# sys.argv contains only strings, even if you type integers.\n",
    "# And, remember, the first element is the command itself-- usually\n",
    "# not very useful.\n",
    "##x = 15.0\n",
    "x = float(sys.argv[1]) # argv stores the command line arguments as\n",
    "                       # strings, but python isn't especially clever,\n",
    "                       # so we can't do math with strings\n",
    "logX = math.log(x)\n",
    "\n",
    "print logX"
   ]
  },
  {
   "cell_type": "code",
   "execution_count": null,
   "metadata": {},
   "outputs": [],
   "source": [
    "%%bash\n",
    "pd=\"/Users/melyang/Desktop/PythonBootcamp2017/lessons/\"\n",
    "python ${pd}lesson5_example2.py 3"
   ]
  },
  {
   "cell_type": "markdown",
   "metadata": {},
   "source": [
    "The **math** module provides many more functions that help you to perform numerical operations. You can visit [this link](https://docs.python.org/2/library/math.html), to find a full list of functions. Also, don't forget that you can use the tab and \"??\" option in the notebook to interactively investigate yourself. Just remember to write \"math.\" and then pressing tab to see the available list of functions. \n",
    "\n",
    "### Modules have more than just functions: The collections module\n",
    "\n",
    "We already knew this: **sys.argv** is a list. Another thing that modules often contain is datatypes. Just as Python has some built-in datatypes (like int, list, str, and dict), it's also possible (although outside the scope of this course) to create full-fledged data types of your own.\n",
    "\n",
    "One of the more useful of these is the collections module. It has a bunch of new data types that are, as you might guess from the name, collections of other things. There are two of them that I use with some regularity: **collections.Counter** and **collections.defaultdict**. Let's start with **collections.Counter**, which counts things."
   ]
  },
  {
   "cell_type": "code",
   "execution_count": null,
   "metadata": {},
   "outputs": [],
   "source": [
    "import collections\n",
    " \n",
    "my_genera = ['Helicobacter', 'Escherichia', 'Lactobacillus', 'Lactobacillus', 'Oryza',\n",
    " 'Wolbachia', 'Oryza', 'Rattus', 'Lactobacillus', 'Drosophila']\n",
    "\n",
    "b = {}\n",
    "for genus in my_genera:\n",
    "    if genus not in b:\n",
    "        b[genus] = 0\n",
    "    b[genus] += 1\n",
    "\n",
    "c = collections.Counter(my_genera)\n",
    "    \n",
    "d = collections.Counter()\n",
    "for genus in my_genera:\n",
    "    d[genus] += 1\n",
    "    \n",
    "print b\n",
    "#print c\n",
    "#print d"
   ]
  },
  {
   "cell_type": "markdown",
   "metadata": {},
   "source": [
    "Above, we have a list of genera. If we wanted a dictionary including the number of times each genus appears in the list, we would do as written above for **b** - iterate through the list, check if the genus name is already in the initialized dictionary **b**, and if not, make a category. \n",
    "\n",
    "With the **collections** module we can do this much more quickly. For instance, **collections.Counter** is a function that turns a list into a Counter data type (see **c**), which acts like a dictionary only it always have keys of stuff you are counting and values indicating the count of each key. \n",
    "\n",
    "You can also create an empty Counter, as we do in **d**. In this case, we can immediately add a count as we iterate, as the check for the key is done automatically, and a dictionary entry is created by default if the key is not present. \n",
    "\n",
    "Using a __Counter__ is faster to write and makes it more obvious that we are counting, as opposed to a dictionary, which could be used for almost anything. Another big advantage of the __Counter__ type is that it makes it really easy to sort by frequency:\n",
    "\n",
    "```python\n",
    "print c\n",
    "print c.most_common()\n",
    "\n",
    ">> Counter({'Lactobacillus': 3, 'Oryza': 2, 'Drosophila': 1, 'Escherichia': 1, 'Rattus': 1, 'Wolbachia': 1, 'Helicobacter': 1})\n",
    ">> [('Lactobacillus', 3), ('Oryza', 2), ('Drosophila', 1), ('Escherichia', 1), ('Rattus', 1), ('Wolbachia', 1), ('Helicobacter', 1)]\n",
    "```\n",
    "The **most_common** method for the Counter data object creates a list of tuples of (key, value), sorted from the highest value to the lowest value. "
   ]
  },
  {
   "cell_type": "code",
   "execution_count": null,
   "metadata": {},
   "outputs": [],
   "source": [
    "print c\n",
    "print c.most_common()"
   ]
  },
  {
   "cell_type": "markdown",
   "metadata": {},
   "source": [
    "The other collections type I really like is the __defaultdict__, which is also like a dictionary, but has a default type for a key that we haven't seen before (with a normal dictionary, if you try to read something where the key isn't in the dict, then you get an error). Let's think about how we'd make a dictionary where each key is a genus, and the value is a list of species in that genus:\n",
    "\n",
    "```python\n",
    "\n",
    "my_species_list = [('Helicobacter','pylori'), ('Escherichia','coli'),\n",
    "              ('Lactobacillus', 'helveticus'), ('Lactobacillus', 'acidophilus'),\n",
    "              ('Oryza', 'sativa'), ('Wolbachia', 'pipientis'), ('Oryza', 'glabberima'),\n",
    "              ('Rattus', 'norvegicus'), ('Lactobacillus','casei'),\n",
    "              ('Drosophila','melanogaster')]\n",
    "\n",
    "d2 = collections.defaultdict(list)\n",
    " \n",
    "for genus, species in my_species_list:\n",
    "    d2[genus].append(species)\n",
    "```\n",
    "\n",
    "Here, if you specify your values are lists, it will, like in Counter, automatically check for you if the key is present and initialize it as an empty list if it is not. Likewise, you can specify any default data type. "
   ]
  },
  {
   "cell_type": "code",
   "execution_count": null,
   "metadata": {},
   "outputs": [],
   "source": [
    "my_species_list = [('Helicobacter','pylori'), ('Escherichia','coli'),\n",
    "              ('Lactobacillus', 'helveticus'), ('Lactobacillus', 'acidophilus'),\n",
    "              ('Oryza', 'sativa'), ('Wolbachia', 'pipientis'), ('Oryza', 'glabberima'),\n",
    "              ('Rattus', 'norvegicus'), ('Lactobacillus','casei'),\n",
    "              ('Drosophila','melanogaster')]\n",
    "\n",
    "d2={}\n",
    "#d2 = collections.defaultdict(list)\n",
    "\n",
    "for genus, species in my_species_list:\n",
    "    d2[genus].append(species)\n",
    "\n",
    "print d2"
   ]
  },
  {
   "cell_type": "markdown",
   "metadata": {},
   "source": [
    "## Making a module\n",
    "\n",
    "Here, we have been using modules developed by other people, but we can make our own modules too!\n",
    "\n",
    "Any file of python code with a _.py_ extension can be imported as a module from your script. When you invoke an import operation from a program, all the statements in the imported module are executed immediately. The program also gains access to names assigned in the file (names can be functions, variables, classes, etc.), which can be invoked in the program using the syntax __module.name__. Make the following script in the file *greeting.py* in the lessons/ folder:"
   ]
  },
  {
   "cell_type": "code",
   "execution_count": null,
   "metadata": {},
   "outputs": [],
   "source": [
    "%%writefile /Users/melyang/Desktop/PythonBootcamp2017/lessons/greetings.py\n",
    "\n",
    "\n",
    "print 'The top of the greeting_module has been read.'\n",
    " \n",
    "def hello(name):\n",
    " greeting = \"Hello %s!\" % name\n",
    " return greeting\n",
    " \n",
    "def nihao(name):\n",
    " greeting = \"Ni hao from China, %s!\" % name\n",
    " return greeting\n",
    " \n",
    "x = 5\n",
    " \n",
    "print 'The bottom of the greeting_module has been read.'"
   ]
  },
  {
   "cell_type": "markdown",
   "metadata": {},
   "source": [
    "Let's also make a script called \"lesson5_example3.py\" where we use the **greetings** module. \n",
    "\n"
   ]
  },
  {
   "cell_type": "code",
   "execution_count": null,
   "metadata": {},
   "outputs": [],
   "source": [
    "%%writefile /Users/melyang/Desktop/PythonBootcamp2017/lessons/lesson5_example3.py\n",
    "\n",
    "import greetings\n",
    " \n",
    "hi = greetings.hello('person')\n",
    "print hi\n",
    "print greetings.x\n",
    "\n",
    "# What happens if you try 'print x' here?"
   ]
  },
  {
   "cell_type": "code",
   "execution_count": null,
   "metadata": {},
   "outputs": [],
   "source": [
    "%%bash\n",
    "\n",
    "pD=\"/Users/melyang/Desktop/PythonBootcamp2017/lessons/\"\n",
    "\n",
    "python ${pD}lesson5_example3.py"
   ]
  },
  {
   "cell_type": "markdown",
   "metadata": {},
   "source": [
    "Notice that it runs through all of greeting module first, so anything that is printed out in *greeting_module.py* is also printed out before anything in *lesson5_example3.py* is run.\n",
    "\n",
    "1. Can you think of a fast and easy way to make it print out a greeting to whomever you might meet?\n",
    "\n",
    "And that's it! See-- no more messy function declarations at the beginning of your script. Now if you need any other program to say hi to you, all you need to do is import the greeting module.\n",
    "\n",
    "## Using modules: slightly more than just 'import'\n",
    "\n",
    "Although creating a basic module is easy, sometimes you want more than just the basics. And although using a module in the most basic manner is easy, it's best to get a more thorough picture of how modules behave.\n",
    "\n",
    "First, what if you only want one function from a given module? For instance, in China most people wouldn't understand what you meant by \"hello\", so \"nihao\" might be a better greeting. We need to use a modified syntax for retrieving _only_ the __nihao__ function from the module, without cluttering things up by loading the English __hello__ function.\n",
    "\n",
    "Let's make \"lesson5_example4.py\""
   ]
  },
  {
   "cell_type": "code",
   "execution_count": null,
   "metadata": {},
   "outputs": [],
   "source": [
    "%%writefile /Users/melyang/Desktop/PythonBootcamp2017/lessons/lesson5_example4.py\n",
    "\n",
    "from greetings import nihao\n",
    " \n",
    "hi = nihao('everybody')\n",
    "print hi"
   ]
  },
  {
   "cell_type": "code",
   "execution_count": null,
   "metadata": {},
   "outputs": [],
   "source": [
    "%%bash\n",
    "\n",
    "pD=\"/Users/melyang/Desktop/PythonBootcamp2017/lessons/\"\n",
    "\n",
    "python ${pD}lesson5_example4.py"
   ]
  },
  {
   "cell_type": "markdown",
   "metadata": {},
   "source": [
    "We see that we can now write __nihao('everybody')__ directly, instead of having to write __greetings.nihao('everybody')__. And if we wanted to access both functions this way, we could import them both in one statement by changing the import line to the following:\n",
    "\n",
    "```python\n",
    "from greetings import nihao, hello\n",
    "```\n",
    "\n",
    "Or, what if there were a lot of functions from the __greeting_module__ we wanted to use, but didn't want to write out the full name? Rather than writing out all of the function names to import individually (there could be a lot of them), we can use the asterisk wildcard (*) symbol to refer to them.\n",
    "\n",
    "```python\n",
    "from greeting_module import *\n",
    "```\n",
    "\n",
    "While this may be useful if we are familiar with the contents of the __module__, including all of the __names__ inside, there are a few reasons to be careful about using the __from modulename import *__ syntax. First, if the module contains a lot of variables that we don't need to use, we will needlessly allocate memory to storing the information. Second, and perhaps more importantly, if the module being imported contains variables with the same names as those inside your program, you will lose access to the original values of those variables.\n",
    "\n",
    "For example, would might have a problem if both _yourprogram.py_ and _yourmodule.py_ each define distinct functions called __hello()__. If instead you use the syntax __import yourmodule__, then you can call the function in _yourprogram.py_ using __hello()__ and you can call the function in _yourmodule.py_ using __yourmodule.hello()__. If you want to import a whole module, but don't want to type out it's full name every time, you can use the syntax: __import a_long_module_name as mname__.\n",
    "\n",
    "```python\n",
    "import greetings as greets\n",
    "```\n",
    "\n",
    "Finally, you can also import variables from modules and assign them new names in your program using the syntax __from modulename import variablename as newvariablename__.\n",
    "\n",
    "```python\n",
    "from greetings import nihao as chinesehello\n",
    "```"
   ]
  },
  {
   "cell_type": "markdown",
   "metadata": {},
   "source": [
    "## Where to Store Your Modules: using PYTHONPATH\n",
    "\n",
    "Over time, you'll end up accumulating lots of these modules, and they'll tend to fall together in meaningful collections. For example, you might have a module for all your functions related to reading and parsing files, called *files_tools.py*. You might have another for common sequence-related tasks, called *sequence_tools.py*. Python keeps its modules installed in a system directory that you may or may not have access to on a remote server. Therefore, it's useful and simpler to just create your own python modules directory and then let your operating system environment know about it. \n",
    "\n",
    "Here, I accomplish this by placing my modules in a new folder I make called pylib.  The pylib folder can be placed anywhere, but keep in mind what is the path to the directory and whether this is a convenient place to keep the modules. Then, you can set up a command in the hidden file *.bash_profile* in the home directory. \n",
    "\n",
    "You will be copy/pasting the following commands into the Terminal, which will add new lines into your *~/.bash_profile* that will direct python to look into your pylib folder. Make sure you change the path of your folder into your actual path file to pylib (you can use __pwd__ in your terminal to check the path of the pylib directory.\n",
    "\n",
    "```bash\n",
    "%%bash\n",
    "echo 'PYTHONPATH=$PYTHONPATH:<your path to the pylib directory>' >> ~/.bash_profile\n",
    "echo 'export PYTHONPATH' >> ~/.bash_profile\n",
    "source ~/.bash_profile\n",
    "```\n",
    "\n",
    "NOTE: The **source** makes your current shell process the changes you made to the *.bash_profile*. If you are getting errors, exiting out of the notebook and opening it again in a new terminal might help. \n",
    "\n",
    "NOTE: *.bash_profile* vs. _.bashrc_: In Linux, *.bash_profile* is run upon login while _.bashrc_ is run each time a new terminal is open. Thus, __if you are using Linux and it isn't working__, try inputting the following commands and see if it works. [This link](http://www.joshstaiger.org/archives/2005/07/bash_profile_vs.html) gives a pretty good summary of the difference in the two hidden files.\n",
    "\n",
    "```bash\n",
    "%%bash\n",
    "echo 'PYTHONPATH=<your path to the pylib directory>' >> ~/.bashrc\n",
    "echo 'export PYTHONPATH' >> ~/.bashrc\n",
    "source ~/.bashrc\n",
    "```\n",
    "And with that, any file that ends up in this directory will be treated as a module by Python. And though this is a good final resting place for your polished modules, you can also prototype them by simply saving them in your current working directory, and moving them over when you're happy with them."
   ]
  },
  {
   "cell_type": "code",
   "execution_count": null,
   "metadata": {
    "collapsed": true
   },
   "outputs": [],
   "source": []
  }
 ],
 "metadata": {
  "kernelspec": {
   "display_name": "Python 2",
   "language": "python",
   "name": "python2"
  },
  "language_info": {
   "codemirror_mode": {
    "name": "ipython",
    "version": 2
   },
   "file_extension": ".py",
   "mimetype": "text/x-python",
   "name": "python",
   "nbconvert_exporter": "python",
   "pygments_lexer": "ipython2",
   "version": "2.7.13"
  }
 },
 "nbformat": 4,
 "nbformat_minor": 2
}
